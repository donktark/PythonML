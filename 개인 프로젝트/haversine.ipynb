{
 "cells": [
  {
   "cell_type": "markdown",
   "metadata": {},
   "source": [
    "# 좌표상에서 가장 가까운 요소 찾기 (Haver Sine 공식)\n",
    "예시 : 수도권 지하철역별로 가장 가까운 영화관과 거리 값 표시(km)"
   ]
  },
  {
   "cell_type": "code",
   "execution_count": 47,
   "id": "215db9f5",
   "metadata": {},
   "outputs": [],
   "source": [
    "import pandas as pd\n",
    "import numpy as np\n",
    "from haversine import haversine\n",
    "import os"
   ]
  },
  {
   "cell_type": "code",
   "execution_count": 48,
   "metadata": {},
   "outputs": [],
   "source": [
    "# os.chdir('../') #워킹디렉토리에서 한칸 위로 가는 코드(안 써도 됨)"
   ]
  },
  {
   "cell_type": "code",
   "execution_count": 49,
   "id": "13e1d31e",
   "metadata": {},
   "outputs": [],
   "source": [
    "#지하철역 결측치 제거\n",
    "subway = pd.read_csv('haver sine/지하철 좌표(위경도).csv')\n",
    "subway.replace([np.inf, -np.inf], np.nan)\n",
    "subway.dropna(inplace=True)\n",
    "subway = subway[['name', 'lat', 'lng']]\n",
    "subway.reset_index(inplace=True)\n",
    "\n",
    "#영화관 결측치 제거, 영업중인 영화관만 고르기\n",
    "theater = pd.read_csv('haver sine/영화관 좌표(위경도).csv')\n",
    "theater.replace([np.inf, -np.inf], np.nan)\n",
    "theater.dropna(inplace=True)\n",
    "theater = theater[theater['상세영업상태명']=='영업중']\n",
    "theater = theater[['사업장명','Lat','Lon']]\n",
    "theater.reset_index(inplace=True)"
   ]
  },
  {
   "cell_type": "code",
   "execution_count": 50,
   "metadata": {},
   "outputs": [
    {
     "name": "stdout",
     "output_type": "stream",
     "text": [
      "------지하철역 좌표 데이터------\n",
      "   index name        lat         lng\n",
      "0      0   녹양  37.759380  127.042292\n",
      "1      1   남영  37.541021  126.971300\n",
      "2      2   용산  37.529849  126.964561\n",
      "3      3  노량진  37.514219  126.942454\n",
      "4      4   대방  37.513342  126.926382\n",
      "------영화관 좌표 데이터------\n",
      "   index         사업장명        Lat         Lon\n",
      "0      0    CGV 방학 4관  37.665184  127.040964\n",
      "1      1    CGV 방학 6관  37.665184  127.040964\n",
      "2      2    CGV 방학 5관  37.665184  127.040964\n",
      "3      3  CGV 방학 4DX관  37.665184  127.040964\n",
      "4      4    CGV 방학 2관  37.665184  127.040964\n"
     ]
    }
   ],
   "source": [
    "print(\"------지하철역 좌표 데이터------\")\n",
    "print(subway.head())\n",
    "print(\"------영화관 좌표 데이터------\")\n",
    "print(theater.head())"
   ]
  },
  {
   "cell_type": "code",
   "execution_count": 51,
   "id": "f8223139",
   "metadata": {},
   "outputs": [],
   "source": [
    "#하버사인 거리 계산_ 지하철역 기준 영화관 최단거리\n",
    "subway_name = []\n",
    "theater_name = []\n",
    "between_dist = []\n",
    "for i in range(0, len(subway)):\n",
    "    min_distance = 100\n",
    "    subway_xy = (subway[\"lat\"][i], subway[\"lng\"][i])\n",
    "    for j in range(0, len(theater)):\n",
    "        theater_xy = (theater[\"Lat\"][j], theater[\"Lon\"][j])\n",
    "        distance = haversine(subway_xy, theater_xy, 'km')\n",
    "        if distance < min_distance:\n",
    "            min_distance = distance\n",
    "            near_subway = subway['name'][i]\n",
    "            near_theater = theater['사업장명'][j]\n",
    "    subway_name.append(near_subway)\n",
    "    theater_name.append(near_theater)\n",
    "    between_dist.append(min_distance)"
   ]
  },
  {
   "cell_type": "code",
   "execution_count": 52,
   "id": "5a293d3d",
   "metadata": {},
   "outputs": [],
   "source": [
    "nearest_theater = np.column_stack((subway_name, theater_name, between_dist))\n",
    "nearest_theater = pd.DataFrame(nearest_theater) #Data Frame으로 보기 편하게 변경\n",
    "nearest_theater.columns = ['지하철역명', '영화관명', '거리(km)']"
   ]
  },
  {
   "cell_type": "code",
   "execution_count": 53,
   "metadata": {},
   "outputs": [
    {
     "data": {
      "text/html": [
       "<div>\n",
       "<style scoped>\n",
       "    .dataframe tbody tr th:only-of-type {\n",
       "        vertical-align: middle;\n",
       "    }\n",
       "\n",
       "    .dataframe tbody tr th {\n",
       "        vertical-align: top;\n",
       "    }\n",
       "\n",
       "    .dataframe thead th {\n",
       "        text-align: right;\n",
       "    }\n",
       "</style>\n",
       "<table border=\"1\" class=\"dataframe\">\n",
       "  <thead>\n",
       "    <tr style=\"text-align: right;\">\n",
       "      <th></th>\n",
       "      <th>지하철역명</th>\n",
       "      <th>영화관명</th>\n",
       "      <th>거리(km)</th>\n",
       "    </tr>\n",
       "  </thead>\n",
       "  <tbody>\n",
       "    <tr>\n",
       "      <th>0</th>\n",
       "      <td>녹양</td>\n",
       "      <td>롯데시네마 노원수락산역 제5관</td>\n",
       "      <td>9.255280393428219</td>\n",
       "    </tr>\n",
       "    <tr>\n",
       "      <th>1</th>\n",
       "      <td>남영</td>\n",
       "      <td>씨지브이 용산아이파크몰 제11관</td>\n",
       "      <td>1.3071420273389442</td>\n",
       "    </tr>\n",
       "    <tr>\n",
       "      <th>2</th>\n",
       "      <td>용산</td>\n",
       "      <td>씨지브이 용산아이파크몰 제11관</td>\n",
       "      <td>0.2715443160411054</td>\n",
       "    </tr>\n",
       "    <tr>\n",
       "      <th>3</th>\n",
       "      <td>노량진</td>\n",
       "      <td>CGV여의도 5관 [CGV아트하우스]</td>\n",
       "      <td>2.1346923947867036</td>\n",
       "    </tr>\n",
       "    <tr>\n",
       "      <th>4</th>\n",
       "      <td>대방</td>\n",
       "      <td>CGV여의도 5관 [CGV아트하우스]</td>\n",
       "      <td>1.3405523288363446</td>\n",
       "    </tr>\n",
       "    <tr>\n",
       "      <th>...</th>\n",
       "      <td>...</td>\n",
       "      <td>...</td>\n",
       "      <td>...</td>\n",
       "    </tr>\n",
       "    <tr>\n",
       "      <th>692</th>\n",
       "      <td>지식정보단지</td>\n",
       "      <td>떼아뜨르 이동영화</td>\n",
       "      <td>21.504585116185407</td>\n",
       "    </tr>\n",
       "    <tr>\n",
       "      <th>693</th>\n",
       "      <td>인천대입구</td>\n",
       "      <td>떼아뜨르 이동영화</td>\n",
       "      <td>21.474036332515723</td>\n",
       "    </tr>\n",
       "    <tr>\n",
       "      <th>694</th>\n",
       "      <td>센트럴파크</td>\n",
       "      <td>떼아뜨르 이동영화</td>\n",
       "      <td>21.447187054194494</td>\n",
       "    </tr>\n",
       "    <tr>\n",
       "      <th>695</th>\n",
       "      <td>국제업무지구</td>\n",
       "      <td>떼아뜨르 이동영화</td>\n",
       "      <td>21.437183671569333</td>\n",
       "    </tr>\n",
       "    <tr>\n",
       "      <th>696</th>\n",
       "      <td>간석오거리</td>\n",
       "      <td>떼아뜨르 이동영화</td>\n",
       "      <td>12.518219976016729</td>\n",
       "    </tr>\n",
       "  </tbody>\n",
       "</table>\n",
       "<p>697 rows × 3 columns</p>\n",
       "</div>"
      ],
      "text/plain": [
       "      지하철역명                  영화관명              거리(km)\n",
       "0        녹양      롯데시네마 노원수락산역 제5관   9.255280393428219\n",
       "1        남영     씨지브이 용산아이파크몰 제11관  1.3071420273389442\n",
       "2        용산     씨지브이 용산아이파크몰 제11관  0.2715443160411054\n",
       "3       노량진  CGV여의도 5관 [CGV아트하우스]  2.1346923947867036\n",
       "4        대방  CGV여의도 5관 [CGV아트하우스]  1.3405523288363446\n",
       "..      ...                   ...                 ...\n",
       "692  지식정보단지             떼아뜨르 이동영화  21.504585116185407\n",
       "693   인천대입구             떼아뜨르 이동영화  21.474036332515723\n",
       "694   센트럴파크             떼아뜨르 이동영화  21.447187054194494\n",
       "695  국제업무지구             떼아뜨르 이동영화  21.437183671569333\n",
       "696   간석오거리             떼아뜨르 이동영화  12.518219976016729\n",
       "\n",
       "[697 rows x 3 columns]"
      ]
     },
     "execution_count": 53,
     "metadata": {},
     "output_type": "execute_result"
    }
   ],
   "source": [
    "nearest_theater"
   ]
  },
  {
   "cell_type": "markdown",
   "metadata": {},
   "source": [
    "영화관이 아니라 상영관별로 되어있어서 텍스트에서 '~관'만 깔끔하게 정리하는 작업도 필요할 것 같다."
   ]
  }
 ],
 "metadata": {
  "kernelspec": {
   "display_name": "Python ('donktark')",
   "language": "python",
   "name": "python3"
  },
  "language_info": {
   "codemirror_mode": {
    "name": "ipython",
    "version": 3
   },
   "file_extension": ".py",
   "mimetype": "text/x-python",
   "name": "python",
   "nbconvert_exporter": "python",
   "pygments_lexer": "ipython3",
   "version": ""
  },
  "orig_nbformat": 4,
  "vscode": {
   "interpreter": {
    "hash": "25a19fbe0a9132dfb9279d48d161753c6352f8f9478c2e74383d340069b907c3"
   }
  }
 },
 "nbformat": 4,
 "nbformat_minor": 2
}
