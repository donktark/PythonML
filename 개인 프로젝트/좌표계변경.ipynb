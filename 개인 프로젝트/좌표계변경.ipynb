{
 "cells": [
  {
   "cell_type": "markdown",
   "metadata": {},
   "source": [
    "# 중부원점좌표계를 위경도좌표계로 바꾸기\n",
    "\n",
    "코드 출처 : https://www.osgeo.kr/17"
   ]
  },
  {
   "cell_type": "code",
   "execution_count": 1,
   "id": "5a66b90a",
   "metadata": {},
   "outputs": [],
   "source": [
    "import pandas as pd\n",
    "import numpy as np\n",
    "import pyproj\n",
    "from pyproj import Proj, transform"
   ]
  },
  {
   "cell_type": "code",
   "execution_count": 2,
   "id": "f5c39c85",
   "metadata": {
    "scrolled": true
   },
   "outputs": [
    {
     "name": "stderr",
     "output_type": "stream",
     "text": [
      "C:\\Users\\32197453\\AppData\\Local\\Programs\\Python\\Python39\\lib\\site-packages\\pyproj\\crs\\crs.py:141: FutureWarning: '+init=<authority>:<code>' syntax is deprecated. '<authority>:<code>' is the preferred initialization method. When making the change, be mindful of axis order changes: https://pyproj4.github.io/pyproj/stable/gotchas.html#axis-order-changes-in-proj-6\n",
      "  in_crs_string = _prepare_from_proj_string(in_crs_string)\n",
      "C:\\Users\\32197453\\AppData\\Local\\Programs\\Python\\Python39\\lib\\site-packages\\pyproj\\crs\\crs.py:141: FutureWarning: '+init=<authority>:<code>' syntax is deprecated. '<authority>:<code>' is the preferred initialization method. When making the change, be mindful of axis order changes: https://pyproj4.github.io/pyproj/stable/gotchas.html#axis-order-changes-in-proj-6\n",
      "  in_crs_string = _prepare_from_proj_string(in_crs_string)\n"
     ]
    }
   ],
   "source": [
    "# 중부원점(Bessel): 서울 등 중부지역 EPSG:2097\n",
    "proj_1 = Proj(init='epsg:2097')\n",
    "# WGS84 경위도: GPS가 사용하는 좌표계 EPSG:4326\n",
    "proj_2 = Proj(init='epsg:4326')"
   ]
  },
  {
   "cell_type": "code",
   "execution_count": 3,
   "id": "993bf264",
   "metadata": {
    "scrolled": true
   },
   "outputs": [
    {
     "data": {
      "text/html": [
       "<div>\n",
       "<style scoped>\n",
       "    .dataframe tbody tr th:only-of-type {\n",
       "        vertical-align: middle;\n",
       "    }\n",
       "\n",
       "    .dataframe tbody tr th {\n",
       "        vertical-align: top;\n",
       "    }\n",
       "\n",
       "    .dataframe thead th {\n",
       "        text-align: right;\n",
       "    }\n",
       "</style>\n",
       "<table border=\"1\" class=\"dataframe\">\n",
       "  <thead>\n",
       "    <tr style=\"text-align: right;\">\n",
       "      <th></th>\n",
       "      <th>영업상태명</th>\n",
       "      <th>상세영업상태명</th>\n",
       "      <th>사업장명</th>\n",
       "      <th>X</th>\n",
       "      <th>Y</th>\n",
       "    </tr>\n",
       "  </thead>\n",
       "  <tbody>\n",
       "    <tr>\n",
       "      <th>0</th>\n",
       "      <td>영업/정상</td>\n",
       "      <td>영업중</td>\n",
       "      <td>CGV 방학 4관</td>\n",
       "      <td>203799.8653</td>\n",
       "      <td>462533.4302</td>\n",
       "    </tr>\n",
       "    <tr>\n",
       "      <th>1</th>\n",
       "      <td>영업/정상</td>\n",
       "      <td>영업중</td>\n",
       "      <td>CGV 방학 6관</td>\n",
       "      <td>203799.8653</td>\n",
       "      <td>462533.4302</td>\n",
       "    </tr>\n",
       "    <tr>\n",
       "      <th>2</th>\n",
       "      <td>영업/정상</td>\n",
       "      <td>영업중</td>\n",
       "      <td>CGV 방학 5관</td>\n",
       "      <td>203799.8653</td>\n",
       "      <td>462533.4302</td>\n",
       "    </tr>\n",
       "    <tr>\n",
       "      <th>3</th>\n",
       "      <td>영업/정상</td>\n",
       "      <td>영업중</td>\n",
       "      <td>CGV 방학 4DX관</td>\n",
       "      <td>203799.8653</td>\n",
       "      <td>462533.4302</td>\n",
       "    </tr>\n",
       "    <tr>\n",
       "      <th>4</th>\n",
       "      <td>영업/정상</td>\n",
       "      <td>영업중</td>\n",
       "      <td>CGV 방학 2관</td>\n",
       "      <td>203799.8653</td>\n",
       "      <td>462533.4302</td>\n",
       "    </tr>\n",
       "  </tbody>\n",
       "</table>\n",
       "</div>"
      ],
      "text/plain": [
       "   영업상태명 상세영업상태명         사업장명            X            Y\n",
       "0  영업/정상     영업중    CGV 방학 4관  203799.8653  462533.4302\n",
       "1  영업/정상     영업중    CGV 방학 6관  203799.8653  462533.4302\n",
       "2  영업/정상     영업중    CGV 방학 5관  203799.8653  462533.4302\n",
       "3  영업/정상     영업중  CGV 방학 4DX관  203799.8653  462533.4302\n",
       "4  영업/정상     영업중    CGV 방학 2관  203799.8653  462533.4302"
      ]
     },
     "execution_count": 3,
     "metadata": {},
     "output_type": "execute_result"
    }
   ],
   "source": [
    "os.chdir('../')\n",
    "df = pd.read_csv('haver sine/영화관 좌표(중부원점).csv')\n",
    "df.head()"
   ]
  },
  {
   "cell_type": "code",
   "execution_count": 4,
   "id": "502b5ba0",
   "metadata": {
    "scrolled": false
   },
   "outputs": [
    {
     "name": "stderr",
     "output_type": "stream",
     "text": [
      "C:\\Users\\32197453\\AppData\\Local\\Temp\\ipykernel_2772\\3307444316.py:1: DeprecationWarning: This function is deprecated. See: https://pyproj4.github.io/pyproj/stable/gotchas.html#upgrading-to-pyproj-2-from-pyproj-1\n",
      "  converted = transform(proj_1, proj_2, df['X'].values, df['Y'].values)\n"
     ]
    }
   ],
   "source": [
    "converted = transform(proj_1, proj_2, df['X'].values, df['Y'].values)\n",
    "df['Lon'] = converted[0]\n",
    "df['Lat'] = converted[1]"
   ]
  },
  {
   "cell_type": "code",
   "execution_count": 5,
   "id": "47718ed5",
   "metadata": {},
   "outputs": [
    {
     "data": {
      "text/html": [
       "<div>\n",
       "<style scoped>\n",
       "    .dataframe tbody tr th:only-of-type {\n",
       "        vertical-align: middle;\n",
       "    }\n",
       "\n",
       "    .dataframe tbody tr th {\n",
       "        vertical-align: top;\n",
       "    }\n",
       "\n",
       "    .dataframe thead th {\n",
       "        text-align: right;\n",
       "    }\n",
       "</style>\n",
       "<table border=\"1\" class=\"dataframe\">\n",
       "  <thead>\n",
       "    <tr style=\"text-align: right;\">\n",
       "      <th></th>\n",
       "      <th>영업상태명</th>\n",
       "      <th>상세영업상태명</th>\n",
       "      <th>사업장명</th>\n",
       "      <th>X</th>\n",
       "      <th>Y</th>\n",
       "      <th>Lon</th>\n",
       "      <th>Lat</th>\n",
       "    </tr>\n",
       "  </thead>\n",
       "  <tbody>\n",
       "    <tr>\n",
       "      <th>0</th>\n",
       "      <td>영업/정상</td>\n",
       "      <td>영업중</td>\n",
       "      <td>CGV 방학 4관</td>\n",
       "      <td>203799.8653</td>\n",
       "      <td>462533.4302</td>\n",
       "      <td>127.040964</td>\n",
       "      <td>37.665184</td>\n",
       "    </tr>\n",
       "    <tr>\n",
       "      <th>1</th>\n",
       "      <td>영업/정상</td>\n",
       "      <td>영업중</td>\n",
       "      <td>CGV 방학 6관</td>\n",
       "      <td>203799.8653</td>\n",
       "      <td>462533.4302</td>\n",
       "      <td>127.040964</td>\n",
       "      <td>37.665184</td>\n",
       "    </tr>\n",
       "    <tr>\n",
       "      <th>2</th>\n",
       "      <td>영업/정상</td>\n",
       "      <td>영업중</td>\n",
       "      <td>CGV 방학 5관</td>\n",
       "      <td>203799.8653</td>\n",
       "      <td>462533.4302</td>\n",
       "      <td>127.040964</td>\n",
       "      <td>37.665184</td>\n",
       "    </tr>\n",
       "    <tr>\n",
       "      <th>3</th>\n",
       "      <td>영업/정상</td>\n",
       "      <td>영업중</td>\n",
       "      <td>CGV 방학 4DX관</td>\n",
       "      <td>203799.8653</td>\n",
       "      <td>462533.4302</td>\n",
       "      <td>127.040964</td>\n",
       "      <td>37.665184</td>\n",
       "    </tr>\n",
       "    <tr>\n",
       "      <th>4</th>\n",
       "      <td>영업/정상</td>\n",
       "      <td>영업중</td>\n",
       "      <td>CGV 방학 2관</td>\n",
       "      <td>203799.8653</td>\n",
       "      <td>462533.4302</td>\n",
       "      <td>127.040964</td>\n",
       "      <td>37.665184</td>\n",
       "    </tr>\n",
       "    <tr>\n",
       "      <th>...</th>\n",
       "      <td>...</td>\n",
       "      <td>...</td>\n",
       "      <td>...</td>\n",
       "      <td>...</td>\n",
       "      <td>...</td>\n",
       "      <td>...</td>\n",
       "      <td>...</td>\n",
       "    </tr>\n",
       "    <tr>\n",
       "      <th>894</th>\n",
       "      <td>영업/정상</td>\n",
       "      <td>영업중</td>\n",
       "      <td>CGV 천호 4관</td>\n",
       "      <td>212501.3691</td>\n",
       "      <td>449282.3104</td>\n",
       "      <td>127.139361</td>\n",
       "      <td>37.545718</td>\n",
       "    </tr>\n",
       "    <tr>\n",
       "      <th>895</th>\n",
       "      <td>영업/정상</td>\n",
       "      <td>영업중</td>\n",
       "      <td>CGV 천호 5관</td>\n",
       "      <td>212501.3691</td>\n",
       "      <td>449282.3104</td>\n",
       "      <td>127.139361</td>\n",
       "      <td>37.545718</td>\n",
       "    </tr>\n",
       "    <tr>\n",
       "      <th>896</th>\n",
       "      <td>영업/정상</td>\n",
       "      <td>영업중</td>\n",
       "      <td>CGV 천호 6관</td>\n",
       "      <td>212501.3691</td>\n",
       "      <td>449282.3104</td>\n",
       "      <td>127.139361</td>\n",
       "      <td>37.545718</td>\n",
       "    </tr>\n",
       "    <tr>\n",
       "      <th>897</th>\n",
       "      <td>영업/정상</td>\n",
       "      <td>영업중</td>\n",
       "      <td>CGV 천호 1관</td>\n",
       "      <td>212501.3691</td>\n",
       "      <td>449282.3104</td>\n",
       "      <td>127.139361</td>\n",
       "      <td>37.545718</td>\n",
       "    </tr>\n",
       "    <tr>\n",
       "      <th>898</th>\n",
       "      <td>영업/정상</td>\n",
       "      <td>영업중</td>\n",
       "      <td>롯데시네마청량리 제1관</td>\n",
       "      <td>204081.2821</td>\n",
       "      <td>453187.3952</td>\n",
       "      <td>127.044102</td>\n",
       "      <td>37.580977</td>\n",
       "    </tr>\n",
       "  </tbody>\n",
       "</table>\n",
       "<p>899 rows × 7 columns</p>\n",
       "</div>"
      ],
      "text/plain": [
       "     영업상태명 상세영업상태명          사업장명            X            Y         Lon  \\\n",
       "0    영업/정상     영업중     CGV 방학 4관  203799.8653  462533.4302  127.040964   \n",
       "1    영업/정상     영업중     CGV 방학 6관  203799.8653  462533.4302  127.040964   \n",
       "2    영업/정상     영업중     CGV 방학 5관  203799.8653  462533.4302  127.040964   \n",
       "3    영업/정상     영업중   CGV 방학 4DX관  203799.8653  462533.4302  127.040964   \n",
       "4    영업/정상     영업중     CGV 방학 2관  203799.8653  462533.4302  127.040964   \n",
       "..     ...     ...           ...          ...          ...         ...   \n",
       "894  영업/정상     영업중     CGV 천호 4관  212501.3691  449282.3104  127.139361   \n",
       "895  영업/정상     영업중     CGV 천호 5관  212501.3691  449282.3104  127.139361   \n",
       "896  영업/정상     영업중     CGV 천호 6관  212501.3691  449282.3104  127.139361   \n",
       "897  영업/정상     영업중     CGV 천호 1관  212501.3691  449282.3104  127.139361   \n",
       "898  영업/정상     영업중  롯데시네마청량리 제1관  204081.2821  453187.3952  127.044102   \n",
       "\n",
       "           Lat  \n",
       "0    37.665184  \n",
       "1    37.665184  \n",
       "2    37.665184  \n",
       "3    37.665184  \n",
       "4    37.665184  \n",
       "..         ...  \n",
       "894  37.545718  \n",
       "895  37.545718  \n",
       "896  37.545718  \n",
       "897  37.545718  \n",
       "898  37.580977  \n",
       "\n",
       "[899 rows x 7 columns]"
      ]
     },
     "execution_count": 5,
     "metadata": {},
     "output_type": "execute_result"
    }
   ],
   "source": [
    "df.to_csv('haver sine/영화관 좌표(위경도).csv',index = False)\n",
    "df\n",
    "os.chdir('Donktark.Python/')"
   ]
  },
  {
   "cell_type": "markdown",
   "metadata": {},
   "source": [
    "쉽다!"
   ]
  }
 ],
 "metadata": {
  "kernelspec": {
   "display_name": "Python ('donktark')",
   "language": "python",
   "name": "python3"
  },
  "language_info": {
   "codemirror_mode": {
    "name": "ipython",
    "version": 3
   },
   "file_extension": ".py",
   "mimetype": "text/x-python",
   "name": "python",
   "nbconvert_exporter": "python",
   "pygments_lexer": "ipython3",
   "version": ""
  },
  "orig_nbformat": 4,
  "vscode": {
   "interpreter": {
    "hash": "25a19fbe0a9132dfb9279d48d161753c6352f8f9478c2e74383d340069b907c3"
   }
  }
 },
 "nbformat": 4,
 "nbformat_minor": 2
}
