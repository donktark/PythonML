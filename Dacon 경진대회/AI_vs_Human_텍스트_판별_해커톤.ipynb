{
  "cells": [
    {
      "cell_type": "markdown",
      "metadata": {
        "id": "view-in-github",
        "colab_type": "text"
      },
      "source": [
        "<a href=\"https://colab.research.google.com/github/donktark/Donktark.Python/blob/master/AI_vs_Human_%ED%85%8D%EC%8A%A4%ED%8A%B8_%ED%8C%90%EB%B3%84_%ED%95%B4%EC%BB%A4%ED%86%A4.ipynb\" target=\"_parent\"><img src=\"https://colab.research.google.com/assets/colab-badge.svg\" alt=\"Open In Colab\"/></a>"
      ]
    },
    {
      "cell_type": "code",
      "source": [
        "from google.colab import drive\n",
        "drive.mount('/content/drive')"
      ],
      "metadata": {
        "colab": {
          "base_uri": "https://localhost:8080/"
        },
        "id": "QlE65DdYTIp_",
        "outputId": "8a95dc7a-8fde-40e3-e9ec-c899e8453482"
      },
      "execution_count": null,
      "outputs": [
        {
          "output_type": "stream",
          "name": "stdout",
          "text": [
            "Drive already mounted at /content/drive; to attempt to forcibly remount, call drive.mount(\"/content/drive\", force_remount=True).\n"
          ]
        }
      ]
    },
    {
      "cell_type": "code",
      "source": [
        "# !pip install transformers\n",
        "# !pip install optuna\n",
        "# !pip install datasets\n",
        "# !pip install torch\n",
        "# !pip install transformers[torch]\n",
        "# !pip install accelerate -U\n",
        "# !pip install konlpy\n",
        "# !pip3 install mecab-python3"
      ],
      "metadata": {
        "id": "aGQ9YNcxTKmi"
      },
      "execution_count": null,
      "outputs": []
    },
    {
      "cell_type": "code",
      "execution_count": null,
      "metadata": {
        "id": "AJNREqdIGXsi"
      },
      "outputs": [],
      "source": [
        "#기본\n",
        "import os\n",
        "import pandas as pd\n",
        "import numpy as np\n",
        "import matplotlib.pyplot as plt\n",
        "import random\n",
        "import seaborn as sns\n",
        "import warnings\n",
        "\n",
        "#전처리\n",
        "from sklearn.model_selection import train_test_split\n",
        "from transformers import BertTokenizer, DistilBertTokenizer, DataCollatorWithPadding\n",
        "import re\n",
        "from konlpy.tag import Mecab, Okt\n",
        "\n",
        "#모델\n",
        "import torch\n",
        "from datasets import Dataset\n",
        "from transformers import BertForMultipleChoice, Trainer, TrainingArguments,  DistilBertForMultipleChoice, BertForSequenceClassification\n",
        "from sklearn.metrics import average_precision_score, precision_score"
      ]
    },
    {
      "cell_type": "markdown",
      "metadata": {
        "id": "mfFhL-m8F1uz"
      },
      "source": [
        "# 데이터 불러오기, 분할"
      ]
    },
    {
      "cell_type": "code",
      "execution_count": null,
      "metadata": {
        "id": "r181Ek4tRg6j"
      },
      "outputs": [],
      "source": [
        "device = torch.device('cuda:0' if torch.cuda.is_available() else 'cpu')"
      ]
    },
    {
      "cell_type": "code",
      "execution_count": null,
      "metadata": {
        "id": "gjFyUrkXE2Xk"
      },
      "outputs": [],
      "source": [
        "#시드 고정\n",
        "def seed_everything(seed):\n",
        "    random.seed(seed)\n",
        "    os.environ['PYTHONHASHSEED'] = str(seed)\n",
        "    np.random.seed(seed)\n",
        "seed_everything(84)"
      ]
    },
    {
      "cell_type": "code",
      "execution_count": null,
      "metadata": {
        "id": "ZHFk43TX1UHi"
      },
      "outputs": [],
      "source": [
        "train_df = pd.read_csv('/content/drive/MyDrive/Colab Notebooks/data/AI vs Human/train.csv')\n",
        "test_df = pd.read_csv('/content/drive/MyDrive/Colab Notebooks/data/AI vs Human/test.csv')\n",
        "k_stopword = list(pd.read_table('/content/drive/MyDrive/Colab Notebooks/data/불용어 사전.txt', header=None)[0])"
      ]
    },
    {
      "cell_type": "code",
      "execution_count": null,
      "metadata": {
        "id": "-b8vb_N2FV5T"
      },
      "outputs": [],
      "source": [
        "# multiple choice 모델 로드\n",
        "\n",
        "model_name = 'kykim/bert-kor-base'\n",
        "# model_name = 'bert-base-multilingual-cased'\n",
        "tokenizer = BertTokenizer.from_pretrained(model_name)\n",
        "\n",
        "# def model_init(trial):\n",
        "#   return DistilBertForMultipleChoice.from_pretrained(model_name)\n",
        "\n",
        "# model = BertForMultipleChoice.from_pretrained(model_name)\n",
        "# model.config.max_position_embeddings = 32\n",
        "\n",
        "\n",
        "# classification 모델 로드\n",
        "\n",
        "def cl_model_init(trial):\n",
        "  return BertForSequenceClassification.from_pretrained(model_name, num_labels=2)\n",
        "\n",
        "# model = DistilBertForMultipleChoice.from_pretrained(model_name, num_labels=4).to(device)\n",
        "# model.config.max_position_embeddings = 32"
      ]
    },
    {
      "cell_type": "code",
      "execution_count": null,
      "metadata": {
        "id": "JL5TH8BURg6k"
      },
      "outputs": [],
      "source": [
        "train_text = train_df.copy()\n",
        "okt = Okt()\n",
        "\n",
        "def preprocessing_text(x):\n",
        "    text = re.sub(r'[^가-힣\\s]', \"\", x) #공백 한글 빼고 모두 제거\n",
        "    text = okt.morphs(text)\n",
        "    text = [w for w in text if w not in k_stopword]\n",
        "    return \" \".join(text)\n",
        "\n",
        "for i in range(1, 5):\n",
        "    train_text[f'sentence{i}'] = train_df[f'sentence{i}'].apply(lambda x : preprocessing_text(x))\n",
        "\n",
        "train_text, valid_text = train_test_split(train_text, test_size = 0.2)"
      ]
    },
    {
      "cell_type": "code",
      "execution_count": null,
      "metadata": {
        "colab": {
          "base_uri": "https://localhost:8080/",
          "height": 485
        },
        "id": "cFczidOmRg6k",
        "outputId": "2e04fa57-06c6-420b-cd6e-63d8451b136f"
      },
      "outputs": [
        {
          "output_type": "execute_result",
          "data": {
            "text/plain": [
              "(array([ 1.,  3.,  7.,  5.,  3.,  3., 12.,  4.,  0.,  2.]),\n",
              " array([35. , 39.8, 44.6, 49.4, 54.2, 59. , 63.8, 68.6, 73.4, 78.2, 83. ]),\n",
              " <BarContainer object of 10 artists>)"
            ]
          },
          "metadata": {},
          "execution_count": 9
        },
        {
          "output_type": "display_data",
          "data": {
            "text/plain": [
              "<Figure size 640x480 with 1 Axes>"
            ],
            "image/png": "[encoded data removed]"
          },
          "metadata": {}
        }
      ],
      "source": [
        "sentence_len = []\n",
        "\n",
        "for i, r in train_text.drop('label', axis=1).iterrows():\n",
        "    max_len = max([len(r[f'sentence{j}'].split()) for j in range(1,5)])\n",
        "    sentence_len.append(max_len)\n",
        "plt.hist(sentence_len)"
      ]
    },
    {
      "cell_type": "markdown",
      "metadata": {
        "id": "GN5W1DbhRg6l"
      },
      "source": [
        "메모리 효율을 위해서 토크나이즈시 max_length를 조정."
      ]
    },
    {
      "cell_type": "code",
      "execution_count": null,
      "metadata": {
        "id": "2prbEWRDUozT"
      },
      "outputs": [],
      "source": [
        "# choices = []\n",
        "# for i in range(len(train_text)):\n",
        "#     choice_list = [train_text[f'sentence{i}'].values.tolist() for i in range(1, 5)]\n",
        "#     choices.append(choice_list)\n",
        "\n",
        "# # 라벨 데이터\n",
        "# labels = torch.tensor(train_text[\"label\"].values - 1)\n",
        "\n",
        "# # 각 문장을 토큰화 및 인코딩\n",
        "# input_ids = []\n",
        "# attention_masks = []\n",
        "# for choice_list2 in choices:\n",
        "#     choice_token = [tokenizer(sentence, padding=\"max_length\", max_length=60, return_tensors=\"pt\", truncation=True) for sentence in choice_list2]\n",
        "#     input_ids.append([item['input_ids'] for item in choice_token])\n",
        "#     attention_masks.append([item['attention_mask'] for item in choice_token])\n",
        "\n",
        "# # 데이터셋 생성\n",
        "# class make_dataset(torch.utils.data.Dataset):\n",
        "#     def __init__(self, input_ids, attention_masks, labels):\n",
        "#         self.input_ids = input_ids\n",
        "#         self.attention_masks = attention_masks\n",
        "#         self.labels = labels\n",
        "\n",
        "#     def __len__(self):\n",
        "#         return len(self.labels)\n",
        "\n",
        "#     def __getitem__(self, idx):\n",
        "#         return {\n",
        "#             \"input_ids\": self.input_ids[idx],\n",
        "#             \"attention_mask\": self.attention_masks[idx],\n",
        "#             \"labels\": self.labels[idx],\n",
        "#         }\n",
        "# train_ds = make_dataset(input_ids, attention_masks, labels)\n",
        "\n",
        "# data_collator = DataCollatorWithPadding(tokenizer=tokenizer)"
      ]
    },
    {
      "cell_type": "code",
      "execution_count": null,
      "metadata": {
        "id": "96bXfv2-pwIW"
      },
      "outputs": [],
      "source": [
        "binary_labels_tr = []\n",
        "for index, row in train_text.iterrows():\n",
        "    for i in range(1, 5):\n",
        "        sentence = row[f\"sentence{i}\"]\n",
        "        is_answer = 1 if row[\"label\"] == i else 0\n",
        "        binary_labels_tr.append({\"text\": sentence, \"labels\": is_answer})\n",
        "\n",
        "binary_labels_val = []\n",
        "for index, row in valid_text.iterrows():\n",
        "    for i in range(1, 5):\n",
        "        sentence = row[f\"sentence{i}\"]\n",
        "        is_answer = 1 if row[\"label\"] == i else 0\n",
        "        binary_labels_val.append({\"text\": sentence, \"labels\": is_answer})\n",
        "\n",
        "train_bin = pd.DataFrame(binary_labels_tr)\n",
        "valid_bin = pd.DataFrame(binary_labels_val)\n",
        "\n",
        "class make_dataset(torch.utils.data.Dataset):\n",
        "    def __init__(self, texts, labels, tokenizer, max_length=65):\n",
        "        self.encodings = tokenizer(\n",
        "            texts,\n",
        "            padding=\"max_length\",\n",
        "            max_length=max_length,\n",
        "            return_tensors=\"pt\",\n",
        "            truncation=True,\n",
        "        )\n",
        "        self.labels = labels\n",
        "\n",
        "    def __len__(self):\n",
        "        return len(self.labels)\n",
        "\n",
        "    def __getitem__(self, idx):\n",
        "        item = {key: val[idx] for key, val in self.encodings.items()}\n",
        "        item[\"labels\"] = self.labels[idx]\n",
        "        return item\n",
        "\n",
        "train_ds_cl =  make_dataset(train_bin['text'].tolist(), train_bin['labels'], tokenizer, max_length=70)\n",
        "valid_ds_cl =  make_dataset(valid_bin['text'].tolist(), valid_bin['labels'], tokenizer, max_length=70)\n",
        "data_collator = DataCollatorWithPadding(tokenizer=tokenizer)"
      ]
    },
    {
      "cell_type": "code",
      "source": [
        "train_ds_cl"
      ],
      "metadata": {
        "colab": {
          "base_uri": "https://localhost:8080/"
        },
        "id": "4c3eu-dDrtAh",
        "outputId": "d7fd376f-4234-4fe6-da1b-bd2046605264"
      },
      "execution_count": null,
      "outputs": [
        {
          "output_type": "execute_result",
          "data": {
            "text/plain": [
              "<__main__.make_dataset at 0x7821cafaa0b0>"
            ]
          },
          "metadata": {},
          "execution_count": 12
        }
      ]
    },
    {
      "cell_type": "code",
      "execution_count": null,
      "metadata": {
        "id": "WzgR1XVwKWdh"
      },
      "outputs": [],
      "source": [
        "# train_set, valid_set = train_test_split(train_df, test_size = 0.3)\n",
        "# train_ds = Dataset.from_pandas(train_set)\n",
        "# valid_ds = Dataset.from_pandas(valid_set)"
      ]
    },
    {
      "cell_type": "markdown",
      "metadata": {
        "id": "hJxcFkraExIa"
      },
      "source": [
        "# 모델"
      ]
    },
    {
      "cell_type": "markdown",
      "source": [
        "# Classification"
      ],
      "metadata": {
        "id": "prfTi7u0ZQ75"
      }
    },
    {
      "cell_type": "code",
      "source": [
        "#평가지표\n",
        "def compute_metrix(p):\n",
        "    predictions = p.predictions.argmax(axis=1)\n",
        "    true_labels = p.label_ids\n",
        "    precision = precision_score(true_labels, predictions)\n",
        "    return {\"precision\": precision}\n",
        "\n",
        "\n",
        "#하이퍼 파라미터 목록\n",
        "def optuna_hp_space(trial):\n",
        "    return {\n",
        "        'learning_rate' : trial.suggest_float(\"learning_rate\", 1e-4, 1e-2, log=True),\n",
        "        \"per_device_train_batch_size\" : trial.suggest_categorical(\"per_device_train_batch_size\", [4, 8, 16]),\n",
        "        \"per_device_eval_batch_size\" : trial.suggest_categorical(\"per_device_eval_batch_size\", [4, 8, 16])\n",
        "    }\n",
        "\n",
        "\n",
        "#하이퍼 파라미터 입력\n",
        "training_args = TrainingArguments(\n",
        "    output_dir=\"./bert_model\",\n",
        "    num_train_epochs=10,\n",
        "    evaluation_strategy=\"steps\",\n",
        "    save_total_limit=2,\n",
        "    eval_steps=20,\n",
        "    load_best_model_at_end=True,\n",
        ")\n",
        "\n",
        "#트레이너 설정\n",
        "trainer = Trainer(\n",
        "    # model = model,\n",
        "    model_init = cl_model_init,\n",
        "    args = training_args,\n",
        "    train_dataset = train_ds_cl,\n",
        "    eval_dataset = valid_ds_cl,\n",
        "    compute_metrics = compute_metrix,\n",
        "    data_collator = data_collator,\n",
        "    # tokenizer = tokenizer\n",
        ")\n",
        "\n",
        "best_trial = trainer.hyperparameter_search(\n",
        "    direction = \"maximize\",\n",
        "    backend = 'optuna',\n",
        "    hp_space = optuna_hp_space,\n",
        "    n_trials = 10,\n",
        ")\n",
        "\n",
        "# trainer.train()\n"
      ],
      "metadata": {
        "colab": {
          "base_uri": "https://localhost:8080/",
          "height": 1000
        },
        "id": "i_7uN26vJbKf",
        "outputId": "c63dc4c3-7306-4ab4-f5ff-6f79af9f3eb6"
      },
      "execution_count": null,
      "outputs": [
        {
          "output_type": "stream",
          "name": "stderr",
          "text": [
            "Some weights of BertForSequenceClassification were not initialized from the model checkpoint at kykim/bert-kor-base and are newly initialized: ['classifier.weight', 'classifier.bias']\n",
            "You should probably TRAIN this model on a down-stream task to be able to use it for predictions and inference.\n",
            "[I 2023-10-29 14:26:05,472] A new study created in memory with name: no-name-53553bf1-eaa5-458f-8d47-d63b206a9dea\n",
            "Some weights of BertForSequenceClassification were not initialized from the model checkpoint at kykim/bert-kor-base and are newly initialized: ['classifier.weight', 'classifier.bias']\n",
            "You should probably TRAIN this model on a down-stream task to be able to use it for predictions and inference.\n"
          ]
        },
        {
          "output_type": "display_data",
          "data": {
            "text/plain": [
              "<IPython.core.display.HTML object>"
            ],
            "text/html": [
              "\n",
              "    <div>\n",
              "      \n",
              "      <progress value='100' max='100' style='width:300px; height:20px; vertical-align: middle;'></progress>\n",
              "      [100/100 00:08, Epoch 10/10]\n",
              "    </div>\n",
              "    <table border=\"1\" class=\"dataframe\">\n",
              "  <thead>\n",
              " <tr style=\"text-align: left;\">\n",
              "      <th>Step</th>\n",
              "      <th>Training Loss</th>\n",
              "      <th>Validation Loss</th>\n",
              "      <th>Precision</th>\n",
              "    </tr>\n",
              "  </thead>\n",
              "  <tbody>\n",
              "    <tr>\n",
              "      <td>20</td>\n",
              "      <td>No log</td>\n",
              "      <td>0.606606</td>\n",
              "      <td>0.000000</td>\n",
              "    </tr>\n",
              "    <tr>\n",
              "      <td>40</td>\n",
              "      <td>No log</td>\n",
              "      <td>0.569874</td>\n",
              "      <td>0.000000</td>\n",
              "    </tr>\n",
              "    <tr>\n",
              "      <td>60</td>\n",
              "      <td>No log</td>\n",
              "      <td>0.563750</td>\n",
              "      <td>0.000000</td>\n",
              "    </tr>\n",
              "    <tr>\n",
              "      <td>80</td>\n",
              "      <td>No log</td>\n",
              "      <td>0.564960</td>\n",
              "      <td>0.000000</td>\n",
              "    </tr>\n",
              "    <tr>\n",
              "      <td>100</td>\n",
              "      <td>No log</td>\n",
              "      <td>0.562392</td>\n",
              "      <td>0.000000</td>\n",
              "    </tr>\n",
              "  </tbody>\n",
              "</table><p>"
            ]
          },
          "metadata": {}
        },
        {
          "output_type": "stream",
          "name": "stderr",
          "text": [
            "/usr/local/lib/python3.10/dist-packages/sklearn/metrics/_classification.py:1344: UndefinedMetricWarning: Precision is ill-defined and being set to 0.0 due to no predicted samples. Use `zero_division` parameter to control this behavior.\n",
            "  _warn_prf(average, modifier, msg_start, len(result))\n",
            "/usr/local/lib/python3.10/dist-packages/sklearn/metrics/_classification.py:1344: UndefinedMetricWarning: Precision is ill-defined and being set to 0.0 due to no predicted samples. Use `zero_division` parameter to control this behavior.\n",
            "  _warn_prf(average, modifier, msg_start, len(result))\n",
            "/usr/local/lib/python3.10/dist-packages/sklearn/metrics/_classification.py:1344: UndefinedMetricWarning: Precision is ill-defined and being set to 0.0 due to no predicted samples. Use `zero_division` parameter to control this behavior.\n",
            "  _warn_prf(average, modifier, msg_start, len(result))\n",
            "/usr/local/lib/python3.10/dist-packages/sklearn/metrics/_classification.py:1344: UndefinedMetricWarning: Precision is ill-defined and being set to 0.0 due to no predicted samples. Use `zero_division` parameter to control this behavior.\n",
            "  _warn_prf(average, modifier, msg_start, len(result))\n",
            "/usr/local/lib/python3.10/dist-packages/sklearn/metrics/_classification.py:1344: UndefinedMetricWarning: Precision is ill-defined and being set to 0.0 due to no predicted samples. Use `zero_division` parameter to control this behavior.\n",
            "  _warn_prf(average, modifier, msg_start, len(result))\n",
            "[I 2023-10-29 14:26:23,127] Trial 0 finished with value: 0.0 and parameters: {'learning_rate': 0.0007114943707971029, 'per_device_train_batch_size': 16, 'per_device_eval_batch_size': 4}. Best is trial 0 with value: 0.0.\n",
            "Some weights of BertForSequenceClassification were not initialized from the model checkpoint at kykim/bert-kor-base and are newly initialized: ['classifier.weight', 'classifier.bias']\n",
            "You should probably TRAIN this model on a down-stream task to be able to use it for predictions and inference.\n"
          ]
        },
        {
          "output_type": "display_data",
          "data": {
            "text/plain": [
              "<IPython.core.display.HTML object>"
            ],
            "text/html": [
              "\n",
              "    <div>\n",
              "      \n",
              "      <progress value='100' max='100' style='width:300px; height:20px; vertical-align: middle;'></progress>\n",
              "      [100/100 00:07, Epoch 10/10]\n",
              "    </div>\n",
              "    <table border=\"1\" class=\"dataframe\">\n",
              "  <thead>\n",
              " <tr style=\"text-align: left;\">\n",
              "      <th>Step</th>\n",
              "      <th>Training Loss</th>\n",
              "      <th>Validation Loss</th>\n",
              "      <th>Precision</th>\n",
              "    </tr>\n",
              "  </thead>\n",
              "  <tbody>\n",
              "    <tr>\n",
              "      <td>20</td>\n",
              "      <td>No log</td>\n",
              "      <td>0.616118</td>\n",
              "      <td>0.000000</td>\n",
              "    </tr>\n",
              "    <tr>\n",
              "      <td>40</td>\n",
              "      <td>No log</td>\n",
              "      <td>0.574950</td>\n",
              "      <td>0.000000</td>\n",
              "    </tr>\n",
              "    <tr>\n",
              "      <td>60</td>\n",
              "      <td>No log</td>\n",
              "      <td>0.566993</td>\n",
              "      <td>0.000000</td>\n",
              "    </tr>\n",
              "    <tr>\n",
              "      <td>80</td>\n",
              "      <td>No log</td>\n",
              "      <td>0.585981</td>\n",
              "      <td>0.000000</td>\n",
              "    </tr>\n",
              "    <tr>\n",
              "      <td>100</td>\n",
              "      <td>No log</td>\n",
              "      <td>0.562559</td>\n",
              "      <td>0.000000</td>\n",
              "    </tr>\n",
              "  </tbody>\n",
              "</table><p>"
            ]
          },
          "metadata": {}
        },
        {
          "output_type": "stream",
          "name": "stderr",
          "text": [
            "/usr/local/lib/python3.10/dist-packages/sklearn/metrics/_classification.py:1344: UndefinedMetricWarning: Precision is ill-defined and being set to 0.0 due to no predicted samples. Use `zero_division` parameter to control this behavior.\n",
            "  _warn_prf(average, modifier, msg_start, len(result))\n",
            "/usr/local/lib/python3.10/dist-packages/sklearn/metrics/_classification.py:1344: UndefinedMetricWarning: Precision is ill-defined and being set to 0.0 due to no predicted samples. Use `zero_division` parameter to control this behavior.\n",
            "  _warn_prf(average, modifier, msg_start, len(result))\n",
            "/usr/local/lib/python3.10/dist-packages/sklearn/metrics/_classification.py:1344: UndefinedMetricWarning: Precision is ill-defined and being set to 0.0 due to no predicted samples. Use `zero_division` parameter to control this behavior.\n",
            "  _warn_prf(average, modifier, msg_start, len(result))\n",
            "/usr/local/lib/python3.10/dist-packages/sklearn/metrics/_classification.py:1344: UndefinedMetricWarning: Precision is ill-defined and being set to 0.0 due to no predicted samples. Use `zero_division` parameter to control this behavior.\n",
            "  _warn_prf(average, modifier, msg_start, len(result))\n",
            "/usr/local/lib/python3.10/dist-packages/sklearn/metrics/_classification.py:1344: UndefinedMetricWarning: Precision is ill-defined and being set to 0.0 due to no predicted samples. Use `zero_division` parameter to control this behavior.\n",
            "  _warn_prf(average, modifier, msg_start, len(result))\n",
            "[I 2023-10-29 14:26:36,953] Trial 1 finished with value: 0.0 and parameters: {'learning_rate': 0.003375372266062247, 'per_device_train_batch_size': 16, 'per_device_eval_batch_size': 16}. Best is trial 0 with value: 0.0.\n",
            "Some weights of BertForSequenceClassification were not initialized from the model checkpoint at kykim/bert-kor-base and are newly initialized: ['classifier.weight', 'classifier.bias']\n",
            "You should probably TRAIN this model on a down-stream task to be able to use it for predictions and inference.\n"
          ]
        },
        {
          "output_type": "display_data",
          "data": {
            "text/plain": [
              "<IPython.core.display.HTML object>"
            ],
            "text/html": [
              "\n",
              "    <div>\n",
              "      \n",
              "      <progress value='400' max='400' style='width:300px; height:20px; vertical-align: middle;'></progress>\n",
              "      [400/400 00:24, Epoch 10/10]\n",
              "    </div>\n",
              "    <table border=\"1\" class=\"dataframe\">\n",
              "  <thead>\n",
              " <tr style=\"text-align: left;\">\n",
              "      <th>Step</th>\n",
              "      <th>Training Loss</th>\n",
              "      <th>Validation Loss</th>\n",
              "      <th>Precision</th>\n",
              "    </tr>\n",
              "  </thead>\n",
              "  <tbody>\n",
              "    <tr>\n",
              "      <td>20</td>\n",
              "      <td>No log</td>\n",
              "      <td>0.979900</td>\n",
              "      <td>0.000000</td>\n",
              "    </tr>\n",
              "    <tr>\n",
              "      <td>40</td>\n",
              "      <td>No log</td>\n",
              "      <td>1.873155</td>\n",
              "      <td>0.000000</td>\n",
              "    </tr>\n",
              "    <tr>\n",
              "      <td>60</td>\n",
              "      <td>No log</td>\n",
              "      <td>1.869591</td>\n",
              "      <td>0.250000</td>\n",
              "    </tr>\n",
              "    <tr>\n",
              "      <td>80</td>\n",
              "      <td>No log</td>\n",
              "      <td>0.566378</td>\n",
              "      <td>0.000000</td>\n",
              "    </tr>\n",
              "    <tr>\n",
              "      <td>100</td>\n",
              "      <td>No log</td>\n",
              "      <td>0.903554</td>\n",
              "      <td>0.000000</td>\n",
              "    </tr>\n",
              "    <tr>\n",
              "      <td>120</td>\n",
              "      <td>No log</td>\n",
              "      <td>0.601710</td>\n",
              "      <td>0.000000</td>\n",
              "    </tr>\n",
              "    <tr>\n",
              "      <td>140</td>\n",
              "      <td>No log</td>\n",
              "      <td>0.605779</td>\n",
              "      <td>0.000000</td>\n",
              "    </tr>\n",
              "    <tr>\n",
              "      <td>160</td>\n",
              "      <td>No log</td>\n",
              "      <td>0.917055</td>\n",
              "      <td>0.000000</td>\n",
              "    </tr>\n",
              "    <tr>\n",
              "      <td>180</td>\n",
              "      <td>No log</td>\n",
              "      <td>0.709627</td>\n",
              "      <td>0.250000</td>\n",
              "    </tr>\n",
              "    <tr>\n",
              "      <td>200</td>\n",
              "      <td>No log</td>\n",
              "      <td>0.571607</td>\n",
              "      <td>0.000000</td>\n",
              "    </tr>\n",
              "    <tr>\n",
              "      <td>220</td>\n",
              "      <td>No log</td>\n",
              "      <td>0.562543</td>\n",
              "      <td>0.000000</td>\n",
              "    </tr>\n",
              "    <tr>\n",
              "      <td>240</td>\n",
              "      <td>No log</td>\n",
              "      <td>0.877869</td>\n",
              "      <td>0.250000</td>\n",
              "    </tr>\n",
              "    <tr>\n",
              "      <td>260</td>\n",
              "      <td>No log</td>\n",
              "      <td>0.946346</td>\n",
              "      <td>0.000000</td>\n",
              "    </tr>\n",
              "    <tr>\n",
              "      <td>280</td>\n",
              "      <td>No log</td>\n",
              "      <td>0.901903</td>\n",
              "      <td>0.000000</td>\n",
              "    </tr>\n",
              "    <tr>\n",
              "      <td>300</td>\n",
              "      <td>No log</td>\n",
              "      <td>0.643655</td>\n",
              "      <td>0.000000</td>\n",
              "    </tr>\n",
              "    <tr>\n",
              "      <td>320</td>\n",
              "      <td>No log</td>\n",
              "      <td>0.590628</td>\n",
              "      <td>0.000000</td>\n",
              "    </tr>\n",
              "    <tr>\n",
              "      <td>340</td>\n",
              "      <td>No log</td>\n",
              "      <td>0.656316</td>\n",
              "      <td>0.000000</td>\n",
              "    </tr>\n",
              "    <tr>\n",
              "      <td>360</td>\n",
              "      <td>No log</td>\n",
              "      <td>0.671098</td>\n",
              "      <td>0.000000</td>\n",
              "    </tr>\n",
              "    <tr>\n",
              "      <td>380</td>\n",
              "      <td>No log</td>\n",
              "      <td>0.753479</td>\n",
              "      <td>0.000000</td>\n",
              "    </tr>\n",
              "    <tr>\n",
              "      <td>400</td>\n",
              "      <td>No log</td>\n",
              "      <td>0.676611</td>\n",
              "      <td>0.000000</td>\n",
              "    </tr>\n",
              "  </tbody>\n",
              "</table><p>"
            ]
          },
          "metadata": {}
        },
        {
          "output_type": "stream",
          "name": "stderr",
          "text": [
            "/usr/local/lib/python3.10/dist-packages/sklearn/metrics/_classification.py:1344: UndefinedMetricWarning: Precision is ill-defined and being set to 0.0 due to no predicted samples. Use `zero_division` parameter to control this behavior.\n",
            "  _warn_prf(average, modifier, msg_start, len(result))\n",
            "/usr/local/lib/python3.10/dist-packages/sklearn/metrics/_classification.py:1344: UndefinedMetricWarning: Precision is ill-defined and being set to 0.0 due to no predicted samples. Use `zero_division` parameter to control this behavior.\n",
            "  _warn_prf(average, modifier, msg_start, len(result))\n",
            "/usr/local/lib/python3.10/dist-packages/sklearn/metrics/_classification.py:1344: UndefinedMetricWarning: Precision is ill-defined and being set to 0.0 due to no predicted samples. Use `zero_division` parameter to control this behavior.\n",
            "  _warn_prf(average, modifier, msg_start, len(result))\n",
            "/usr/local/lib/python3.10/dist-packages/sklearn/metrics/_classification.py:1344: UndefinedMetricWarning: Precision is ill-defined and being set to 0.0 due to no predicted samples. Use `zero_division` parameter to control this behavior.\n",
            "  _warn_prf(average, modifier, msg_start, len(result))\n",
            "/usr/local/lib/python3.10/dist-packages/sklearn/metrics/_classification.py:1344: UndefinedMetricWarning: Precision is ill-defined and being set to 0.0 due to no predicted samples. Use `zero_division` parameter to control this behavior.\n",
            "  _warn_prf(average, modifier, msg_start, len(result))\n",
            "/usr/local/lib/python3.10/dist-packages/sklearn/metrics/_classification.py:1344: UndefinedMetricWarning: Precision is ill-defined and being set to 0.0 due to no predicted samples. Use `zero_division` parameter to control this behavior.\n",
            "  _warn_prf(average, modifier, msg_start, len(result))\n",
            "/usr/local/lib/python3.10/dist-packages/sklearn/metrics/_classification.py:1344: UndefinedMetricWarning: Precision is ill-defined and being set to 0.0 due to no predicted samples. Use `zero_division` parameter to control this behavior.\n",
            "  _warn_prf(average, modifier, msg_start, len(result))\n",
            "/usr/local/lib/python3.10/dist-packages/sklearn/metrics/_classification.py:1344: UndefinedMetricWarning: Precision is ill-defined and being set to 0.0 due to no predicted samples. Use `zero_division` parameter to control this behavior.\n",
            "  _warn_prf(average, modifier, msg_start, len(result))\n",
            "/usr/local/lib/python3.10/dist-packages/sklearn/metrics/_classification.py:1344: UndefinedMetricWarning: Precision is ill-defined and being set to 0.0 due to no predicted samples. Use `zero_division` parameter to control this behavior.\n",
            "  _warn_prf(average, modifier, msg_start, len(result))\n",
            "/usr/local/lib/python3.10/dist-packages/sklearn/metrics/_classification.py:1344: UndefinedMetricWarning: Precision is ill-defined and being set to 0.0 due to no predicted samples. Use `zero_division` parameter to control this behavior.\n",
            "  _warn_prf(average, modifier, msg_start, len(result))\n",
            "/usr/local/lib/python3.10/dist-packages/sklearn/metrics/_classification.py:1344: UndefinedMetricWarning: Precision is ill-defined and being set to 0.0 due to no predicted samples. Use `zero_division` parameter to control this behavior.\n",
            "  _warn_prf(average, modifier, msg_start, len(result))\n",
            "/usr/local/lib/python3.10/dist-packages/sklearn/metrics/_classification.py:1344: UndefinedMetricWarning: Precision is ill-defined and being set to 0.0 due to no predicted samples. Use `zero_division` parameter to control this behavior.\n",
            "  _warn_prf(average, modifier, msg_start, len(result))\n",
            "/usr/local/lib/python3.10/dist-packages/sklearn/metrics/_classification.py:1344: UndefinedMetricWarning: Precision is ill-defined and being set to 0.0 due to no predicted samples. Use `zero_division` parameter to control this behavior.\n",
            "  _warn_prf(average, modifier, msg_start, len(result))\n",
            "/usr/local/lib/python3.10/dist-packages/sklearn/metrics/_classification.py:1344: UndefinedMetricWarning: Precision is ill-defined and being set to 0.0 due to no predicted samples. Use `zero_division` parameter to control this behavior.\n",
            "  _warn_prf(average, modifier, msg_start, len(result))\n",
            "/usr/local/lib/python3.10/dist-packages/sklearn/metrics/_classification.py:1344: UndefinedMetricWarning: Precision is ill-defined and being set to 0.0 due to no predicted samples. Use `zero_division` parameter to control this behavior.\n",
            "  _warn_prf(average, modifier, msg_start, len(result))\n",
            "/usr/local/lib/python3.10/dist-packages/sklearn/metrics/_classification.py:1344: UndefinedMetricWarning: Precision is ill-defined and being set to 0.0 due to no predicted samples. Use `zero_division` parameter to control this behavior.\n",
            "  _warn_prf(average, modifier, msg_start, len(result))\n",
            "/usr/local/lib/python3.10/dist-packages/sklearn/metrics/_classification.py:1344: UndefinedMetricWarning: Precision is ill-defined and being set to 0.0 due to no predicted samples. Use `zero_division` parameter to control this behavior.\n",
            "  _warn_prf(average, modifier, msg_start, len(result))\n",
            "[I 2023-10-29 14:27:08,231] Trial 2 finished with value: 0.0 and parameters: {'learning_rate': 0.004923345007361711, 'per_device_train_batch_size': 4, 'per_device_eval_batch_size': 4}. Best is trial 0 with value: 0.0.\n",
            "Some weights of BertForSequenceClassification were not initialized from the model checkpoint at kykim/bert-kor-base and are newly initialized: ['classifier.weight', 'classifier.bias']\n",
            "You should probably TRAIN this model on a down-stream task to be able to use it for predictions and inference.\n"
          ]
        },
        {
          "output_type": "display_data",
          "data": {
            "text/plain": [
              "<IPython.core.display.HTML object>"
            ],
            "text/html": [
              "\n",
              "    <div>\n",
              "      \n",
              "      <progress value='100' max='100' style='width:300px; height:20px; vertical-align: middle;'></progress>\n",
              "      [100/100 00:07, Epoch 10/10]\n",
              "    </div>\n",
              "    <table border=\"1\" class=\"dataframe\">\n",
              "  <thead>\n",
              " <tr style=\"text-align: left;\">\n",
              "      <th>Step</th>\n",
              "      <th>Training Loss</th>\n",
              "      <th>Validation Loss</th>\n",
              "      <th>Precision</th>\n",
              "    </tr>\n",
              "  </thead>\n",
              "  <tbody>\n",
              "    <tr>\n",
              "      <td>20</td>\n",
              "      <td>No log</td>\n",
              "      <td>0.484058</td>\n",
              "      <td>0.000000</td>\n",
              "    </tr>\n",
              "    <tr>\n",
              "      <td>40</td>\n",
              "      <td>No log</td>\n",
              "      <td>0.456788</td>\n",
              "      <td>0.857143</td>\n",
              "    </tr>\n",
              "    <tr>\n",
              "      <td>60</td>\n",
              "      <td>No log</td>\n",
              "      <td>0.238270</td>\n",
              "      <td>0.818182</td>\n",
              "    </tr>\n",
              "    <tr>\n",
              "      <td>80</td>\n",
              "      <td>No log</td>\n",
              "      <td>0.357648</td>\n",
              "      <td>0.900000</td>\n",
              "    </tr>\n",
              "    <tr>\n",
              "      <td>100</td>\n",
              "      <td>No log</td>\n",
              "      <td>0.434903</td>\n",
              "      <td>0.888889</td>\n",
              "    </tr>\n",
              "  </tbody>\n",
              "</table><p>"
            ]
          },
          "metadata": {}
        },
        {
          "output_type": "stream",
          "name": "stderr",
          "text": [
            "/usr/local/lib/python3.10/dist-packages/sklearn/metrics/_classification.py:1344: UndefinedMetricWarning: Precision is ill-defined and being set to 0.0 due to no predicted samples. Use `zero_division` parameter to control this behavior.\n",
            "  _warn_prf(average, modifier, msg_start, len(result))\n",
            "[I 2023-10-29 14:27:22,477] Trial 3 finished with value: 0.8888888888888888 and parameters: {'learning_rate': 0.00015144558905940862, 'per_device_train_batch_size': 16, 'per_device_eval_batch_size': 8}. Best is trial 3 with value: 0.8888888888888888.\n",
            "Some weights of BertForSequenceClassification were not initialized from the model checkpoint at kykim/bert-kor-base and are newly initialized: ['classifier.weight', 'classifier.bias']\n",
            "You should probably TRAIN this model on a down-stream task to be able to use it for predictions and inference.\n"
          ]
        },
        {
          "output_type": "display_data",
          "data": {
            "text/plain": [
              "<IPython.core.display.HTML object>"
            ],
            "text/html": [
              "\n",
              "    <div>\n",
              "      \n",
              "      <progress value='200' max='200' style='width:300px; height:20px; vertical-align: middle;'></progress>\n",
              "      [200/200 00:12, Epoch 10/10]\n",
              "    </div>\n",
              "    <table border=\"1\" class=\"dataframe\">\n",
              "  <thead>\n",
              " <tr style=\"text-align: left;\">\n",
              "      <th>Step</th>\n",
              "      <th>Training Loss</th>\n",
              "      <th>Validation Loss</th>\n",
              "      <th>Precision</th>\n",
              "    </tr>\n",
              "  </thead>\n",
              "  <tbody>\n",
              "    <tr>\n",
              "      <td>20</td>\n",
              "      <td>No log</td>\n",
              "      <td>1.170492</td>\n",
              "      <td>0.000000</td>\n",
              "    </tr>\n",
              "    <tr>\n",
              "      <td>40</td>\n",
              "      <td>No log</td>\n",
              "      <td>0.896160</td>\n",
              "      <td>0.250000</td>\n",
              "    </tr>\n",
              "    <tr>\n",
              "      <td>60</td>\n",
              "      <td>No log</td>\n",
              "      <td>0.577567</td>\n",
              "      <td>0.000000</td>\n",
              "    </tr>\n",
              "    <tr>\n",
              "      <td>80</td>\n",
              "      <td>No log</td>\n",
              "      <td>0.600976</td>\n",
              "      <td>0.000000</td>\n",
              "    </tr>\n",
              "    <tr>\n",
              "      <td>100</td>\n",
              "      <td>No log</td>\n",
              "      <td>0.567667</td>\n",
              "      <td>0.000000</td>\n",
              "    </tr>\n",
              "    <tr>\n",
              "      <td>120</td>\n",
              "      <td>No log</td>\n",
              "      <td>0.562601</td>\n",
              "      <td>0.000000</td>\n",
              "    </tr>\n",
              "    <tr>\n",
              "      <td>140</td>\n",
              "      <td>No log</td>\n",
              "      <td>0.642740</td>\n",
              "      <td>0.000000</td>\n",
              "    </tr>\n",
              "    <tr>\n",
              "      <td>160</td>\n",
              "      <td>No log</td>\n",
              "      <td>0.586479</td>\n",
              "      <td>0.000000</td>\n",
              "    </tr>\n",
              "    <tr>\n",
              "      <td>180</td>\n",
              "      <td>No log</td>\n",
              "      <td>0.563286</td>\n",
              "      <td>0.000000</td>\n",
              "    </tr>\n",
              "    <tr>\n",
              "      <td>200</td>\n",
              "      <td>No log</td>\n",
              "      <td>0.568896</td>\n",
              "      <td>0.000000</td>\n",
              "    </tr>\n",
              "  </tbody>\n",
              "</table><p>"
            ]
          },
          "metadata": {}
        },
        {
          "output_type": "stream",
          "name": "stderr",
          "text": [
            "/usr/local/lib/python3.10/dist-packages/sklearn/metrics/_classification.py:1344: UndefinedMetricWarning: Precision is ill-defined and being set to 0.0 due to no predicted samples. Use `zero_division` parameter to control this behavior.\n",
            "  _warn_prf(average, modifier, msg_start, len(result))\n",
            "/usr/local/lib/python3.10/dist-packages/sklearn/metrics/_classification.py:1344: UndefinedMetricWarning: Precision is ill-defined and being set to 0.0 due to no predicted samples. Use `zero_division` parameter to control this behavior.\n",
            "  _warn_prf(average, modifier, msg_start, len(result))\n",
            "/usr/local/lib/python3.10/dist-packages/sklearn/metrics/_classification.py:1344: UndefinedMetricWarning: Precision is ill-defined and being set to 0.0 due to no predicted samples. Use `zero_division` parameter to control this behavior.\n",
            "  _warn_prf(average, modifier, msg_start, len(result))\n",
            "/usr/local/lib/python3.10/dist-packages/sklearn/metrics/_classification.py:1344: UndefinedMetricWarning: Precision is ill-defined and being set to 0.0 due to no predicted samples. Use `zero_division` parameter to control this behavior.\n",
            "  _warn_prf(average, modifier, msg_start, len(result))\n",
            "/usr/local/lib/python3.10/dist-packages/sklearn/metrics/_classification.py:1344: UndefinedMetricWarning: Precision is ill-defined and being set to 0.0 due to no predicted samples. Use `zero_division` parameter to control this behavior.\n",
            "  _warn_prf(average, modifier, msg_start, len(result))\n",
            "/usr/local/lib/python3.10/dist-packages/sklearn/metrics/_classification.py:1344: UndefinedMetricWarning: Precision is ill-defined and being set to 0.0 due to no predicted samples. Use `zero_division` parameter to control this behavior.\n",
            "  _warn_prf(average, modifier, msg_start, len(result))\n",
            "/usr/local/lib/python3.10/dist-packages/sklearn/metrics/_classification.py:1344: UndefinedMetricWarning: Precision is ill-defined and being set to 0.0 due to no predicted samples. Use `zero_division` parameter to control this behavior.\n",
            "  _warn_prf(average, modifier, msg_start, len(result))\n",
            "/usr/local/lib/python3.10/dist-packages/sklearn/metrics/_classification.py:1344: UndefinedMetricWarning: Precision is ill-defined and being set to 0.0 due to no predicted samples. Use `zero_division` parameter to control this behavior.\n",
            "  _warn_prf(average, modifier, msg_start, len(result))\n",
            "/usr/local/lib/python3.10/dist-packages/sklearn/metrics/_classification.py:1344: UndefinedMetricWarning: Precision is ill-defined and being set to 0.0 due to no predicted samples. Use `zero_division` parameter to control this behavior.\n",
            "  _warn_prf(average, modifier, msg_start, len(result))\n",
            "[I 2023-10-29 14:27:41,294] Trial 4 finished with value: 0.0 and parameters: {'learning_rate': 0.0020628547776685028, 'per_device_train_batch_size': 8, 'per_device_eval_batch_size': 16}. Best is trial 3 with value: 0.8888888888888888.\n",
            "Some weights of BertForSequenceClassification were not initialized from the model checkpoint at kykim/bert-kor-base and are newly initialized: ['classifier.weight', 'classifier.bias']\n",
            "You should probably TRAIN this model on a down-stream task to be able to use it for predictions and inference.\n"
          ]
        },
        {
          "output_type": "display_data",
          "data": {
            "text/plain": [
              "<IPython.core.display.HTML object>"
            ],
            "text/html": [
              "\n",
              "    <div>\n",
              "      \n",
              "      <progress value='400' max='400' style='width:300px; height:20px; vertical-align: middle;'></progress>\n",
              "      [400/400 00:22, Epoch 10/10]\n",
              "    </div>\n",
              "    <table border=\"1\" class=\"dataframe\">\n",
              "  <thead>\n",
              " <tr style=\"text-align: left;\">\n",
              "      <th>Step</th>\n",
              "      <th>Training Loss</th>\n",
              "      <th>Validation Loss</th>\n",
              "      <th>Precision</th>\n",
              "    </tr>\n",
              "  </thead>\n",
              "  <tbody>\n",
              "    <tr>\n",
              "      <td>20</td>\n",
              "      <td>No log</td>\n",
              "      <td>0.565636</td>\n",
              "      <td>0.000000</td>\n",
              "    </tr>\n",
              "    <tr>\n",
              "      <td>40</td>\n",
              "      <td>No log</td>\n",
              "      <td>0.499646</td>\n",
              "      <td>1.000000</td>\n",
              "    </tr>\n",
              "    <tr>\n",
              "      <td>60</td>\n",
              "      <td>No log</td>\n",
              "      <td>0.345285</td>\n",
              "      <td>0.857143</td>\n",
              "    </tr>\n",
              "    <tr>\n",
              "      <td>80</td>\n",
              "      <td>No log</td>\n",
              "      <td>0.508644</td>\n",
              "      <td>0.500000</td>\n",
              "    </tr>\n",
              "    <tr>\n",
              "      <td>100</td>\n",
              "      <td>No log</td>\n",
              "      <td>0.272198</td>\n",
              "      <td>0.888889</td>\n",
              "    </tr>\n",
              "    <tr>\n",
              "      <td>120</td>\n",
              "      <td>No log</td>\n",
              "      <td>0.141296</td>\n",
              "      <td>0.909091</td>\n",
              "    </tr>\n",
              "    <tr>\n",
              "      <td>140</td>\n",
              "      <td>No log</td>\n",
              "      <td>0.508202</td>\n",
              "      <td>0.769231</td>\n",
              "    </tr>\n",
              "    <tr>\n",
              "      <td>160</td>\n",
              "      <td>No log</td>\n",
              "      <td>0.849736</td>\n",
              "      <td>0.833333</td>\n",
              "    </tr>\n",
              "    <tr>\n",
              "      <td>180</td>\n",
              "      <td>No log</td>\n",
              "      <td>0.473396</td>\n",
              "      <td>0.875000</td>\n",
              "    </tr>\n",
              "    <tr>\n",
              "      <td>200</td>\n",
              "      <td>No log</td>\n",
              "      <td>0.630197</td>\n",
              "      <td>0.714286</td>\n",
              "    </tr>\n",
              "    <tr>\n",
              "      <td>220</td>\n",
              "      <td>No log</td>\n",
              "      <td>0.716224</td>\n",
              "      <td>0.692308</td>\n",
              "    </tr>\n",
              "    <tr>\n",
              "      <td>240</td>\n",
              "      <td>No log</td>\n",
              "      <td>0.746480</td>\n",
              "      <td>0.692308</td>\n",
              "    </tr>\n",
              "    <tr>\n",
              "      <td>260</td>\n",
              "      <td>No log</td>\n",
              "      <td>0.774638</td>\n",
              "      <td>0.714286</td>\n",
              "    </tr>\n",
              "    <tr>\n",
              "      <td>280</td>\n",
              "      <td>No log</td>\n",
              "      <td>0.746671</td>\n",
              "      <td>0.692308</td>\n",
              "    </tr>\n",
              "    <tr>\n",
              "      <td>300</td>\n",
              "      <td>No log</td>\n",
              "      <td>0.724225</td>\n",
              "      <td>0.750000</td>\n",
              "    </tr>\n",
              "    <tr>\n",
              "      <td>320</td>\n",
              "      <td>No log</td>\n",
              "      <td>0.783728</td>\n",
              "      <td>0.750000</td>\n",
              "    </tr>\n",
              "    <tr>\n",
              "      <td>340</td>\n",
              "      <td>No log</td>\n",
              "      <td>0.793270</td>\n",
              "      <td>0.750000</td>\n",
              "    </tr>\n",
              "    <tr>\n",
              "      <td>360</td>\n",
              "      <td>No log</td>\n",
              "      <td>0.797896</td>\n",
              "      <td>0.750000</td>\n",
              "    </tr>\n",
              "    <tr>\n",
              "      <td>380</td>\n",
              "      <td>No log</td>\n",
              "      <td>0.799829</td>\n",
              "      <td>0.750000</td>\n",
              "    </tr>\n",
              "    <tr>\n",
              "      <td>400</td>\n",
              "      <td>No log</td>\n",
              "      <td>0.800663</td>\n",
              "      <td>0.750000</td>\n",
              "    </tr>\n",
              "  </tbody>\n",
              "</table><p>"
            ]
          },
          "metadata": {}
        },
        {
          "output_type": "stream",
          "name": "stderr",
          "text": [
            "/usr/local/lib/python3.10/dist-packages/sklearn/metrics/_classification.py:1344: UndefinedMetricWarning: Precision is ill-defined and being set to 0.0 due to no predicted samples. Use `zero_division` parameter to control this behavior.\n",
            "  _warn_prf(average, modifier, msg_start, len(result))\n",
            "[I 2023-10-29 14:28:08,531] Trial 5 finished with value: 0.75 and parameters: {'learning_rate': 0.00011086046865577945, 'per_device_train_batch_size': 4, 'per_device_eval_batch_size': 8}. Best is trial 3 with value: 0.8888888888888888.\n",
            "Some weights of BertForSequenceClassification were not initialized from the model checkpoint at kykim/bert-kor-base and are newly initialized: ['classifier.weight', 'classifier.bias']\n",
            "You should probably TRAIN this model on a down-stream task to be able to use it for predictions and inference.\n"
          ]
        },
        {
          "output_type": "display_data",
          "data": {
            "text/plain": [
              "<IPython.core.display.HTML object>"
            ],
            "text/html": [
              "\n",
              "    <div>\n",
              "      \n",
              "      <progress value='40' max='400' style='width:300px; height:20px; vertical-align: middle;'></progress>\n",
              "      [ 40/400 00:02 < 00:22, 15.74 it/s, Epoch 1/10]\n",
              "    </div>\n",
              "    <table border=\"1\" class=\"dataframe\">\n",
              "  <thead>\n",
              " <tr style=\"text-align: left;\">\n",
              "      <th>Step</th>\n",
              "      <th>Training Loss</th>\n",
              "      <th>Validation Loss</th>\n",
              "      <th>Precision</th>\n",
              "    </tr>\n",
              "  </thead>\n",
              "  <tbody>\n",
              "    <tr>\n",
              "      <td>20</td>\n",
              "      <td>No log</td>\n",
              "      <td>1.107394</td>\n",
              "      <td>0.000000</td>\n",
              "    </tr>\n",
              "    <tr>\n",
              "      <td>40</td>\n",
              "      <td>No log</td>\n",
              "      <td>1.583924</td>\n",
              "      <td>0.000000</td>\n",
              "    </tr>\n",
              "  </tbody>\n",
              "</table><p>"
            ]
          },
          "metadata": {}
        },
        {
          "output_type": "stream",
          "name": "stderr",
          "text": [
            "/usr/local/lib/python3.10/dist-packages/sklearn/metrics/_classification.py:1344: UndefinedMetricWarning: Precision is ill-defined and being set to 0.0 due to no predicted samples. Use `zero_division` parameter to control this behavior.\n",
            "  _warn_prf(average, modifier, msg_start, len(result))\n",
            "/usr/local/lib/python3.10/dist-packages/sklearn/metrics/_classification.py:1344: UndefinedMetricWarning: Precision is ill-defined and being set to 0.0 due to no predicted samples. Use `zero_division` parameter to control this behavior.\n",
            "  _warn_prf(average, modifier, msg_start, len(result))\n",
            "[I 2023-10-29 14:28:15,747] Trial 6 pruned. \n",
            "Some weights of BertForSequenceClassification were not initialized from the model checkpoint at kykim/bert-kor-base and are newly initialized: ['classifier.weight', 'classifier.bias']\n",
            "You should probably TRAIN this model on a down-stream task to be able to use it for predictions and inference.\n"
          ]
        },
        {
          "output_type": "display_data",
          "data": {
            "text/plain": [
              "<IPython.core.display.HTML object>"
            ],
            "text/html": [
              "\n",
              "    <div>\n",
              "      \n",
              "      <progress value='40' max='100' style='width:300px; height:20px; vertical-align: middle;'></progress>\n",
              "      [ 40/100 00:03 < 00:04, 12.35 it/s, Epoch 4/10]\n",
              "    </div>\n",
              "    <table border=\"1\" class=\"dataframe\">\n",
              "  <thead>\n",
              " <tr style=\"text-align: left;\">\n",
              "      <th>Step</th>\n",
              "      <th>Training Loss</th>\n",
              "      <th>Validation Loss</th>\n",
              "      <th>Precision</th>\n",
              "    </tr>\n",
              "  </thead>\n",
              "  <tbody>\n",
              "    <tr>\n",
              "      <td>20</td>\n",
              "      <td>No log</td>\n",
              "      <td>0.570069</td>\n",
              "      <td>0.000000</td>\n",
              "    </tr>\n",
              "    <tr>\n",
              "      <td>40</td>\n",
              "      <td>No log</td>\n",
              "      <td>0.563847</td>\n",
              "      <td>0.000000</td>\n",
              "    </tr>\n",
              "  </tbody>\n",
              "</table><p>"
            ]
          },
          "metadata": {}
        },
        {
          "output_type": "stream",
          "name": "stderr",
          "text": [
            "/usr/local/lib/python3.10/dist-packages/sklearn/metrics/_classification.py:1344: UndefinedMetricWarning: Precision is ill-defined and being set to 0.0 due to no predicted samples. Use `zero_division` parameter to control this behavior.\n",
            "  _warn_prf(average, modifier, msg_start, len(result))\n",
            "/usr/local/lib/python3.10/dist-packages/sklearn/metrics/_classification.py:1344: UndefinedMetricWarning: Precision is ill-defined and being set to 0.0 due to no predicted samples. Use `zero_division` parameter to control this behavior.\n",
            "  _warn_prf(average, modifier, msg_start, len(result))\n",
            "[I 2023-10-29 14:28:25,606] Trial 7 pruned. \n",
            "Some weights of BertForSequenceClassification were not initialized from the model checkpoint at kykim/bert-kor-base and are newly initialized: ['classifier.weight', 'classifier.bias']\n",
            "You should probably TRAIN this model on a down-stream task to be able to use it for predictions and inference.\n"
          ]
        },
        {
          "output_type": "display_data",
          "data": {
            "text/plain": [
              "<IPython.core.display.HTML object>"
            ],
            "text/html": [
              "\n",
              "    <div>\n",
              "      \n",
              "      <progress value='200' max='200' style='width:300px; height:20px; vertical-align: middle;'></progress>\n",
              "      [200/200 00:12, Epoch 10/10]\n",
              "    </div>\n",
              "    <table border=\"1\" class=\"dataframe\">\n",
              "  <thead>\n",
              " <tr style=\"text-align: left;\">\n",
              "      <th>Step</th>\n",
              "      <th>Training Loss</th>\n",
              "      <th>Validation Loss</th>\n",
              "      <th>Precision</th>\n",
              "    </tr>\n",
              "  </thead>\n",
              "  <tbody>\n",
              "    <tr>\n",
              "      <td>20</td>\n",
              "      <td>No log</td>\n",
              "      <td>1.511420</td>\n",
              "      <td>0.000000</td>\n",
              "    </tr>\n",
              "    <tr>\n",
              "      <td>40</td>\n",
              "      <td>No log</td>\n",
              "      <td>1.385679</td>\n",
              "      <td>0.250000</td>\n",
              "    </tr>\n",
              "    <tr>\n",
              "      <td>60</td>\n",
              "      <td>No log</td>\n",
              "      <td>0.674257</td>\n",
              "      <td>0.000000</td>\n",
              "    </tr>\n",
              "    <tr>\n",
              "      <td>80</td>\n",
              "      <td>No log</td>\n",
              "      <td>0.860710</td>\n",
              "      <td>0.250000</td>\n",
              "    </tr>\n",
              "    <tr>\n",
              "      <td>100</td>\n",
              "      <td>No log</td>\n",
              "      <td>0.590728</td>\n",
              "      <td>0.000000</td>\n",
              "    </tr>\n",
              "    <tr>\n",
              "      <td>120</td>\n",
              "      <td>No log</td>\n",
              "      <td>0.627009</td>\n",
              "      <td>0.000000</td>\n",
              "    </tr>\n",
              "    <tr>\n",
              "      <td>140</td>\n",
              "      <td>No log</td>\n",
              "      <td>0.566572</td>\n",
              "      <td>0.000000</td>\n",
              "    </tr>\n",
              "    <tr>\n",
              "      <td>160</td>\n",
              "      <td>No log</td>\n",
              "      <td>0.578692</td>\n",
              "      <td>0.000000</td>\n",
              "    </tr>\n",
              "    <tr>\n",
              "      <td>180</td>\n",
              "      <td>No log</td>\n",
              "      <td>0.569225</td>\n",
              "      <td>0.000000</td>\n",
              "    </tr>\n",
              "    <tr>\n",
              "      <td>200</td>\n",
              "      <td>No log</td>\n",
              "      <td>0.562336</td>\n",
              "      <td>0.000000</td>\n",
              "    </tr>\n",
              "  </tbody>\n",
              "</table><p>"
            ]
          },
          "metadata": {}
        },
        {
          "output_type": "stream",
          "name": "stderr",
          "text": [
            "/usr/local/lib/python3.10/dist-packages/sklearn/metrics/_classification.py:1344: UndefinedMetricWarning: Precision is ill-defined and being set to 0.0 due to no predicted samples. Use `zero_division` parameter to control this behavior.\n",
            "  _warn_prf(average, modifier, msg_start, len(result))\n",
            "/usr/local/lib/python3.10/dist-packages/sklearn/metrics/_classification.py:1344: UndefinedMetricWarning: Precision is ill-defined and being set to 0.0 due to no predicted samples. Use `zero_division` parameter to control this behavior.\n",
            "  _warn_prf(average, modifier, msg_start, len(result))\n",
            "/usr/local/lib/python3.10/dist-packages/sklearn/metrics/_classification.py:1344: UndefinedMetricWarning: Precision is ill-defined and being set to 0.0 due to no predicted samples. Use `zero_division` parameter to control this behavior.\n",
            "  _warn_prf(average, modifier, msg_start, len(result))\n",
            "/usr/local/lib/python3.10/dist-packages/sklearn/metrics/_classification.py:1344: UndefinedMetricWarning: Precision is ill-defined and being set to 0.0 due to no predicted samples. Use `zero_division` parameter to control this behavior.\n",
            "  _warn_prf(average, modifier, msg_start, len(result))\n",
            "/usr/local/lib/python3.10/dist-packages/sklearn/metrics/_classification.py:1344: UndefinedMetricWarning: Precision is ill-defined and being set to 0.0 due to no predicted samples. Use `zero_division` parameter to control this behavior.\n",
            "  _warn_prf(average, modifier, msg_start, len(result))\n",
            "/usr/local/lib/python3.10/dist-packages/sklearn/metrics/_classification.py:1344: UndefinedMetricWarning: Precision is ill-defined and being set to 0.0 due to no predicted samples. Use `zero_division` parameter to control this behavior.\n",
            "  _warn_prf(average, modifier, msg_start, len(result))\n",
            "/usr/local/lib/python3.10/dist-packages/sklearn/metrics/_classification.py:1344: UndefinedMetricWarning: Precision is ill-defined and being set to 0.0 due to no predicted samples. Use `zero_division` parameter to control this behavior.\n",
            "  _warn_prf(average, modifier, msg_start, len(result))\n",
            "/usr/local/lib/python3.10/dist-packages/sklearn/metrics/_classification.py:1344: UndefinedMetricWarning: Precision is ill-defined and being set to 0.0 due to no predicted samples. Use `zero_division` parameter to control this behavior.\n",
            "  _warn_prf(average, modifier, msg_start, len(result))\n",
            "[I 2023-10-29 14:28:43,187] Trial 8 finished with value: 0.0 and parameters: {'learning_rate': 0.003985291295656222, 'per_device_train_batch_size': 8, 'per_device_eval_batch_size': 16}. Best is trial 3 with value: 0.8888888888888888.\n",
            "Some weights of BertForSequenceClassification were not initialized from the model checkpoint at kykim/bert-kor-base and are newly initialized: ['classifier.weight', 'classifier.bias']\n",
            "You should probably TRAIN this model on a down-stream task to be able to use it for predictions and inference.\n"
          ]
        },
        {
          "output_type": "display_data",
          "data": {
            "text/plain": [
              "<IPython.core.display.HTML object>"
            ],
            "text/html": [
              "\n",
              "    <div>\n",
              "      \n",
              "      <progress value='40' max='400' style='width:300px; height:20px; vertical-align: middle;'></progress>\n",
              "      [ 40/400 00:02 < 00:19, 18.14 it/s, Epoch 1/10]\n",
              "    </div>\n",
              "    <table border=\"1\" class=\"dataframe\">\n",
              "  <thead>\n",
              " <tr style=\"text-align: left;\">\n",
              "      <th>Step</th>\n",
              "      <th>Training Loss</th>\n",
              "      <th>Validation Loss</th>\n",
              "      <th>Precision</th>\n",
              "    </tr>\n",
              "  </thead>\n",
              "  <tbody>\n",
              "    <tr>\n",
              "      <td>20</td>\n",
              "      <td>No log</td>\n",
              "      <td>1.464188</td>\n",
              "      <td>0.000000</td>\n",
              "    </tr>\n",
              "    <tr>\n",
              "      <td>40</td>\n",
              "      <td>No log</td>\n",
              "      <td>1.124112</td>\n",
              "      <td>0.000000</td>\n",
              "    </tr>\n",
              "  </tbody>\n",
              "</table><p>"
            ]
          },
          "metadata": {}
        },
        {
          "output_type": "stream",
          "name": "stderr",
          "text": [
            "/usr/local/lib/python3.10/dist-packages/sklearn/metrics/_classification.py:1344: UndefinedMetricWarning: Precision is ill-defined and being set to 0.0 due to no predicted samples. Use `zero_division` parameter to control this behavior.\n",
            "  _warn_prf(average, modifier, msg_start, len(result))\n",
            "/usr/local/lib/python3.10/dist-packages/sklearn/metrics/_classification.py:1344: UndefinedMetricWarning: Precision is ill-defined and being set to 0.0 due to no predicted samples. Use `zero_division` parameter to control this behavior.\n",
            "  _warn_prf(average, modifier, msg_start, len(result))\n",
            "[I 2023-10-29 14:28:49,216] Trial 9 pruned. \n"
          ]
        }
      ]
    },
    {
      "cell_type": "code",
      "source": [
        "print(best_trial)\n",
        "best_hp = best_trial.hyperparameters\n",
        "best_model = cl_model_init(best_hp)"
      ],
      "metadata": {
        "colab": {
          "base_uri": "https://localhost:8080/"
        },
        "id": "DtPDurFuvUjB",
        "outputId": "a366e7b5-f165-46a4-b8ec-824298be55bd"
      },
      "execution_count": null,
      "outputs": [
        {
          "output_type": "stream",
          "name": "stdout",
          "text": [
            "BestRun(run_id='3', objective=0.8888888888888888, hyperparameters={'learning_rate': 0.00015144558905940862, 'per_device_train_batch_size': 16, 'per_device_eval_batch_size': 8}, run_summary=None)\n"
          ]
        },
        {
          "output_type": "stream",
          "name": "stderr",
          "text": [
            "Some weights of BertForSequenceClassification were not initialized from the model checkpoint at kykim/bert-kor-base and are newly initialized: ['classifier.weight', 'classifier.bias']\n",
            "You should probably TRAIN this model on a down-stream task to be able to use it for predictions and inference.\n"
          ]
        }
      ]
    },
    {
      "cell_type": "code",
      "source": [
        "binary_labels_ts = []\n",
        "test_text = test_df.copy()\n",
        "\n",
        "for i in range(1, 5):\n",
        "    train_text[f'sentence{i}'] = test_df[f'sentence{i}'].apply(lambda x : preprocessing_text(x))\n",
        "\n",
        "for index, row in test_text.iterrows():\n",
        "    for i in range(1, 5):\n",
        "        sentence = row[f\"sentence{i}\"]\n",
        "        binary_labels_ts.append(sentence)\n",
        "\n",
        "test_bin = pd.DataFrame(binary_labels_ts)\n",
        "test_token = [tokenizer(sentence, padding='max_length', max_length = 70, truncation=True) for sentence in test_bin[0]]\n",
        "test_ds = Dataset.from_pandas(pd.DataFrame(test_token))"
      ],
      "metadata": {
        "id": "ZstedAKJBUuS"
      },
      "execution_count": null,
      "outputs": []
    },
    {
      "cell_type": "code",
      "source": [
        "preds = Trainer(model = best_model).predict(test_ds)"
      ],
      "metadata": {
        "colab": {
          "base_uri": "https://localhost:8080/",
          "height": 17
        },
        "id": "GQ9f-GuwEXPk",
        "outputId": "7a962a22-ae89-4a3d-d578-66e8d5d1d18c"
      },
      "execution_count": null,
      "outputs": [
        {
          "output_type": "display_data",
          "data": {
            "text/plain": [
              "<IPython.core.display.HTML object>"
            ],
            "text/html": []
          },
          "metadata": {}
        }
      ]
    },
    {
      "cell_type": "code",
      "source": [
        "pred_logits = preds.predictions[:, 1]\n",
        "\n",
        "# logits를 4개씩 그룹으로 분할\n",
        "grouped_logits = [pred_logits[i:i+4] for i in range(0, len(pred_logits), 4)]\n",
        "\n",
        "result = []\n",
        "\n",
        "# 각 행에서 가장 큰 값 2개의 인덱스를 추출하고 결합하여 저장\n",
        "for row in grouped_logits:\n",
        "    top_indices = sorted(np.argsort(row)[-2:]+1)  # 가장 큰 값 2개의 인덱스\n",
        "    combined_index = str(f\"{top_indices[0]}{top_indices[1]}\")\n",
        "    result.append(combined_index)\n",
        "\n",
        "print(result)"
      ],
      "metadata": {
        "colab": {
          "base_uri": "https://localhost:8080/"
        },
        "id": "PxtzfOxJlxZ5",
        "outputId": "e213293a-77ca-4e14-fa27-139dd292a41a"
      },
      "execution_count": null,
      "outputs": [
        {
          "output_type": "stream",
          "name": "stdout",
          "text": [
            "['12', '14', '13', '14', '23', '34', '23', '13', '34', '23', '24', '24', '23', '34', '34', '23', '14', '23', '23', '13', '23', '12', '12', '23', '14', '34', '13', '24', '13', '13', '23', '14', '12', '13', '13', '13', '23', '24', '13', '14', '13', '23', '12', '23', '24', '12', '13', '34', '14', '13', '14', '23', '12', '13', '23', '23', '24', '34', '23', '23', '24', '13', '14', '12', '13', '12', '13', '34', '12', '13', '34', '14', '13', '12', '34', '14', '34', '14', '14', '34', '13', '13', '13', '23', '34', '13', '12', '13', '14', '24', '14', '23', '34', '12', '14', '14', '34', '13', '23', '34', '34', '12', '23', '24', '23', '23', '24', '12', '12', '23', '12', '24', '14', '34', '13', '12', '12', '23', '12', '12', '14', '34', '13', '23', '13', '12', '24', '24', '24', '14', '34', '12', '14', '34', '13', '13', '23', '34', '34', '13', '34', '24', '12', '24', '14', '23', '24', '34', '13', '14', '23', '14', '12', '12', '34', '13', '34', '23', '12', '23', '24', '14', '14', '23', '34', '24', '12', '12', '34', '13', '24', '34', '24', '14', '34', '12', '12', '13', '24', '34', '23', '34', '34', '13', '24', '34', '14', '12', '12', '24', '23', '13', '34', '14', '14', '12', '24', '34', '14', '12', '14', '13', '23', '23', '14', '23', '12', '13', '23', '14', '13', '24', '24', '34', '12', '12', '13', '34', '14', '12', '12', '13', '23', '34', '13', '13', '12', '14', '12', '23', '12', '14', '23', '34', '34', '14', '24', '13', '23', '12', '34', '34', '13', '13', '13', '34', '14', '34', '14', '13', '13', '23', '13', '23', '12', '14', '24', '13', '34', '23', '23', '13', '34', '24', '34', '24', '24', '23', '13', '12', '23', '23', '24', '24', '13', '34', '13', '34', '14', '14', '23', '34', '23', '12', '12', '14', '14', '13', '34', '34', '14', '12', '14', '14', '23', '13', '14', '12', '12', '24', '12', '13', '13', '24', '12', '12', '14', '34', '23', '34', '24', '34', '13', '13', '12', '13', '12', '34', '13', '13', '23', '13', '24', '14', '34', '34', '14', '12', '34', '14', '13', '23', '23', '12', '23', '34', '12', '24', '23', '14', '24', '34', '12', '34', '24', '24', '14', '13', '13', '24', '13', '14', '24', '14', '23', '24', '14', '24', '24', '24', '12', '23', '13', '23', '24', '14', '12', '23', '34', '14', '12', '24', '13', '13', '23', '14', '14', '12', '13', '13', '13', '24', '12', '12', '14', '24', '13', '34', '12', '13', '13', '12', '13', '34', '34', '23', '12', '34', '24', '24', '13', '14', '13', '24', '34', '12', '12', '13', '23', '23', '12', '14', '14', '34', '34', '14', '14', '13', '24', '23', '13', '24', '12', '14', '13', '14', '13', '24', '13', '12', '24', '13', '34', '24', '24', '34', '23', '23', '14', '14', '23', '34', '14', '24', '23', '12', '34', '24', '13', '34', '14', '12', '12', '24', '14', '12', '13', '24', '24', '24', '24', '14', '24', '24', '24', '12', '13', '14', '14', '12', '24', '12', '14', '24', '12', '24', '13', '34', '34', '34', '13', '23', '12', '34', '34', '13', '23', '13', '13', '14', '24', '14', '34', '14', '13', '24', '34', '14', '13', '23', '23', '14', '23', '24', '24', '12', '34', '24', '12', '13', '12', '24', '13', '13', '23', '13', '24', '14', '24', '12', '34', '23', '34', '23', '13', '13', '12', '13', '34', '13', '34', '34', '34', '13', '34', '34', '14', '23', '14', '34', '13', '23', '13', '23', '13', '23', '23', '24', '14', '13', '23', '14', '23', '23', '14', '23', '34', '24', '34', '14', '12', '34', '13', '12', '14', '14', '23', '14', '12', '14', '34', '24', '24', '12', '24', '13', '34', '34', '34', '12', '34', '34', '34', '14', '34', '12', '12', '12', '24', '13', '14', '24', '13', '23', '13', '12', '34', '23', '24', '13', '13', '14', '14', '34', '24', '13', '12', '14', '34', '34', '24', '34', '23', '24', '24', '24', '12', '12', '24', '34', '13', '14', '14', '13', '14', '14', '12', '23', '13', '13', '13', '23', '14', '12', '13', '23', '34', '12', '23', '13', '23', '12', '34', '12', '23', '34', '34', '14', '13', '13', '34', '13', '13', '14', '23', '12', '14', '12', '34', '23', '34', '13', '24', '13', '12', '14', '34', '24', '24', '13', '14', '14', '34', '14', '13', '24', '34', '12', '14', '34', '24', '34', '34', '12', '12', '14', '14', '12', '23', '13', '13', '23', '13', '12', '23', '13', '13', '34', '34', '12', '13', '34', '13', '13', '12', '34', '13', '12', '12', '12', '13', '24', '12', '34', '14', '14', '13', '24', '13', '23', '13', '23', '12', '13', '12', '23', '34', '14', '34', '23', '24', '13', '12', '23', '34', '24', '34', '24', '14', '34', '13', '14', '14', '23', '34', '14', '14', '24', '12', '12', '13', '23', '13', '23', '23', '23', '13', '13', '12', '23', '34', '34', '23', '24', '24', '34', '12', '12', '23', '23', '24', '12', '24', '14', '34', '13', '12', '13', '13', '23', '12', '12', '24', '24', '13', '24', '34', '13', '13', '24', '34', '12', '12', '12', '12', '23', '34', '24', '14', '24', '34', '14', '24', '24', '23', '23', '23', '13', '34', '14', '24', '24', '14', '13', '13', '24', '34', '23', '34', '23', '23', '12', '14', '14', '34', '34', '12', '12', '14', '24', '14', '34', '12', '13', '34', '24', '24', '12', '12', '23', '24', '23', '14', '24', '34', '12', '14', '24', '13', '23', '24', '13', '34', '12', '12', '14', '12', '34', '23', '13', '23', '23', '14', '24', '14', '12', '13', '12', '13', '14', '23', '24', '23', '13', '14', '34', '12', '14', '23', '23', '34', '23', '24', '23', '13', '23', '14', '12', '24', '23', '12', '13', '23', '24', '13', '14', '24', '24', '34', '12', '13', '12', '23', '14', '13', '13', '13', '34', '14', '24', '14', '23', '14', '14', '14', '13', '24', '13', '34', '34', '34', '12', '13', '23', '12', '14', '23', '13', '23', '24', '34', '13', '24', '13', '34', '24', '34', '34', '24', '24', '12', '14', '34', '24', '34', '24', '13', '14', '13', '12', '12', '24', '14', '14', '23', '12', '23', '12', '12', '24', '24', '14', '12', '34', '34', '13', '23', '13', '14', '24', '34', '14', '24', '23', '24', '23', '12', '23', '12', '14', '23', '12', '13', '34', '34', '23', '23', '23', '24', '14', '23', '12', '14', '13', '13', '23', '23', '13', '23', '12', '12', '23', '13', '34', '14', '14', '23', '13', '14', '23', '23', '34', '13', '12', '12', '23', '24', '13', '12', '34', '13', '12', '23', '14', '23', '24', '34', '23', '14', '23', '14', '13', '23', '12', '23', '24', '13', '23', '13', '34', '23', '34', '23', '34', '12', '13', '34', '24', '14', '13', '23', '13', '13', '14', '13', '13', '14', '14', '14', '24', '13', '13', '34', '13', '13', '13', '23', '23', '14', '23', '14', '24', '13', '12', '23', '24', '23', '12', '14', '34', '24', '14', '14', '34', '34', '14', '14', '14', '12', '24', '23', '12', '23', '24', '24', '24', '13', '23', '12', '13']\n"
          ]
        }
      ]
    },
    {
      "cell_type": "code",
      "source": [
        "submit = pd.read_csv('/content/drive/MyDrive/Colab Notebooks/data/AI vs Human/sample_submission.csv')\n",
        "submit['label'] = result\n",
        "submit.head()\n",
        "submit.to_csv('/content/drive/MyDrive/Colab Notebooks/data/AI vs Human/submit3.csv', index=False)"
      ],
      "metadata": {
        "id": "g_3eoMg5oTLR"
      },
      "execution_count": null,
      "outputs": []
    },
    {
      "cell_type": "markdown",
      "source": [
        "# Multiple Choice"
      ],
      "metadata": {
        "id": "ktB6MGcgXRsu"
      }
    },
    {
      "cell_type": "code",
      "execution_count": null,
      "metadata": {
        "id": "Z8rLCCfzEwLt"
      },
      "outputs": [],
      "source": [
        "# # #평가지표\n",
        "# # def compute_metrix(p):\n",
        "# #     top_k = p.predictions.argsort()[:, -2:]\n",
        "# #     true_labels = p.label_ids\n",
        "# #     map_at_2 = [average_precision_score([label in top for label in true_labels], [1, 1]) for top in top_k]\n",
        "# #     return {\"mAP@2\": sum(map_at_2) / len(map_at_2)}\n",
        "\n",
        "\n",
        "# # #하이퍼 파라미터 목록\n",
        "# # def optuna_hp_space(trial):\n",
        "# #     return {\n",
        "# #         'learning_rate' : trial.suggest_float(\"learning_rate\", 1e-4, 1e-2, log=True),\n",
        "# #         \"per_device_train_batch_size\" : trial.suggest_categorical(\"per_device_train_batch_size\", [4, 8]),\n",
        "# #         \"per_device_eval_batch_size\" : trial.suggest_categorical(\"per_device_eval_batch_size\", [4, 8])\n",
        "# #     }\n",
        "\n",
        "\n",
        "# #하이퍼 파라미터 입력\n",
        "# training_args = TrainingArguments(\n",
        "#     output_dir=\"./bert_model\",\n",
        "#     # learning_rate=learning_rate,\n",
        "#     # per_device_train_batch_size=8,\n",
        "#     # num_train_epochs=3,\n",
        "#     # evaluation_strategy=\"steps\",\n",
        "#     save_total_limit=2,\n",
        "#     # eval_steps=10,\n",
        "#     # load_best_model_at_end=True,\n",
        "# )\n",
        "\n",
        "# #트레이너 설정\n",
        "# trainer = Trainer(\n",
        "#     model = model,\n",
        "#     # model_init = model_init,\n",
        "#     args = training_args,\n",
        "#     train_dataset = train_ds,\n",
        "#     # eval_dataset = valid_ds,\n",
        "#     # compute_metrics = compute_metrix,\n",
        "#     data_collator = data_collator,\n",
        "#     # tokenizer = tokenizer\n",
        "# )\n",
        "\n",
        "# # best_trial = trainer.hyperparameter_search(\n",
        "# #     direction = \"maximize\",\n",
        "# #     backend = 'optuna',\n",
        "# #     hp_space = optuna_hp_space,\n",
        "# #     n_trials = 10,\n",
        "# # )\n",
        "\n",
        "# trainer.train()\n"
      ]
    },
    {
      "cell_type": "code",
      "source": [
        "# #간단모델\n",
        "\n",
        "# train_choices = []\n",
        "# train_labels = []\n",
        "\n",
        "# for idx, row in train_df.iterrows():\n",
        "#     choice_list = [row[f'sentence{i}'] for i in range(1, 5)]\n",
        "#     train_choices.append(choice_list)\n",
        "#     train_labels.append(row['label'] - 1)\n",
        "\n",
        "# model.train()\n",
        "# input_ids = []\n",
        "# attention_mask = []\n",
        "\n",
        "# for choice_list in train_choices:\n",
        "#     inputs = tokenizer(choice_list, return_tensors=\"pt\", padding='max_length', max_length = 55, truncation=True)\n",
        "#     input_ids.append(inputs['input_ids'])\n",
        "#     attention_mask.append(inputs['attention_mask'])\n",
        "\n",
        "# input_ids = torch.stack(input_ids)\n",
        "# attention_mask = torch.stack(attention_mask)\n",
        "# labels = torch.tensor(train_labels)\n",
        "\n",
        "# outputs = model(input_ids=input_ids, attention_mask=attention_mask, labels=labels)\n",
        "# loss = outputs.loss\n",
        "# loss.backward()\n",
        "\n",
        "# # 테스트 데이터 준비\n",
        "# test_choices = []\n",
        "# for idx, row in test_df.iterrows():\n",
        "#     choice_list = [row[f'sentence{i}'] for i in range(1, 5)]\n",
        "#     test_choices.append(choice_list)\n",
        "\n",
        "# # 모델 예측\n",
        "# model.eval()\n",
        "# results = []\n",
        "\n",
        "# for choice_list in test_choices:\n",
        "#     inputs = tokenizer(choice_list, return_tensors=\"pt\", padding=True, truncation=True)\n",
        "#     input_ids = inputs['input_ids']\n",
        "#     attention_mask = inputs['attention_mask']\n",
        "#     logits = model(input_ids=input_ids, attention_mask=attention_mask).logits\n",
        "#     predicted_label = torch.argmax(logits).item()\n",
        "#     results.append(predicted_label + 1)  # 정답은 1부터 4로 인덱싱되어 있음\n",
        "\n",
        "# # 결과 출력\n",
        "# test_df['predicted_label'] = results\n",
        "# test_df.to_csv('test_predictions.csv', index=False)"
      ],
      "metadata": {
        "id": "aiIbWXMcIdrS"
      },
      "execution_count": null,
      "outputs": []
    }
  ],
  "metadata": {
    "accelerator": "GPU",
    "colab": {
      "gpuType": "V100",
      "provenance": [],
      "machine_shape": "hm",
      "collapsed_sections": [
        "ktB6MGcgXRsu"
      ],
      "include_colab_link": true
    },
    "kernelspec": {
      "display_name": "Python 3",
      "name": "python3"
    },
    "language_info": {
      "codemirror_mode": {
        "name": "ipython",
        "version": 3
      },
      "file_extension": ".py",
      "mimetype": "text/x-python",
      "name": "python",
      "nbconvert_exporter": "python",
      "pygments_lexer": "ipython3",
      "version": "3.9.0"
    }
  },
  "nbformat": 4,
  "nbformat_minor": 0
}