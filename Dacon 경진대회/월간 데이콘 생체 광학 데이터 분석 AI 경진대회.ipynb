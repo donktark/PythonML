{
 "cells": [
  {
   "attachments": {},
   "cell_type": "markdown",
   "metadata": {},
   "source": [
    "# 월간 데이콘 생체 광학 데이터 분석 AI 경진대회"
   ]
  },
  {
   "attachments": {},
   "cell_type": "markdown",
   "metadata": {},
   "source": [
    "다변량회귀 </p>\n",
    "hyperopt(https://teddylee777.github.io/machine-learning/hyper-opt/) </p>\n",
    "“device” : “gpu”"
   ]
  },
  {
   "cell_type": "code",
   "execution_count": 1,
   "metadata": {},
   "outputs": [],
   "source": [
    "import os\n",
    "import pandas as pd\n",
    "import numpy as np\n",
    "import seaborn as sns\n",
    "import matplotlib.pyplot as plt\n",
    "from sklearn.ensemble import RandomForestRegressor\n",
    "from sklearn.preprocessing import StandardScaler, MinMaxScaler\n",
    "from sklearn.model_selection import GridSearchCV, train_test_split\n",
    "from xgboost import XGBRegressor\n",
    "from lightgbm import LGBMRegressor\n",
    "from sklearn.metrics import mean_squared_error\n",
    "\n",
    "import hyperopt\n",
    "from hyperopt import fmin, tpe, hp, STATUS_OK, Trials\n",
    "from sklearn.metrics import mean_squared_error"
   ]
  },
  {
   "cell_type": "code",
   "execution_count": 2,
   "metadata": {},
   "outputs": [
    {
     "name": "stdout",
     "output_type": "stream",
     "text": [
      "c:\\Users\\movem\\Documents\\Python Scripts\\Data\\생체광학\n"
     ]
    }
   ],
   "source": [
    "os.chdir('./Data/생체광학')\n",
    "print(os.getcwd())"
   ]
  },
  {
   "cell_type": "code",
   "execution_count": 3,
   "metadata": {},
   "outputs": [],
   "source": [
    "def shownull(df):\n",
    "    global missval_name\n",
    "    print(f\"데이터셋 차원 확인 \\n {df.shape}\")\n",
    "    missval = df.isnull().sum()[df.isnull().sum()!=0]\n",
    "    print(f\"결측값 있는 변수 확인 \\n {missval}\")\n",
    "    missval_name = missval.index # <- 결측치가 존재하는 열이 저장된 변수임\n",
    "\n",
    "def RMSE(t, p) :\n",
    "    return np.sqrt(mean_squared_error(t, p))"
   ]
  },
  {
   "cell_type": "markdown",
   "metadata": {},
   "source": [
    "# 데이터 전처리"
   ]
  },
  {
   "cell_type": "code",
   "execution_count": 4,
   "metadata": {},
   "outputs": [],
   "source": [
    "train = pd.read_csv('./train.csv', index_col=\"id\")\n",
    "test = pd.read_csv('./test.csv', index_col=\"id\")\n",
    "y_test = pd.read_csv('./sample_submission.csv', index_col=\"id\")"
   ]
  },
  {
   "cell_type": "code",
   "execution_count": 5,
   "metadata": {},
   "outputs": [
    {
     "name": "stdout",
     "output_type": "stream",
     "text": [
      "--독립변수(Y) : ['rho', '650_src', '660_src', '670_src', '680_src', '690_src', '700_src', '710_src', '720_src', '730_src', '740_src', '750_src', '760_src', '770_src', '780_src', '790_src', '800_src', '810_src', '820_src', '830_src', '840_src', '850_src', '860_src', '870_src', '880_src', '890_src', '900_src', '910_src', '920_src', '930_src', '940_src', '950_src', '960_src', '970_src', '980_src', '990_src', '650_dst', '660_dst', '670_dst', '680_dst', '690_dst', '700_dst', '710_dst', '720_dst', '730_dst', '740_dst', '750_dst', '760_dst', '770_dst', '780_dst', '790_dst', '800_dst', '810_dst', '820_dst', '830_dst', '840_dst', '850_dst', '860_dst', '870_dst', '880_dst', '890_dst', '900_dst', '910_dst', '920_dst', '930_dst', '940_dst', '950_dst', '960_dst', '970_dst', '980_dst', '990_dst']\n",
      "--종속변수(Y) : ['hhb', 'hbo2', 'ca', 'na']\n"
     ]
    }
   ],
   "source": [
    "print(f'--독립변수(Y) : {list(test.columns)}')\n",
    "print(f'--종속변수(Y) : {list(y_test.columns)}')"
   ]
  },
  {
   "cell_type": "markdown",
   "metadata": {},
   "source": [
    "## 결측치 대체"
   ]
  },
  {
   "cell_type": "code",
   "execution_count": 6,
   "metadata": {},
   "outputs": [
    {
     "name": "stdout",
     "output_type": "stream",
     "text": [
      "데이터셋 차원 확인 \n",
      " (10000, 75)\n",
      "결측값 있는 변수 확인 \n",
      " 650_dst    1948\n",
      "660_dst    1988\n",
      "670_dst    1931\n",
      "680_dst    1975\n",
      "690_dst    2003\n",
      "700_dst    1966\n",
      "710_dst    1946\n",
      "720_dst    2046\n",
      "730_dst    2006\n",
      "740_dst    1993\n",
      "750_dst    2071\n",
      "760_dst    2050\n",
      "770_dst    1994\n",
      "780_dst    1945\n",
      "790_dst    2059\n",
      "800_dst    2026\n",
      "810_dst    1990\n",
      "820_dst    2091\n",
      "830_dst    1965\n",
      "840_dst    2045\n",
      "850_dst    2014\n",
      "860_dst    2010\n",
      "870_dst    2020\n",
      "880_dst    1968\n",
      "890_dst    2059\n",
      "900_dst    1999\n",
      "910_dst    2030\n",
      "920_dst    2038\n",
      "930_dst    1978\n",
      "940_dst    2018\n",
      "950_dst    2013\n",
      "960_dst    2008\n",
      "970_dst    2069\n",
      "980_dst    1919\n",
      "990_dst    1987\n",
      "dtype: int64\n"
     ]
    }
   ],
   "source": [
    "shownull(train)"
   ]
  },
  {
   "cell_type": "code",
   "execution_count": 7,
   "metadata": {},
   "outputs": [],
   "source": [
    "X_train0 = train.drop(list(y_test.columns), axis=1)\n",
    "y_train = train[list(y_test.columns)]"
   ]
  },
  {
   "cell_type": "code",
   "execution_count": 8,
   "metadata": {},
   "outputs": [],
   "source": [
    "from sklearn.experimental import enable_iterative_imputer\n",
    "from sklearn.impute import IterativeImputer"
   ]
  },
  {
   "cell_type": "code",
   "execution_count": 9,
   "metadata": {},
   "outputs": [
    {
     "name": "stdout",
     "output_type": "stream",
     "text": [
      "\n",
      "변환 후 결측값 :\n",
      " 650_dst    0\n",
      "660_dst    0\n",
      "670_dst    0\n",
      "680_dst    0\n",
      "690_dst    0\n",
      "700_dst    0\n",
      "710_dst    0\n",
      "720_dst    0\n",
      "730_dst    0\n",
      "740_dst    0\n",
      "750_dst    0\n",
      "760_dst    0\n",
      "770_dst    0\n",
      "780_dst    0\n",
      "790_dst    0\n",
      "800_dst    0\n",
      "810_dst    0\n",
      "820_dst    0\n",
      "830_dst    0\n",
      "840_dst    0\n",
      "850_dst    0\n",
      "860_dst    0\n",
      "870_dst    0\n",
      "880_dst    0\n",
      "890_dst    0\n",
      "900_dst    0\n",
      "910_dst    0\n",
      "920_dst    0\n",
      "930_dst    0\n",
      "940_dst    0\n",
      "950_dst    0\n",
      "960_dst    0\n",
      "970_dst    0\n",
      "980_dst    0\n",
      "990_dst    0\n",
      "dtype: int64\n"
     ]
    }
   ],
   "source": [
    "X_train_ipt = X_train0.copy()\n",
    "imputer = IterativeImputer(random_state=2023)\n",
    "X_train_ipt[missval_name] = imputer.fit_transform(X_train_ipt[missval_name])\n",
    "\n",
    "print(\"\\n변환 후 결측값 :\\n\", X_train_ipt[missval_name].isnull().sum())"
   ]
  },
  {
   "cell_type": "code",
   "execution_count": 10,
   "metadata": {},
   "outputs": [
    {
     "name": "stdout",
     "output_type": "stream",
     "text": [
      "\n",
      "___Test dataset\n",
      "데이터셋 차원 확인 \n",
      " (10000, 71)\n",
      "결측값 있는 변수 확인 \n",
      " 650_dst    2026\n",
      "660_dst    1960\n",
      "670_dst    2015\n",
      "680_dst    2006\n",
      "690_dst    1985\n",
      "700_dst    1948\n",
      "710_dst    2043\n",
      "720_dst    2014\n",
      "730_dst    2038\n",
      "740_dst    1999\n",
      "750_dst    1965\n",
      "760_dst    2000\n",
      "770_dst    1956\n",
      "780_dst    2020\n",
      "790_dst    2030\n",
      "800_dst    1961\n",
      "810_dst    2034\n",
      "820_dst    2042\n",
      "830_dst    2058\n",
      "840_dst    1947\n",
      "850_dst    2005\n",
      "860_dst    2008\n",
      "870_dst    2063\n",
      "880_dst    2080\n",
      "890_dst    1996\n",
      "900_dst    1976\n",
      "910_dst    1919\n",
      "920_dst    1981\n",
      "930_dst    2000\n",
      "940_dst    1999\n",
      "950_dst    1949\n",
      "960_dst    2020\n",
      "970_dst    1976\n",
      "980_dst    2011\n",
      "990_dst    1970\n",
      "dtype: int64\n",
      "\n",
      "변환 후 결측값 :\n",
      " 650_dst    0\n",
      "660_dst    0\n",
      "670_dst    0\n",
      "680_dst    0\n",
      "690_dst    0\n",
      "700_dst    0\n",
      "710_dst    0\n",
      "720_dst    0\n",
      "730_dst    0\n",
      "740_dst    0\n",
      "750_dst    0\n",
      "760_dst    0\n",
      "770_dst    0\n",
      "780_dst    0\n",
      "790_dst    0\n",
      "800_dst    0\n",
      "810_dst    0\n",
      "820_dst    0\n",
      "830_dst    0\n",
      "840_dst    0\n",
      "850_dst    0\n",
      "860_dst    0\n",
      "870_dst    0\n",
      "880_dst    0\n",
      "890_dst    0\n",
      "900_dst    0\n",
      "910_dst    0\n",
      "920_dst    0\n",
      "930_dst    0\n",
      "940_dst    0\n",
      "950_dst    0\n",
      "960_dst    0\n",
      "970_dst    0\n",
      "980_dst    0\n",
      "990_dst    0\n",
      "dtype: int64\n"
     ]
    }
   ],
   "source": [
    "print(\"\\n___Test dataset\")\n",
    "shownull(test)\n",
    "\n",
    "X_test_ipt = test.copy()\n",
    "imputer = IterativeImputer(random_state=2023)\n",
    "X_test_ipt[missval_name] = imputer.fit_transform(X_test_ipt[missval_name])\n",
    "print(\"\\n변환 후 결측값 :\\n\", X_test_ipt[missval_name].isnull().sum())"
   ]
  },
  {
   "cell_type": "markdown",
   "metadata": {},
   "source": [
    "## Scaler"
   ]
  },
  {
   "cell_type": "code",
   "execution_count": 11,
   "metadata": {},
   "outputs": [],
   "source": [
    "scaler = StandardScaler()\n",
    "\n",
    "X_train01 = scaler.fit_transform(X_train_ipt)\n",
    "X_test = scaler.transform(X_test_ipt)"
   ]
  },
  {
   "cell_type": "code",
   "execution_count": 12,
   "metadata": {},
   "outputs": [],
   "source": [
    "X_train, X_valid, y_train, y_valid = train_test_split(X_train01, y_train, test_size = 0.2)"
   ]
  },
  {
   "cell_type": "markdown",
   "metadata": {},
   "source": [
    "# 학습"
   ]
  },
  {
   "attachments": {},
   "cell_type": "markdown",
   "metadata": {},
   "source": [
    "## XGBoost </p>\n",
    "의 하이퍼 파라미터를 hyperopt로 튜닝"
   ]
  },
  {
   "cell_type": "code",
   "execution_count": 13,
   "metadata": {},
   "outputs": [],
   "source": [
    "reg_candidate = [1e-5, 1e-4, 1e-3, 1e-2, 0.1, 1, 5, 10, 100]\n",
    "\n",
    "SEED = 2023\n",
    "\n",
    "space={'max_depth': hp.quniform(\"max_depth\", 5, 15, 1),\n",
    "       'learning_rate': hp.quniform ('learning_rate', 0.01, 0.05, 0.005),\n",
    "       'subsample': hp.quniform('subsample', 0.6, 1, 0.05),\n",
    "       'min_child_weight' : hp.quniform('min_child_weight', 1, 10, 1),\n",
    "       'n_estimators': hp.quniform('n_estimators', 200, 1000, 100)\n",
    "      }\n"
   ]
  },
  {
   "cell_type": "code",
   "execution_count": 17,
   "metadata": {},
   "outputs": [],
   "source": [
    "#학습을 위한 목적 변수 설정\n",
    "def xgb_hptuning(space) :\n",
    "    xgb_model = XGBRegressor(n_estimators =int(space['n_estimators']), \n",
    "                    max_depth = int(space['max_depth']), \n",
    "                    learning_rate = space['learning_rate'],\n",
    "                    subsample = space['subsample'],\n",
    "                    min_child_weight = int(space['min_child_weight']),\n",
    "                    early_stopping_rounds=20,\n",
    "                    random_state=SEED,\n",
    "                    eval_metric='rmse'\n",
    "    )\n",
    "    evaluation = [(X_train, y_train), (X_valid, y_valid)]\n",
    "    \n",
    "    xgb_model.fit(X_train, y_train,\n",
    "              eval_set=evaluation,\n",
    "              verbose=0)\n",
    "\n",
    "    pred = xgb_model.predict(X_valid)\n",
    "    rmse= RMSE(y_valid, pred)\n",
    "\n",
    "    # 평가 방식 선정\n",
    "    return {'loss':rmse, 'status': STATUS_OK, 'model': xgb_model}"
   ]
  },
  {
   "cell_type": "code",
   "execution_count": 18,
   "metadata": {},
   "outputs": [
    {
     "name": "stdout",
     "output_type": "stream",
     "text": [
      "100%|██████████| 20/20 [15:24<00:00, 46.21s/trial, best loss: 1.7252715179134075]\n",
      "{'learning_rate': 0.025, 'max_depth': 8, 'min_child_weight': 9, 'n_estimators': 900, 'subsample': 0.9500000000000001, 'random_state': 2023}\n"
     ]
    }
   ],
   "source": [
    "# Trials 객체 선언합니다.\n",
    "trials = Trials()\n",
    "# best에 최적의 하이퍼 파라미터를 return 받습니다.\n",
    "best = fmin(fn=xgb_hptuning,\n",
    "            space=space,\n",
    "            algo=tpe.suggest,\n",
    "            max_evals=20, # 최대 반복 횟수를 지정합니다.\n",
    "            trials=trials)\n",
    "\n",
    "# 최적화된 결과를 int로 변환해야하는 파라미터는 타입 변환을 수행합니다.\n",
    "best['max_depth'] = int(best['max_depth'])\n",
    "best['min_child_weight'] = int(best['min_child_weight'])\n",
    "best['n_estimators'] = int(best['n_estimators'])\n",
    "best['random_state'] = SEED\n",
    "\n",
    "print(best)"
   ]
  },
  {
   "cell_type": "code",
   "execution_count": 19,
   "metadata": {},
   "outputs": [
    {
     "data": {
      "text/plain": [
       "{'learning_rate': 0.025,\n",
       " 'max_depth': 8,\n",
       " 'min_child_weight': 9,\n",
       " 'n_estimators': 900,\n",
       " 'subsample': 0.9500000000000001,\n",
       " 'random_state': 2023}"
      ]
     },
     "execution_count": 19,
     "metadata": {},
     "output_type": "execute_result"
    }
   ],
   "source": [
    "best"
   ]
  },
  {
   "cell_type": "code",
   "execution_count": 20,
   "metadata": {},
   "outputs": [],
   "source": [
    "xgb = XGBRegressor(**best)\n",
    "xgb.fit(X_train, y_train)\n",
    "pred = xgb.predict(X_test)"
   ]
  },
  {
   "cell_type": "code",
   "execution_count": 21,
   "metadata": {},
   "outputs": [],
   "source": [
    "#결과파일 출력\n",
    "submit = pd.read_csv(\"./sample_submission.csv\")\n",
    "submit[list(y_test.columns)] = pred\n",
    "submit.to_csv('./submit_xgb.csv', index=False)"
   ]
  }
 ],
 "metadata": {
  "kernelspec": {
   "display_name": "dong1",
   "language": "python",
   "name": "python3"
  },
  "language_info": {
   "codemirror_mode": {
    "name": "ipython",
    "version": 3
   },
   "file_extension": ".py",
   "mimetype": "text/x-python",
   "name": "python",
   "nbconvert_exporter": "python",
   "pygments_lexer": "ipython3",
   "version": "3.9.0"
  },
  "orig_nbformat": 4,
  "vscode": {
   "interpreter": {
    "hash": "af270c6a60569cab64600c78a8522e2453f7f6ddc7c7573fcceb7ac9e6f726fc"
   }
  }
 },
 "nbformat": 4,
 "nbformat_minor": 2
}
