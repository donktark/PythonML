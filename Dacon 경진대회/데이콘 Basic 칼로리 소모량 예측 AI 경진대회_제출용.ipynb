{
 "cells": [
  {
   "attachments": {},
   "cell_type": "markdown",
   "metadata": {},
   "source": [
    "# 데이콘 Basic 칼로리 소모량 예측 AI 경진대회</p>\n",
    "AutoML 버전"
   ]
  },
  {
   "cell_type": "code",
   "execution_count": 42,
   "metadata": {},
   "outputs": [],
   "source": [
    "#기본\n",
    "import os\n",
    "import pandas as pd\n",
    "import numpy as np\n",
    "import random\n",
    "\n",
    "#전처리\n",
    "from scipy.stats import skew\n",
    "from sklearn.ensemble import IsolationForest\n",
    "from sklearn.preprocessing import StandardScaler, MinMaxScaler, LabelEncoder\n",
    "from sklearn.model_selection import train_test_split\n",
    "from sklearn.decomposition import PCA\n",
    "from sklearn.metrics import accuracy_score\n",
    "from sklearn.preprocessing import LabelEncoder\n",
    "\n",
    "#학습\n",
    "import autosklearn.regression\n",
    "from sklearn.metrics import mean_squared_error\n",
    "\n",
    "from sklearn.metrics import mean_squared_error, make_scorer\n",
    "\n",
    "#기타\n",
    "\n"
   ]
  },
  {
   "cell_type": "code",
   "execution_count": 43,
   "metadata": {},
   "outputs": [
    {
     "name": "stdout",
     "output_type": "stream",
     "text": [
      "/root/data/calory\n"
     ]
    }
   ],
   "source": [
    "os.chdir('/root/data/calory')\n",
    "print(os.getcwd())"
   ]
  },
  {
   "cell_type": "code",
   "execution_count": 44,
   "metadata": {},
   "outputs": [],
   "source": [
    "#결측치 확인\n",
    "def shownull(df):\n",
    "    global missval_name\n",
    "    print(f\"데이터셋 차원 확인 \\n {df.shape}\")\n",
    "    missval = df.isnull().sum()[df.isnull().sum()!=0]\n",
    "    print(f\"결측값 있는 변수 확인 \\n {missval}\")\n",
    "    missval_name = missval.index # 결측치가 존재하는 열이 저장된 변수\n",
    "\n",
    "#이상치 확인\n",
    "def zscore_out(df, threshold = 3):\n",
    "    mean = np.mean(df)\n",
    "    std = np.std(df)\n",
    "    z_score = np.abs((df - df.mean()) / df.std())\n",
    "    outliers = np.where(z_score > threshold)\n",
    "    # outlier_idx = outliers.nonzero()[0]\n",
    "    print(outliers[0])\n",
    "\n",
    "#시드고정\n",
    "def seed_everything(seed):\n",
    "    random.seed(seed)\n",
    "    os.environ['PYTHONHASHSEED'] = str(seed)\n",
    "    np.random.seed(seed)\n",
    "\n",
    "seed_everything(84)"
   ]
  },
  {
   "cell_type": "markdown",
   "metadata": {},
   "source": [
    "## 데이터 전처리"
   ]
  },
  {
   "cell_type": "code",
   "execution_count": 45,
   "metadata": {},
   "outputs": [],
   "source": [
    "train = pd.read_csv('train.csv', index_col=\"ID\")\n",
    "test = pd.read_csv('test.csv', index_col=\"ID\")\n",
    "y_test = pd.read_csv('sample_submission.csv', index_col=\"ID\")"
   ]
  },
  {
   "cell_type": "code",
   "execution_count": 47,
   "metadata": {},
   "outputs": [
    {
     "name": "stdout",
     "output_type": "stream",
     "text": [
      "데이터셋 차원 확인 \n",
      " (7500, 10)\n",
      "결측값 있는 변수 확인 \n",
      " Series([], dtype: int64)\n"
     ]
    }
   ],
   "source": [
    "shownull(train)"
   ]
  },
  {
   "cell_type": "code",
   "execution_count": 48,
   "metadata": {},
   "outputs": [],
   "source": [
    "X_train = train.drop('Calories_Burned', axis=1)\n",
    "y_train = train['Calories_Burned']"
   ]
  },
  {
   "cell_type": "code",
   "execution_count": 46,
   "metadata": {},
   "outputs": [
    {
     "name": "stdout",
     "output_type": "stream",
     "text": [
      "--독립변수(Y) : ['Exercise_Duration', 'Body_Temperature(F)', 'BPM', 'Height(Feet)', 'Height(Remainder_Inches)', 'Weight(lb)', 'Weight_Status', 'Gender', 'Age']\n",
      "--종속변수(Y) : ['Calories_Burned']\n"
     ]
    }
   ],
   "source": [
    "print(f'--독립변수(Y) : {list(X_train.columns)}')\n",
    "print(f'--종속변수(Y) : {list(y_train.columns)}')"
   ]
  },
  {
   "cell_type": "markdown",
   "metadata": {},
   "source": [
    "### Scaling"
   ]
  },
  {
   "cell_type": "code",
   "execution_count": 52,
   "metadata": {},
   "outputs": [],
   "source": [
    "#범주형변수 분리\n",
    "cont_train = X_train.select_dtypes(include=[np.number])\n",
    "cont_test = test.select_dtypes(include=[np.number])"
   ]
  },
  {
   "cell_type": "code",
   "execution_count": 53,
   "metadata": {},
   "outputs": [],
   "source": [
    "#스케일링\n",
    "scaler = StandardScaler()\n",
    "\n",
    "X_train = X_train.copy()\n",
    "X_train[cont_train.columns] = scaler.fit_transform(cont_train)\n",
    "\n",
    "X_test = test.copy()\n",
    "X_test[cont_test.columns]  = scaler.transform(cont_test)\n",
    "#test 데이터에 어떤 변수가 있는지 알 수 없으므로 변수명을 사용하지 않고 연속형 변수 타입만 선택해서 fit 없이 정규화함"
   ]
  },
  {
   "attachments": {},
   "cell_type": "markdown",
   "metadata": {},
   "source": [
    "### 변수 전처리"
   ]
  },
  {
   "cell_type": "code",
   "execution_count": 54,
   "metadata": {},
   "outputs": [
    {
     "name": "stdout",
     "output_type": "stream",
     "text": [
      "[ 0.01229924 -0.9714503   0.02402306  0.03560469  0.07529544  0.22415293\n",
      "  0.49597973]\n"
     ]
    }
   ],
   "source": [
    "#왜도가 대체로 0에 가까우므로 변수변환 고려 안 함\n",
    "print(skew(X_train[cont_train.columns]))"
   ]
  },
  {
   "cell_type": "code",
   "execution_count": 55,
   "metadata": {},
   "outputs": [],
   "source": [
    "cat_vals = X_train.select_dtypes(include=['object', 'category']).columns\n",
    "\n",
    "for col in cat_vals:\n",
    "    le = LabelEncoder()\n",
    "    X_train[col] = le.fit_transform(X_train[col])\n",
    "    for label in np.unique(X_test[col]):\n",
    "        if label not in le.classes_:\n",
    "            le.classes_ = np.append(le.classes_, label)\n",
    "    X_test[col] = le.transform(X_test[col])"
   ]
  },
  {
   "cell_type": "markdown",
   "metadata": {},
   "source": [
    "test 데이터에 어떤 변수가 있는지 알 수 없으므로 변수명을 사용하지 않고 범주형변수 타입만 선택해서 변환함"
   ]
  },
  {
   "cell_type": "code",
   "execution_count": 56,
   "metadata": {},
   "outputs": [
    {
     "data": {
      "text/html": [
       "<div>\n",
       "<style scoped>\n",
       "    .dataframe tbody tr th:only-of-type {\n",
       "        vertical-align: middle;\n",
       "    }\n",
       "\n",
       "    .dataframe tbody tr th {\n",
       "        vertical-align: top;\n",
       "    }\n",
       "\n",
       "    .dataframe thead th {\n",
       "        text-align: right;\n",
       "    }\n",
       "</style>\n",
       "<table border=\"1\" class=\"dataframe\">\n",
       "  <thead>\n",
       "    <tr style=\"text-align: right;\">\n",
       "      <th></th>\n",
       "      <th>Exercise_Duration</th>\n",
       "      <th>Body_Temperature(F)</th>\n",
       "      <th>BPM</th>\n",
       "      <th>Height(Feet)</th>\n",
       "      <th>Height(Remainder_Inches)</th>\n",
       "      <th>Weight(lb)</th>\n",
       "      <th>Weight_Status</th>\n",
       "      <th>Gender</th>\n",
       "      <th>Age</th>\n",
       "    </tr>\n",
       "    <tr>\n",
       "      <th>ID</th>\n",
       "      <th></th>\n",
       "      <th></th>\n",
       "      <th></th>\n",
       "      <th></th>\n",
       "      <th></th>\n",
       "      <th></th>\n",
       "      <th></th>\n",
       "      <th></th>\n",
       "      <th></th>\n",
       "    </tr>\n",
       "  </thead>\n",
       "  <tbody>\n",
       "    <tr>\n",
       "      <th>TRAIN_0000</th>\n",
       "      <td>1.256628</td>\n",
       "      <td>1.108778</td>\n",
       "      <td>1.199774</td>\n",
       "      <td>-0.446979</td>\n",
       "      <td>0.938611</td>\n",
       "      <td>-0.332109</td>\n",
       "      <td>0</td>\n",
       "      <td>0</td>\n",
       "      <td>0.140030</td>\n",
       "    </tr>\n",
       "    <tr>\n",
       "      <th>TRAIN_0001</th>\n",
       "      <td>-1.017530</td>\n",
       "      <td>-0.519252</td>\n",
       "      <td>-0.782140</td>\n",
       "      <td>1.349561</td>\n",
       "      <td>0.080753</td>\n",
       "      <td>1.787635</td>\n",
       "      <td>2</td>\n",
       "      <td>1</td>\n",
       "      <td>0.436203</td>\n",
       "    </tr>\n",
       "    <tr>\n",
       "      <th>TRAIN_0002</th>\n",
       "      <td>-1.017530</td>\n",
       "      <td>-0.519252</td>\n",
       "      <td>-0.990762</td>\n",
       "      <td>1.349561</td>\n",
       "      <td>-0.777105</td>\n",
       "      <td>1.589472</td>\n",
       "      <td>2</td>\n",
       "      <td>1</td>\n",
       "      <td>-0.807721</td>\n",
       "    </tr>\n",
       "    <tr>\n",
       "      <th>TRAIN_0003</th>\n",
       "      <td>0.179395</td>\n",
       "      <td>-0.023765</td>\n",
       "      <td>0.365284</td>\n",
       "      <td>-0.446979</td>\n",
       "      <td>0.080753</td>\n",
       "      <td>-0.530272</td>\n",
       "      <td>0</td>\n",
       "      <td>0</td>\n",
       "      <td>-0.570783</td>\n",
       "    </tr>\n",
       "    <tr>\n",
       "      <th>TRAIN_0004</th>\n",
       "      <td>-0.778145</td>\n",
       "      <td>-0.943955</td>\n",
       "      <td>-0.782140</td>\n",
       "      <td>-0.446979</td>\n",
       "      <td>1.224564</td>\n",
       "      <td>0.133274</td>\n",
       "      <td>0</td>\n",
       "      <td>1</td>\n",
       "      <td>-0.274611</td>\n",
       "    </tr>\n",
       "    <tr>\n",
       "      <th>...</th>\n",
       "      <td>...</td>\n",
       "      <td>...</td>\n",
       "      <td>...</td>\n",
       "      <td>...</td>\n",
       "      <td>...</td>\n",
       "      <td>...</td>\n",
       "      <td>...</td>\n",
       "      <td>...</td>\n",
       "      <td>...</td>\n",
       "    </tr>\n",
       "    <tr>\n",
       "      <th>TRAIN_7495</th>\n",
       "      <td>0.777858</td>\n",
       "      <td>0.754858</td>\n",
       "      <td>0.886840</td>\n",
       "      <td>-2.243519</td>\n",
       "      <td>1.224564</td>\n",
       "      <td>-1.590144</td>\n",
       "      <td>0</td>\n",
       "      <td>0</td>\n",
       "      <td>1.917064</td>\n",
       "    </tr>\n",
       "    <tr>\n",
       "      <th>TRAIN_7496</th>\n",
       "      <td>0.538473</td>\n",
       "      <td>0.896426</td>\n",
       "      <td>0.886840</td>\n",
       "      <td>-0.446979</td>\n",
       "      <td>0.652658</td>\n",
       "      <td>-0.530272</td>\n",
       "      <td>0</td>\n",
       "      <td>0</td>\n",
       "      <td>-1.281597</td>\n",
       "    </tr>\n",
       "    <tr>\n",
       "      <th>TRAIN_7497</th>\n",
       "      <td>-0.897837</td>\n",
       "      <td>-0.660820</td>\n",
       "      <td>-0.573517</td>\n",
       "      <td>1.349561</td>\n",
       "      <td>-1.063058</td>\n",
       "      <td>1.124089</td>\n",
       "      <td>2</td>\n",
       "      <td>1</td>\n",
       "      <td>0.850844</td>\n",
       "    </tr>\n",
       "    <tr>\n",
       "      <th>TRAIN_7498</th>\n",
       "      <td>-0.419067</td>\n",
       "      <td>0.259371</td>\n",
       "      <td>0.156662</td>\n",
       "      <td>-0.446979</td>\n",
       "      <td>0.938611</td>\n",
       "      <td>0.067220</td>\n",
       "      <td>2</td>\n",
       "      <td>1</td>\n",
       "      <td>-0.452314</td>\n",
       "    </tr>\n",
       "    <tr>\n",
       "      <th>TRAIN_7499</th>\n",
       "      <td>0.059703</td>\n",
       "      <td>0.613291</td>\n",
       "      <td>-0.469206</td>\n",
       "      <td>-0.446979</td>\n",
       "      <td>1.796469</td>\n",
       "      <td>0.727763</td>\n",
       "      <td>2</td>\n",
       "      <td>1</td>\n",
       "      <td>-0.985425</td>\n",
       "    </tr>\n",
       "  </tbody>\n",
       "</table>\n",
       "<p>7500 rows × 9 columns</p>\n",
       "</div>"
      ],
      "text/plain": [
       "            Exercise_Duration  Body_Temperature(F)       BPM  Height(Feet)   \n",
       "ID                                                                           \n",
       "TRAIN_0000           1.256628             1.108778  1.199774     -0.446979  \\\n",
       "TRAIN_0001          -1.017530            -0.519252 -0.782140      1.349561   \n",
       "TRAIN_0002          -1.017530            -0.519252 -0.990762      1.349561   \n",
       "TRAIN_0003           0.179395            -0.023765  0.365284     -0.446979   \n",
       "TRAIN_0004          -0.778145            -0.943955 -0.782140     -0.446979   \n",
       "...                       ...                  ...       ...           ...   \n",
       "TRAIN_7495           0.777858             0.754858  0.886840     -2.243519   \n",
       "TRAIN_7496           0.538473             0.896426  0.886840     -0.446979   \n",
       "TRAIN_7497          -0.897837            -0.660820 -0.573517      1.349561   \n",
       "TRAIN_7498          -0.419067             0.259371  0.156662     -0.446979   \n",
       "TRAIN_7499           0.059703             0.613291 -0.469206     -0.446979   \n",
       "\n",
       "            Height(Remainder_Inches)  Weight(lb)  Weight_Status  Gender   \n",
       "ID                                                                        \n",
       "TRAIN_0000                  0.938611   -0.332109              0       0  \\\n",
       "TRAIN_0001                  0.080753    1.787635              2       1   \n",
       "TRAIN_0002                 -0.777105    1.589472              2       1   \n",
       "TRAIN_0003                  0.080753   -0.530272              0       0   \n",
       "TRAIN_0004                  1.224564    0.133274              0       1   \n",
       "...                              ...         ...            ...     ...   \n",
       "TRAIN_7495                  1.224564   -1.590144              0       0   \n",
       "TRAIN_7496                  0.652658   -0.530272              0       0   \n",
       "TRAIN_7497                 -1.063058    1.124089              2       1   \n",
       "TRAIN_7498                  0.938611    0.067220              2       1   \n",
       "TRAIN_7499                  1.796469    0.727763              2       1   \n",
       "\n",
       "                 Age  \n",
       "ID                    \n",
       "TRAIN_0000  0.140030  \n",
       "TRAIN_0001  0.436203  \n",
       "TRAIN_0002 -0.807721  \n",
       "TRAIN_0003 -0.570783  \n",
       "TRAIN_0004 -0.274611  \n",
       "...              ...  \n",
       "TRAIN_7495  1.917064  \n",
       "TRAIN_7496 -1.281597  \n",
       "TRAIN_7497  0.850844  \n",
       "TRAIN_7498 -0.452314  \n",
       "TRAIN_7499 -0.985425  \n",
       "\n",
       "[7500 rows x 9 columns]"
      ]
     },
     "execution_count": 56,
     "metadata": {},
     "output_type": "execute_result"
    }
   ],
   "source": [
    "#최종적으로 학습에 들어간 데이터프레임(변수들)\n",
    "X_train"
   ]
  },
  {
   "attachments": {},
   "cell_type": "markdown",
   "metadata": {},
   "source": [
    "## Auto-Sklearn"
   ]
  },
  {
   "cell_type": "code",
   "execution_count": 57,
   "metadata": {},
   "outputs": [
    {
     "name": "stdout",
     "output_type": "stream",
     "text": [
      "[WARNING] [2023-04-19 03:54:46,822:Client-AutoML(1):ec2c6ee7-de65-11ed-a457-0242ac110002] Capping the per_run_time_limit to 999.0 to have time for a least 2 models in each process.\n",
      "[WARNING] [2023-04-19 03:54:47,261:Client-AutoMLSMBO(1)::ec2c6ee7-de65-11ed-a457-0242ac110002] Configuration 73 not found\n",
      "[WARNING] [2023-04-19 03:54:47,261:Client-AutoMLSMBO(1)::ec2c6ee7-de65-11ed-a457-0242ac110002] Configuration 13 not found\n",
      "[WARNING] [2023-04-19 03:54:47,261:Client-AutoMLSMBO(1)::ec2c6ee7-de65-11ed-a457-0242ac110002] Configuration 54 not found\n",
      "[WARNING] [2023-04-19 03:54:47,261:Client-AutoMLSMBO(1)::ec2c6ee7-de65-11ed-a457-0242ac110002] Configuration 279 not found\n",
      "[WARNING] [2023-04-19 03:54:47,261:Client-AutoMLSMBO(1)::ec2c6ee7-de65-11ed-a457-0242ac110002] Configuration 6 not found\n",
      "[WARNING] [2023-04-19 03:54:47,261:Client-AutoMLSMBO(1)::ec2c6ee7-de65-11ed-a457-0242ac110002] Configuration 95 not found\n",
      "[WARNING] [2023-04-19 03:54:47,261:Client-AutoMLSMBO(1)::ec2c6ee7-de65-11ed-a457-0242ac110002] Configuration 79 not found\n",
      "[WARNING] [2023-04-19 03:54:47,262:Client-AutoMLSMBO(1)::ec2c6ee7-de65-11ed-a457-0242ac110002] Configuration 126 not found\n",
      "[WARNING] [2023-04-19 03:54:47,262:Client-AutoMLSMBO(1)::ec2c6ee7-de65-11ed-a457-0242ac110002] Configuration 174 not found\n",
      "[WARNING] [2023-04-19 03:54:47,262:Client-AutoMLSMBO(1)::ec2c6ee7-de65-11ed-a457-0242ac110002] Configuration 107 not found\n",
      "[WARNING] [2023-04-19 03:54:47,262:Client-AutoMLSMBO(1)::ec2c6ee7-de65-11ed-a457-0242ac110002] Configuration 77 not found\n",
      "[WARNING] [2023-04-19 03:54:47,262:Client-AutoMLSMBO(1)::ec2c6ee7-de65-11ed-a457-0242ac110002] Configuration 28 not found\n",
      "[WARNING] [2023-04-19 03:54:47,263:Client-AutoMLSMBO(1)::ec2c6ee7-de65-11ed-a457-0242ac110002] Configuration 19 not found\n",
      "[WARNING] [2023-04-19 03:54:47,263:Client-AutoMLSMBO(1)::ec2c6ee7-de65-11ed-a457-0242ac110002] Configuration 89 not found\n",
      "[WARNING] [2023-04-19 03:54:47,263:Client-AutoMLSMBO(1)::ec2c6ee7-de65-11ed-a457-0242ac110002] Configuration 10 not found\n",
      "[WARNING] [2023-04-19 03:54:47,263:Client-AutoMLSMBO(1)::ec2c6ee7-de65-11ed-a457-0242ac110002] Configuration 186 not found\n",
      "[WARNING] [2023-04-19 03:54:47,263:Client-AutoMLSMBO(1)::ec2c6ee7-de65-11ed-a457-0242ac110002] Configuration 31 not found\n",
      "[WARNING] [2023-04-19 03:54:47,263:Client-AutoMLSMBO(1)::ec2c6ee7-de65-11ed-a457-0242ac110002] Configuration 43 not found\n",
      "[WARNING] [2023-04-19 03:54:47,263:Client-AutoMLSMBO(1)::ec2c6ee7-de65-11ed-a457-0242ac110002] Configuration 258 not found\n",
      "[WARNING] [2023-04-19 03:54:47,263:Client-AutoMLSMBO(1)::ec2c6ee7-de65-11ed-a457-0242ac110002] Configuration 17 not found\n",
      "[WARNING] [2023-04-19 03:54:47,264:Client-AutoMLSMBO(1)::ec2c6ee7-de65-11ed-a457-0242ac110002] Configuration 171 not found\n",
      "[WARNING] [2023-04-19 03:54:47,264:Client-AutoMLSMBO(1)::ec2c6ee7-de65-11ed-a457-0242ac110002] Configuration 98 not found\n",
      "[WARNING] [2023-04-19 03:54:47,264:Client-AutoMLSMBO(1)::ec2c6ee7-de65-11ed-a457-0242ac110002] Configuration 217 not found\n",
      "[WARNING] [2023-04-19 03:54:47,264:Client-AutoMLSMBO(1)::ec2c6ee7-de65-11ed-a457-0242ac110002] Configuration 158 not found\n",
      "[WARNING] [2023-04-19 03:54:47,264:Client-AutoMLSMBO(1)::ec2c6ee7-de65-11ed-a457-0242ac110002] Configuration 132 not found\n",
      "[WARNING] [2023-04-19 03:54:47,264:Client-AutoMLSMBO(1)::ec2c6ee7-de65-11ed-a457-0242ac110002] Configuration 117 not found\n",
      "[WARNING] [2023-04-19 03:54:47,265:Client-AutoMLSMBO(1)::ec2c6ee7-de65-11ed-a457-0242ac110002] Configuration 268 not found\n",
      "[WARNING] [2023-04-19 03:54:47,265:Client-AutoMLSMBO(1)::ec2c6ee7-de65-11ed-a457-0242ac110002] Configuration 176 not found\n",
      "[WARNING] [2023-04-19 03:54:47,265:Client-AutoMLSMBO(1)::ec2c6ee7-de65-11ed-a457-0242ac110002] Configuration 2 not found\n",
      "[WARNING] [2023-04-19 03:54:47,265:Client-AutoMLSMBO(1)::ec2c6ee7-de65-11ed-a457-0242ac110002] Configuration 34 not found\n",
      "[WARNING] [2023-04-19 03:54:47,266:Client-AutoMLSMBO(1)::ec2c6ee7-de65-11ed-a457-0242ac110002] Configuration 274 not found\n",
      "[WARNING] [2023-04-19 03:54:47,267:Client-AutoMLSMBO(1)::ec2c6ee7-de65-11ed-a457-0242ac110002] Configuration 240 not found\n",
      "[WARNING] [2023-04-19 03:54:47,267:Client-AutoMLSMBO(1)::ec2c6ee7-de65-11ed-a457-0242ac110002] Configuration 191 not found\n",
      "[WARNING] [2023-04-19 03:54:47,268:Client-AutoMLSMBO(1)::ec2c6ee7-de65-11ed-a457-0242ac110002] Configuration 276 not found\n",
      "[WARNING] [2023-04-19 03:54:47,268:Client-AutoMLSMBO(1)::ec2c6ee7-de65-11ed-a457-0242ac110002] Configuration 40 not found\n",
      "[WARNING] [2023-04-19 03:54:47,268:Client-AutoMLSMBO(1)::ec2c6ee7-de65-11ed-a457-0242ac110002] Configuration 140 not found\n",
      "[WARNING] [2023-04-19 03:54:47,268:Client-AutoMLSMBO(1)::ec2c6ee7-de65-11ed-a457-0242ac110002] Configuration 23 not found\n",
      "[WARNING] [2023-04-19 03:54:47,269:Client-AutoMLSMBO(1)::ec2c6ee7-de65-11ed-a457-0242ac110002] Configuration 282 not found\n",
      "[WARNING] [2023-04-19 03:54:47,270:Client-AutoMLSMBO(1)::ec2c6ee7-de65-11ed-a457-0242ac110002] Configuration 247 not found\n",
      "[WARNING] [2023-04-19 03:54:47,271:Client-AutoMLSMBO(1)::ec2c6ee7-de65-11ed-a457-0242ac110002] Configuration 266 not found\n",
      "[WARNING] [2023-04-19 03:54:47,271:Client-AutoMLSMBO(1)::ec2c6ee7-de65-11ed-a457-0242ac110002] Configuration 144 not found\n",
      "[WARNING] [2023-04-19 03:54:47,271:Client-AutoMLSMBO(1)::ec2c6ee7-de65-11ed-a457-0242ac110002] Configuration 58 not found\n",
      "[WARNING] [2023-04-19 03:54:47,271:Client-AutoMLSMBO(1)::ec2c6ee7-de65-11ed-a457-0242ac110002] Configuration 105 not found\n",
      "[WARNING] [2023-04-19 03:54:47,271:Client-AutoMLSMBO(1)::ec2c6ee7-de65-11ed-a457-0242ac110002] Configuration 138 not found\n",
      "[WARNING] [2023-04-19 03:54:47,271:Client-AutoMLSMBO(1)::ec2c6ee7-de65-11ed-a457-0242ac110002] Configuration 48 not found\n",
      "[WARNING] [2023-04-19 03:54:47,271:Client-AutoMLSMBO(1)::ec2c6ee7-de65-11ed-a457-0242ac110002] Configuration 66 not found\n",
      "[WARNING] [2023-04-19 03:54:47,271:Client-AutoMLSMBO(1)::ec2c6ee7-de65-11ed-a457-0242ac110002] Configuration 285 not found\n",
      "[WARNING] [2023-04-19 03:54:47,271:Client-AutoMLSMBO(1)::ec2c6ee7-de65-11ed-a457-0242ac110002] Configuration 128 not found\n",
      "[WARNING] [2023-04-19 03:54:47,271:Client-AutoMLSMBO(1)::ec2c6ee7-de65-11ed-a457-0242ac110002] Configuration 251 not found\n",
      "[WARNING] [2023-04-19 03:54:47,271:Client-AutoMLSMBO(1)::ec2c6ee7-de65-11ed-a457-0242ac110002] Configuration 224 not found\n",
      "[WARNING] [2023-04-19 03:54:47,272:Client-AutoMLSMBO(1)::ec2c6ee7-de65-11ed-a457-0242ac110002] Configuration 101 not found\n",
      "[WARNING] [2023-04-19 03:54:47,272:Client-AutoMLSMBO(1)::ec2c6ee7-de65-11ed-a457-0242ac110002] Configuration 252 not found\n",
      "[WARNING] [2023-04-19 03:54:47,272:Client-AutoMLSMBO(1)::ec2c6ee7-de65-11ed-a457-0242ac110002] Configuration 168 not found\n",
      "[WARNING] [2023-04-19 03:54:47,272:Client-AutoMLSMBO(1)::ec2c6ee7-de65-11ed-a457-0242ac110002] Configuration 50 not found\n",
      "[WARNING] [2023-04-19 03:54:47,272:Client-AutoMLSMBO(1)::ec2c6ee7-de65-11ed-a457-0242ac110002] Configuration 221 not found\n",
      "[WARNING] [2023-04-19 03:54:47,272:Client-AutoMLSMBO(1)::ec2c6ee7-de65-11ed-a457-0242ac110002] Configuration 136 not found\n",
      "[WARNING] [2023-04-19 03:54:47,272:Client-AutoMLSMBO(1)::ec2c6ee7-de65-11ed-a457-0242ac110002] Configuration 153 not found\n",
      "[WARNING] [2023-04-19 03:54:47,272:Client-AutoMLSMBO(1)::ec2c6ee7-de65-11ed-a457-0242ac110002] Configuration 228 not found\n",
      "[WARNING] [2023-04-19 03:54:47,272:Client-AutoMLSMBO(1)::ec2c6ee7-de65-11ed-a457-0242ac110002] Configuration 179 not found\n",
      "[WARNING] [2023-04-19 03:54:47,272:Client-AutoMLSMBO(1)::ec2c6ee7-de65-11ed-a457-0242ac110002] Configuration 110 not found\n",
      "[WARNING] [2023-04-19 03:54:47,272:Client-AutoMLSMBO(1)::ec2c6ee7-de65-11ed-a457-0242ac110002] Configuration 204 not found\n"
     ]
    }
   ],
   "source": [
    "# 모델 생성 및 학습\n",
    "automl = autosklearn.regression.AutoSklearnRegressor(\n",
    "    time_left_for_this_task=2000,\n",
    "    n_jobs=5,\n",
    "    resampling_strategy='cv',\n",
    "    resampling_strategy_arguments={\"folds\": 5},\n",
    "    metric=autosklearn.metrics.mean_squared_error,\n",
    "    include={\"feature_preprocessor\": [\"polynomial\"]},\n",
    ")\n",
    "\n",
    "\n",
    "# Search for best model\n",
    "automl.fit(X_train, y_train)\n",
    "\n",
    "# 모델 예측 및 성능 측정\n",
    "y_pred = automl.predict(X_test)\n",
    "\n",
    "#경고 : 일부 알고리즘 사용 못하겠단 뜻"
   ]
  },
  {
   "cell_type": "code",
   "execution_count": 58,
   "metadata": {},
   "outputs": [],
   "source": [
    "submit = pd.read_csv(\"./sample_submission.csv\")\n",
    "submit.iloc[:,1] = y_pred\n",
    "submit.to_csv('./submit_lgbm15.csv', index=False)"
   ]
  },
  {
   "cell_type": "code",
   "execution_count": 59,
   "metadata": {},
   "outputs": [
    {
     "name": "stdout",
     "output_type": "stream",
     "text": [
      "auto-sklearn results:\n",
      "  Dataset name: ec2c6ee7-de65-11ed-a457-0242ac110002\n",
      "  Metric: mean_squared_error\n",
      "  Best validation score: 0.084199\n",
      "  Number of target algorithm runs: 125\n",
      "  Number of successful target algorithm runs: 102\n",
      "  Number of crashed target algorithm runs: 6\n",
      "  Number of target algorithms that exceeded the time limit: 6\n",
      "  Number of target algorithms that exceeded the memory limit: 11\n",
      "\n"
     ]
    }
   ],
   "source": [
    "print(automl.sprint_statistics())"
   ]
  },
  {
   "cell_type": "markdown",
   "metadata": {},
   "source": [
    "## 평가"
   ]
  },
  {
   "attachments": {},
   "cell_type": "markdown",
   "metadata": {},
   "source": [
    "##### polynomial, 5-fold, 2000초 : RMSE 0.2914599676 점"
   ]
  },
  {
   "cell_type": "markdown",
   "metadata": {},
   "source": [
    "auto-sklearn results: <p>\n",
    "  Dataset name: ec2c6ee7-de65-11ed-a457-0242ac110002 <p>\n",
    "  Metric: mean_squared_error <p>\n",
    "  Best validation score: 0.084199 <p>\n",
    "  Number of target algorithm runs: 125 <p>\n",
    "  Number of successful target algorithm runs: 102 <p>\n",
    "  Number of crashed target algorithm runs: 6 <p>\n",
    "  Number of target algorithms that exceeded the time limit: 6 <p>\n",
    "  Number of target algorithms that exceeded the memory limit: 11 <p>\n"
   ]
  }
 ],
 "metadata": {
  "kernelspec": {
   "display_name": "dong_linux",
   "language": "python",
   "name": "python3"
  },
  "language_info": {
   "codemirror_mode": {
    "name": "ipython",
    "version": 3
   },
   "file_extension": ".py",
   "mimetype": "text/x-python",
   "name": "python",
   "nbconvert_exporter": "python",
   "pygments_lexer": "ipython3",
   "version": "3.10.6"
  },
  "orig_nbformat": 4
 },
 "nbformat": 4,
 "nbformat_minor": 2
}
