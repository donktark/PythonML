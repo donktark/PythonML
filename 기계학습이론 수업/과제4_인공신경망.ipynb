{
 "cells": [
  {
   "cell_type": "markdown",
   "metadata": {},
   "source": [
    "# 기계학습개론 과제4\n",
    "응용통계학과 </p>\n",
    "32197453 이동현"
   ]
  },
  {
   "cell_type": "code",
   "execution_count": 119,
   "metadata": {},
   "outputs": [],
   "source": [
    "import pandas as pd\n",
    "import numpy as np\n",
    "import tensorflow as tf\n",
    "import matplotlib.pyplot as plt\n",
    "import os\n",
    "from sklearn.svm import SVR\n",
    "from xgboost import XGBRegressor\n",
    "from lightgbm import LGBMRegressor\n",
    "from sklearn.model_selection import RandomizedSearchCV, train_test_split\n",
    "from tensorflow.keras.layers import Dense, Dropout, Embedding, concatenate, Flatten, Input\n",
    "from sklearn.metrics import mean_squared_error, mean_absolute_error\n",
    "from sklearn.ensemble import RandomForestRegressor\n",
    "from sklearn.preprocessing import MinMaxScaler\n",
    "from simpledbf import Dbf5\n",
    "from keras.models import Sequential, Model"
   ]
  },
  {
   "cell_type": "code",
   "execution_count": 120,
   "metadata": {},
   "outputs": [],
   "source": [
    "def scores(y_test, y_pred):\n",
    "    RMSE = np.sqrt(mean_squared_error(y_test, y_pred))\n",
    "    MAE = mean_absolute_error(y_test, y_pred)\n",
    "    print('RMSE: {0} \\n MAE : {1:.3f}'.format(RMSE, MAE))"
   ]
  },
  {
   "cell_type": "markdown",
   "metadata": {},
   "source": [
    "## 1. Problem 1 - Pitt"
   ]
  },
  {
   "cell_type": "code",
   "execution_count": 121,
   "metadata": {},
   "outputs": [
    {
     "name": "stdout",
     "output_type": "stream",
     "text": [
      "['dat0001.dbf', 'dat0102.dbf', 'dat0206.dbf', 'dat0608.dbf']\n"
     ]
    }
   ],
   "source": [
    "path = \"C:/Users/32197453/Desktop/교과/4학년 2학기/기계학습이론/과제/기계학습4/Pitt/\"\n",
    "file_list = os.listdir(path)\n",
    "dbf_files = []\n",
    "def find_dbf(files):\n",
    "    for data in files:\n",
    "        if '.dbf' in data:\n",
    "            dbf_files.append(data)\n",
    "find_dbf(file_list)\n",
    "#dbf 파일만 추출하여 목록 만들기\n",
    "print(dbf_files)\n",
    "\n",
    "for i in dbf_files:\n",
    "    globals()[i.split('.')[0]] = Dbf5(f'{path}/{i}').to_dataframe()\n",
    "#목록에 해당하는 dbf 파일 불러온 후 데이터프레임으로 저장"
   ]
  },
  {
   "cell_type": "code",
   "execution_count": 122,
   "metadata": {},
   "outputs": [
    {
     "name": "stdout",
     "output_type": "stream",
     "text": [
      "dat0001의 결측치 존재 변수 Series([], dtype: int64)\n",
      "dat0102의 결측치 존재 변수 Series([], dtype: int64)\n",
      "dat0206의 결측치 존재 변수 Series([], dtype: int64)\n",
      "dat0608의 결측치 존재 변수 Series([], dtype: int64)\n"
     ]
    }
   ],
   "source": [
    "#seed 고정\n",
    "tf.random.set_seed(7453)\n",
    "\n",
    "#결측치 있는 변수 추출\n",
    "for i in dbf_files : \n",
    "    df = eval(i.replace(\".dbf\",\"\"))\n",
    "    print('{0}의 결측치 존재 변수'.format(i.replace(\".dbf\",\"\")),df.isnull().sum()[df.isnull().sum()!=0])"
   ]
  },
  {
   "cell_type": "markdown",
   "metadata": {},
   "source": [
    "### 1) 일반적 모형"
   ]
  },
  {
   "cell_type": "code",
   "execution_count": 123,
   "metadata": {},
   "outputs": [
    {
     "name": "stdout",
     "output_type": "stream",
     "text": [
      "Dimension of X_train : (4821, 21)\n",
      "Dimension of y_train : (4821,)\n",
      "Dimension of X_test : (1145, 21)\n",
      "Dimension of y_test : (1145,)\n"
     ]
    }
   ],
   "source": [
    "scaler = MinMaxScaler()\n",
    "\n",
    "X_train1_unsc = pd.concat((dat0001, dat0102, dat0206), axis=0).drop('PRICE', axis=1)\n",
    "y_train1 = pd.concat((dat0001, dat0102, dat0206), axis=0)['PRICE'].astype('int')\n",
    "X_test1_unsc = dat0608.drop('PRICE', axis=1)\n",
    "y_test1 = dat0608['PRICE'].astype('int')\n",
    "\n",
    "X_train1 = scaler.fit_transform(X_train1_unsc)\n",
    "X_test1 = scaler.fit_transform(X_test1_unsc)\n",
    "\n",
    "\n",
    "print(\"Dimension of X_train :\", X_train1.shape)\n",
    "print(\"Dimension of y_train :\", y_train1.shape)\n",
    "print(\"Dimension of X_test :\", X_test1.shape)\n",
    "print(\"Dimension of y_test :\", y_test1.shape)"
   ]
  },
  {
   "cell_type": "markdown",
   "metadata": {},
   "source": [
    "#### SVM"
   ]
  },
  {
   "cell_type": "code",
   "execution_count": 124,
   "metadata": {},
   "outputs": [
    {
     "name": "stderr",
     "output_type": "stream",
     "text": [
      "C:\\Users\\32197453\\AppData\\Local\\Programs\\Python\\Python39\\lib\\site-packages\\sklearn\\model_selection\\_search.py:306: UserWarning: The total space of parameters 9 is smaller than n_iter=10. Running 9 iterations. For exhaustive searches, use GridSearchCV.\n",
      "  warnings.warn(\n"
     ]
    },
    {
     "data": {
      "text/html": [
       "<style>#sk-container-id-2 {color: black;background-color: white;}#sk-container-id-2 pre{padding: 0;}#sk-container-id-2 div.sk-toggleable {background-color: white;}#sk-container-id-2 label.sk-toggleable__label {cursor: pointer;display: block;width: 100%;margin-bottom: 0;padding: 0.3em;box-sizing: border-box;text-align: center;}#sk-container-id-2 label.sk-toggleable__label-arrow:before {content: \"▸\";float: left;margin-right: 0.25em;color: #696969;}#sk-container-id-2 label.sk-toggleable__label-arrow:hover:before {color: black;}#sk-container-id-2 div.sk-estimator:hover label.sk-toggleable__label-arrow:before {color: black;}#sk-container-id-2 div.sk-toggleable__content {max-height: 0;max-width: 0;overflow: hidden;text-align: left;background-color: #f0f8ff;}#sk-container-id-2 div.sk-toggleable__content pre {margin: 0.2em;color: black;border-radius: 0.25em;background-color: #f0f8ff;}#sk-container-id-2 input.sk-toggleable__control:checked~div.sk-toggleable__content {max-height: 200px;max-width: 100%;overflow: auto;}#sk-container-id-2 input.sk-toggleable__control:checked~label.sk-toggleable__label-arrow:before {content: \"▾\";}#sk-container-id-2 div.sk-estimator input.sk-toggleable__control:checked~label.sk-toggleable__label {background-color: #d4ebff;}#sk-container-id-2 div.sk-label input.sk-toggleable__control:checked~label.sk-toggleable__label {background-color: #d4ebff;}#sk-container-id-2 input.sk-hidden--visually {border: 0;clip: rect(1px 1px 1px 1px);clip: rect(1px, 1px, 1px, 1px);height: 1px;margin: -1px;overflow: hidden;padding: 0;position: absolute;width: 1px;}#sk-container-id-2 div.sk-estimator {font-family: monospace;background-color: #f0f8ff;border: 1px dotted black;border-radius: 0.25em;box-sizing: border-box;margin-bottom: 0.5em;}#sk-container-id-2 div.sk-estimator:hover {background-color: #d4ebff;}#sk-container-id-2 div.sk-parallel-item::after {content: \"\";width: 100%;border-bottom: 1px solid gray;flex-grow: 1;}#sk-container-id-2 div.sk-label:hover label.sk-toggleable__label {background-color: #d4ebff;}#sk-container-id-2 div.sk-serial::before {content: \"\";position: absolute;border-left: 1px solid gray;box-sizing: border-box;top: 0;bottom: 0;left: 50%;z-index: 0;}#sk-container-id-2 div.sk-serial {display: flex;flex-direction: column;align-items: center;background-color: white;padding-right: 0.2em;padding-left: 0.2em;position: relative;}#sk-container-id-2 div.sk-item {position: relative;z-index: 1;}#sk-container-id-2 div.sk-parallel {display: flex;align-items: stretch;justify-content: center;background-color: white;position: relative;}#sk-container-id-2 div.sk-item::before, #sk-container-id-2 div.sk-parallel-item::before {content: \"\";position: absolute;border-left: 1px solid gray;box-sizing: border-box;top: 0;bottom: 0;left: 50%;z-index: -1;}#sk-container-id-2 div.sk-parallel-item {display: flex;flex-direction: column;z-index: 1;position: relative;background-color: white;}#sk-container-id-2 div.sk-parallel-item:first-child::after {align-self: flex-end;width: 50%;}#sk-container-id-2 div.sk-parallel-item:last-child::after {align-self: flex-start;width: 50%;}#sk-container-id-2 div.sk-parallel-item:only-child::after {width: 0;}#sk-container-id-2 div.sk-dashed-wrapped {border: 1px dashed gray;margin: 0 0.4em 0.5em 0.4em;box-sizing: border-box;padding-bottom: 0.4em;background-color: white;}#sk-container-id-2 div.sk-label label {font-family: monospace;font-weight: bold;display: inline-block;line-height: 1.2em;}#sk-container-id-2 div.sk-label-container {text-align: center;}#sk-container-id-2 div.sk-container {/* jupyter's `normalize.less` sets `[hidden] { display: none; }` but bootstrap.min.css set `[hidden] { display: none !important; }` so we also need the `!important` here to be able to override the default hidden behavior on the sphinx rendered scikit-learn.org. See: https://github.com/scikit-learn/scikit-learn/issues/21755 */display: inline-block !important;position: relative;}#sk-container-id-2 div.sk-text-repr-fallback {display: none;}</style><div id=\"sk-container-id-2\" class=\"sk-top-container\"><div class=\"sk-text-repr-fallback\"><pre>RandomizedSearchCV(estimator=SVR(), n_jobs=-1,\n",
       "                   param_distributions=[{&#x27;C&#x27;: [1, 10, 100],\n",
       "                                         &#x27;gamma&#x27;: [0.1, 1, 5]}])</pre><b>In a Jupyter environment, please rerun this cell to show the HTML representation or trust the notebook. <br />On GitHub, the HTML representation is unable to render, please try loading this page with nbviewer.org.</b></div><div class=\"sk-container\" hidden><div class=\"sk-item sk-dashed-wrapped\"><div class=\"sk-label-container\"><div class=\"sk-label sk-toggleable\"><input class=\"sk-toggleable__control sk-hidden--visually\" id=\"sk-estimator-id-4\" type=\"checkbox\" ><label for=\"sk-estimator-id-4\" class=\"sk-toggleable__label sk-toggleable__label-arrow\">RandomizedSearchCV</label><div class=\"sk-toggleable__content\"><pre>RandomizedSearchCV(estimator=SVR(), n_jobs=-1,\n",
       "                   param_distributions=[{&#x27;C&#x27;: [1, 10, 100],\n",
       "                                         &#x27;gamma&#x27;: [0.1, 1, 5]}])</pre></div></div></div><div class=\"sk-parallel\"><div class=\"sk-parallel-item\"><div class=\"sk-item\"><div class=\"sk-label-container\"><div class=\"sk-label sk-toggleable\"><input class=\"sk-toggleable__control sk-hidden--visually\" id=\"sk-estimator-id-5\" type=\"checkbox\" ><label for=\"sk-estimator-id-5\" class=\"sk-toggleable__label sk-toggleable__label-arrow\">estimator: SVR</label><div class=\"sk-toggleable__content\"><pre>SVR()</pre></div></div></div><div class=\"sk-serial\"><div class=\"sk-item\"><div class=\"sk-estimator sk-toggleable\"><input class=\"sk-toggleable__control sk-hidden--visually\" id=\"sk-estimator-id-6\" type=\"checkbox\" ><label for=\"sk-estimator-id-6\" class=\"sk-toggleable__label sk-toggleable__label-arrow\">SVR</label><div class=\"sk-toggleable__content\"><pre>SVR()</pre></div></div></div></div></div></div></div></div></div></div>"
      ],
      "text/plain": [
       "RandomizedSearchCV(estimator=SVR(), n_jobs=-1,\n",
       "                   param_distributions=[{'C': [1, 10, 100],\n",
       "                                         'gamma': [0.1, 1, 5]}])"
      ]
     },
     "execution_count": 124,
     "metadata": {},
     "output_type": "execute_result"
    }
   ],
   "source": [
    "svm_param = [{\"C\" : [1, 10,100], \n",
    "                \"gamma\" : [0.1, 1, 5] }]\n",
    "svm_rnd = RandomizedSearchCV(estimator = SVR(), param_distributions= svm_param,   n_jobs=-1, verbose = 0)\n",
    "svm_rnd.fit(X_train1, y_train1)"
   ]
  },
  {
   "cell_type": "code",
   "execution_count": 125,
   "metadata": {},
   "outputs": [
    {
     "name": "stdout",
     "output_type": "stream",
     "text": [
      "최고 평균 정확도 : 0.732800\n",
      "최고의 파라미터 :  {'gamma': 0.1, 'C': 100}\n"
     ]
    }
   ],
   "source": [
    "print(\"최고 평균 정확도 : {0:.6f}\".format(svm_rnd.best_score_))\n",
    "print(\"최고의 파라미터 : \", svm_rnd.best_params_)\n",
    "model_G_svm = svm_rnd.best_estimator_\n",
    "y_pred_G_svm = model_G_svm.predict(X_test1)"
   ]
  },
  {
   "cell_type": "code",
   "execution_count": 126,
   "metadata": {},
   "outputs": [
    {
     "name": "stdout",
     "output_type": "stream",
     "text": [
      "RMSE: 92.34123330973253 \n",
      " MAE : 27.561\n"
     ]
    }
   ],
   "source": [
    "scores(y_test1, y_pred_G_svm)"
   ]
  },
  {
   "cell_type": "markdown",
   "metadata": {},
   "source": [
    "#### Random Forest"
   ]
  },
  {
   "cell_type": "code",
   "execution_count": 127,
   "metadata": {},
   "outputs": [
    {
     "name": "stderr",
     "output_type": "stream",
     "text": [
      "C:\\Users\\32197453\\AppData\\Local\\Programs\\Python\\Python39\\lib\\site-packages\\sklearn\\model_selection\\_search.py:306: UserWarning: The total space of parameters 9 is smaller than n_iter=10. Running 9 iterations. For exhaustive searches, use GridSearchCV.\n",
      "  warnings.warn(\n"
     ]
    },
    {
     "data": {
      "text/html": [
       "<style>#sk-container-id-3 {color: black;background-color: white;}#sk-container-id-3 pre{padding: 0;}#sk-container-id-3 div.sk-toggleable {background-color: white;}#sk-container-id-3 label.sk-toggleable__label {cursor: pointer;display: block;width: 100%;margin-bottom: 0;padding: 0.3em;box-sizing: border-box;text-align: center;}#sk-container-id-3 label.sk-toggleable__label-arrow:before {content: \"▸\";float: left;margin-right: 0.25em;color: #696969;}#sk-container-id-3 label.sk-toggleable__label-arrow:hover:before {color: black;}#sk-container-id-3 div.sk-estimator:hover label.sk-toggleable__label-arrow:before {color: black;}#sk-container-id-3 div.sk-toggleable__content {max-height: 0;max-width: 0;overflow: hidden;text-align: left;background-color: #f0f8ff;}#sk-container-id-3 div.sk-toggleable__content pre {margin: 0.2em;color: black;border-radius: 0.25em;background-color: #f0f8ff;}#sk-container-id-3 input.sk-toggleable__control:checked~div.sk-toggleable__content {max-height: 200px;max-width: 100%;overflow: auto;}#sk-container-id-3 input.sk-toggleable__control:checked~label.sk-toggleable__label-arrow:before {content: \"▾\";}#sk-container-id-3 div.sk-estimator input.sk-toggleable__control:checked~label.sk-toggleable__label {background-color: #d4ebff;}#sk-container-id-3 div.sk-label input.sk-toggleable__control:checked~label.sk-toggleable__label {background-color: #d4ebff;}#sk-container-id-3 input.sk-hidden--visually {border: 0;clip: rect(1px 1px 1px 1px);clip: rect(1px, 1px, 1px, 1px);height: 1px;margin: -1px;overflow: hidden;padding: 0;position: absolute;width: 1px;}#sk-container-id-3 div.sk-estimator {font-family: monospace;background-color: #f0f8ff;border: 1px dotted black;border-radius: 0.25em;box-sizing: border-box;margin-bottom: 0.5em;}#sk-container-id-3 div.sk-estimator:hover {background-color: #d4ebff;}#sk-container-id-3 div.sk-parallel-item::after {content: \"\";width: 100%;border-bottom: 1px solid gray;flex-grow: 1;}#sk-container-id-3 div.sk-label:hover label.sk-toggleable__label {background-color: #d4ebff;}#sk-container-id-3 div.sk-serial::before {content: \"\";position: absolute;border-left: 1px solid gray;box-sizing: border-box;top: 0;bottom: 0;left: 50%;z-index: 0;}#sk-container-id-3 div.sk-serial {display: flex;flex-direction: column;align-items: center;background-color: white;padding-right: 0.2em;padding-left: 0.2em;position: relative;}#sk-container-id-3 div.sk-item {position: relative;z-index: 1;}#sk-container-id-3 div.sk-parallel {display: flex;align-items: stretch;justify-content: center;background-color: white;position: relative;}#sk-container-id-3 div.sk-item::before, #sk-container-id-3 div.sk-parallel-item::before {content: \"\";position: absolute;border-left: 1px solid gray;box-sizing: border-box;top: 0;bottom: 0;left: 50%;z-index: -1;}#sk-container-id-3 div.sk-parallel-item {display: flex;flex-direction: column;z-index: 1;position: relative;background-color: white;}#sk-container-id-3 div.sk-parallel-item:first-child::after {align-self: flex-end;width: 50%;}#sk-container-id-3 div.sk-parallel-item:last-child::after {align-self: flex-start;width: 50%;}#sk-container-id-3 div.sk-parallel-item:only-child::after {width: 0;}#sk-container-id-3 div.sk-dashed-wrapped {border: 1px dashed gray;margin: 0 0.4em 0.5em 0.4em;box-sizing: border-box;padding-bottom: 0.4em;background-color: white;}#sk-container-id-3 div.sk-label label {font-family: monospace;font-weight: bold;display: inline-block;line-height: 1.2em;}#sk-container-id-3 div.sk-label-container {text-align: center;}#sk-container-id-3 div.sk-container {/* jupyter's `normalize.less` sets `[hidden] { display: none; }` but bootstrap.min.css set `[hidden] { display: none !important; }` so we also need the `!important` here to be able to override the default hidden behavior on the sphinx rendered scikit-learn.org. See: https://github.com/scikit-learn/scikit-learn/issues/21755 */display: inline-block !important;position: relative;}#sk-container-id-3 div.sk-text-repr-fallback {display: none;}</style><div id=\"sk-container-id-3\" class=\"sk-top-container\"><div class=\"sk-text-repr-fallback\"><pre>RandomizedSearchCV(estimator=RandomForestRegressor(), n_jobs=-1,\n",
       "                   param_distributions={&#x27;max_depth&#x27;: [4, 8, 16],\n",
       "                                        &#x27;n_estimators&#x27;: [100, 200, 400]})</pre><b>In a Jupyter environment, please rerun this cell to show the HTML representation or trust the notebook. <br />On GitHub, the HTML representation is unable to render, please try loading this page with nbviewer.org.</b></div><div class=\"sk-container\" hidden><div class=\"sk-item sk-dashed-wrapped\"><div class=\"sk-label-container\"><div class=\"sk-label sk-toggleable\"><input class=\"sk-toggleable__control sk-hidden--visually\" id=\"sk-estimator-id-7\" type=\"checkbox\" ><label for=\"sk-estimator-id-7\" class=\"sk-toggleable__label sk-toggleable__label-arrow\">RandomizedSearchCV</label><div class=\"sk-toggleable__content\"><pre>RandomizedSearchCV(estimator=RandomForestRegressor(), n_jobs=-1,\n",
       "                   param_distributions={&#x27;max_depth&#x27;: [4, 8, 16],\n",
       "                                        &#x27;n_estimators&#x27;: [100, 200, 400]})</pre></div></div></div><div class=\"sk-parallel\"><div class=\"sk-parallel-item\"><div class=\"sk-item\"><div class=\"sk-label-container\"><div class=\"sk-label sk-toggleable\"><input class=\"sk-toggleable__control sk-hidden--visually\" id=\"sk-estimator-id-8\" type=\"checkbox\" ><label for=\"sk-estimator-id-8\" class=\"sk-toggleable__label sk-toggleable__label-arrow\">estimator: RandomForestRegressor</label><div class=\"sk-toggleable__content\"><pre>RandomForestRegressor()</pre></div></div></div><div class=\"sk-serial\"><div class=\"sk-item\"><div class=\"sk-estimator sk-toggleable\"><input class=\"sk-toggleable__control sk-hidden--visually\" id=\"sk-estimator-id-9\" type=\"checkbox\" ><label for=\"sk-estimator-id-9\" class=\"sk-toggleable__label sk-toggleable__label-arrow\">RandomForestRegressor</label><div class=\"sk-toggleable__content\"><pre>RandomForestRegressor()</pre></div></div></div></div></div></div></div></div></div></div>"
      ],
      "text/plain": [
       "RandomizedSearchCV(estimator=RandomForestRegressor(), n_jobs=-1,\n",
       "                   param_distributions={'max_depth': [4, 8, 16],\n",
       "                                        'n_estimators': [100, 200, 400]})"
      ]
     },
     "execution_count": 127,
     "metadata": {},
     "output_type": "execute_result"
    }
   ],
   "source": [
    "rf_param = {'n_estimators' : [100, 200, 400],\n",
    "            'max_depth' : [4, 8, 16]}\n",
    "rf_rnd = RandomizedSearchCV(estimator = RandomForestRegressor(), param_distributions= rf_param,   n_jobs=-1, verbose = 0)\n",
    "rf_rnd.fit(X_train1, y_train1)"
   ]
  },
  {
   "cell_type": "code",
   "execution_count": 128,
   "metadata": {},
   "outputs": [
    {
     "name": "stdout",
     "output_type": "stream",
     "text": [
      "최고 평균 정확도 : 0.733308\n",
      "최고의 파라미터 :  {'n_estimators': 200, 'max_depth': 8}\n"
     ]
    }
   ],
   "source": [
    "print(\"최고 평균 정확도 : {0:.6f}\".format(rf_rnd.best_score_))\n",
    "print(\"최고의 파라미터 : \", rf_rnd.best_params_)\n",
    "model_G_rf = rf_rnd.best_estimator_\n",
    "y_pred_G_rf = model_G_rf.predict(X_test1)"
   ]
  },
  {
   "cell_type": "code",
   "execution_count": 129,
   "metadata": {},
   "outputs": [
    {
     "name": "stdout",
     "output_type": "stream",
     "text": [
      "RMSE: 92.05015290386002 \n",
      " MAE : 34.991\n"
     ]
    }
   ],
   "source": [
    "scores(y_test1, y_pred_G_rf)"
   ]
  },
  {
   "cell_type": "markdown",
   "metadata": {},
   "source": [
    "#### XGBoost"
   ]
  },
  {
   "cell_type": "code",
   "execution_count": 130,
   "metadata": {},
   "outputs": [
    {
     "data": {
      "text/html": [
       "<style>#sk-container-id-4 {color: black;background-color: white;}#sk-container-id-4 pre{padding: 0;}#sk-container-id-4 div.sk-toggleable {background-color: white;}#sk-container-id-4 label.sk-toggleable__label {cursor: pointer;display: block;width: 100%;margin-bottom: 0;padding: 0.3em;box-sizing: border-box;text-align: center;}#sk-container-id-4 label.sk-toggleable__label-arrow:before {content: \"▸\";float: left;margin-right: 0.25em;color: #696969;}#sk-container-id-4 label.sk-toggleable__label-arrow:hover:before {color: black;}#sk-container-id-4 div.sk-estimator:hover label.sk-toggleable__label-arrow:before {color: black;}#sk-container-id-4 div.sk-toggleable__content {max-height: 0;max-width: 0;overflow: hidden;text-align: left;background-color: #f0f8ff;}#sk-container-id-4 div.sk-toggleable__content pre {margin: 0.2em;color: black;border-radius: 0.25em;background-color: #f0f8ff;}#sk-container-id-4 input.sk-toggleable__control:checked~div.sk-toggleable__content {max-height: 200px;max-width: 100%;overflow: auto;}#sk-container-id-4 input.sk-toggleable__control:checked~label.sk-toggleable__label-arrow:before {content: \"▾\";}#sk-container-id-4 div.sk-estimator input.sk-toggleable__control:checked~label.sk-toggleable__label {background-color: #d4ebff;}#sk-container-id-4 div.sk-label input.sk-toggleable__control:checked~label.sk-toggleable__label {background-color: #d4ebff;}#sk-container-id-4 input.sk-hidden--visually {border: 0;clip: rect(1px 1px 1px 1px);clip: rect(1px, 1px, 1px, 1px);height: 1px;margin: -1px;overflow: hidden;padding: 0;position: absolute;width: 1px;}#sk-container-id-4 div.sk-estimator {font-family: monospace;background-color: #f0f8ff;border: 1px dotted black;border-radius: 0.25em;box-sizing: border-box;margin-bottom: 0.5em;}#sk-container-id-4 div.sk-estimator:hover {background-color: #d4ebff;}#sk-container-id-4 div.sk-parallel-item::after {content: \"\";width: 100%;border-bottom: 1px solid gray;flex-grow: 1;}#sk-container-id-4 div.sk-label:hover label.sk-toggleable__label {background-color: #d4ebff;}#sk-container-id-4 div.sk-serial::before {content: \"\";position: absolute;border-left: 1px solid gray;box-sizing: border-box;top: 0;bottom: 0;left: 50%;z-index: 0;}#sk-container-id-4 div.sk-serial {display: flex;flex-direction: column;align-items: center;background-color: white;padding-right: 0.2em;padding-left: 0.2em;position: relative;}#sk-container-id-4 div.sk-item {position: relative;z-index: 1;}#sk-container-id-4 div.sk-parallel {display: flex;align-items: stretch;justify-content: center;background-color: white;position: relative;}#sk-container-id-4 div.sk-item::before, #sk-container-id-4 div.sk-parallel-item::before {content: \"\";position: absolute;border-left: 1px solid gray;box-sizing: border-box;top: 0;bottom: 0;left: 50%;z-index: -1;}#sk-container-id-4 div.sk-parallel-item {display: flex;flex-direction: column;z-index: 1;position: relative;background-color: white;}#sk-container-id-4 div.sk-parallel-item:first-child::after {align-self: flex-end;width: 50%;}#sk-container-id-4 div.sk-parallel-item:last-child::after {align-self: flex-start;width: 50%;}#sk-container-id-4 div.sk-parallel-item:only-child::after {width: 0;}#sk-container-id-4 div.sk-dashed-wrapped {border: 1px dashed gray;margin: 0 0.4em 0.5em 0.4em;box-sizing: border-box;padding-bottom: 0.4em;background-color: white;}#sk-container-id-4 div.sk-label label {font-family: monospace;font-weight: bold;display: inline-block;line-height: 1.2em;}#sk-container-id-4 div.sk-label-container {text-align: center;}#sk-container-id-4 div.sk-container {/* jupyter's `normalize.less` sets `[hidden] { display: none; }` but bootstrap.min.css set `[hidden] { display: none !important; }` so we also need the `!important` here to be able to override the default hidden behavior on the sphinx rendered scikit-learn.org. See: https://github.com/scikit-learn/scikit-learn/issues/21755 */display: inline-block !important;position: relative;}#sk-container-id-4 div.sk-text-repr-fallback {display: none;}</style><div id=\"sk-container-id-4\" class=\"sk-top-container\"><div class=\"sk-text-repr-fallback\"><pre>RandomizedSearchCV(estimator=XGBRegressor(base_score=None, booster=None,\n",
       "                                          callbacks=None,\n",
       "                                          colsample_bylevel=None,\n",
       "                                          colsample_bynode=None,\n",
       "                                          colsample_bytree=None,\n",
       "                                          early_stopping_rounds=None,\n",
       "                                          enable_categorical=False,\n",
       "                                          eval_metric=None, feature_types=None,\n",
       "                                          gamma=None, gpu_id=None,\n",
       "                                          grow_policy=None,\n",
       "                                          importance_type=None,\n",
       "                                          interaction_constraints=None,\n",
       "                                          learning_rate=None,...\n",
       "                                          max_cat_threshold=None,\n",
       "                                          max_cat_to_onehot=None,\n",
       "                                          max_delta_step=None, max_depth=None,\n",
       "                                          max_leaves=None,\n",
       "                                          min_child_weight=None, missing=nan,\n",
       "                                          monotone_constraints=None,\n",
       "                                          n_estimators=100, n_jobs=None,\n",
       "                                          num_parallel_tree=None,\n",
       "                                          predictor=None, random_state=None, ...),\n",
       "                   n_jobs=-1,\n",
       "                   param_distributions={&#x27;learning_rate&#x27;: [0.01, 0.1, 0.3],\n",
       "                                        &#x27;max_depth&#x27;: [4, 8, 12],\n",
       "                                        &#x27;n_estimators&#x27;: [100, 200, 400]})</pre><b>In a Jupyter environment, please rerun this cell to show the HTML representation or trust the notebook. <br />On GitHub, the HTML representation is unable to render, please try loading this page with nbviewer.org.</b></div><div class=\"sk-container\" hidden><div class=\"sk-item sk-dashed-wrapped\"><div class=\"sk-label-container\"><div class=\"sk-label sk-toggleable\"><input class=\"sk-toggleable__control sk-hidden--visually\" id=\"sk-estimator-id-10\" type=\"checkbox\" ><label for=\"sk-estimator-id-10\" class=\"sk-toggleable__label sk-toggleable__label-arrow\">RandomizedSearchCV</label><div class=\"sk-toggleable__content\"><pre>RandomizedSearchCV(estimator=XGBRegressor(base_score=None, booster=None,\n",
       "                                          callbacks=None,\n",
       "                                          colsample_bylevel=None,\n",
       "                                          colsample_bynode=None,\n",
       "                                          colsample_bytree=None,\n",
       "                                          early_stopping_rounds=None,\n",
       "                                          enable_categorical=False,\n",
       "                                          eval_metric=None, feature_types=None,\n",
       "                                          gamma=None, gpu_id=None,\n",
       "                                          grow_policy=None,\n",
       "                                          importance_type=None,\n",
       "                                          interaction_constraints=None,\n",
       "                                          learning_rate=None,...\n",
       "                                          max_cat_threshold=None,\n",
       "                                          max_cat_to_onehot=None,\n",
       "                                          max_delta_step=None, max_depth=None,\n",
       "                                          max_leaves=None,\n",
       "                                          min_child_weight=None, missing=nan,\n",
       "                                          monotone_constraints=None,\n",
       "                                          n_estimators=100, n_jobs=None,\n",
       "                                          num_parallel_tree=None,\n",
       "                                          predictor=None, random_state=None, ...),\n",
       "                   n_jobs=-1,\n",
       "                   param_distributions={&#x27;learning_rate&#x27;: [0.01, 0.1, 0.3],\n",
       "                                        &#x27;max_depth&#x27;: [4, 8, 12],\n",
       "                                        &#x27;n_estimators&#x27;: [100, 200, 400]})</pre></div></div></div><div class=\"sk-parallel\"><div class=\"sk-parallel-item\"><div class=\"sk-item\"><div class=\"sk-label-container\"><div class=\"sk-label sk-toggleable\"><input class=\"sk-toggleable__control sk-hidden--visually\" id=\"sk-estimator-id-11\" type=\"checkbox\" ><label for=\"sk-estimator-id-11\" class=\"sk-toggleable__label sk-toggleable__label-arrow\">estimator: XGBRegressor</label><div class=\"sk-toggleable__content\"><pre>XGBRegressor(base_score=None, booster=None, callbacks=None,\n",
       "             colsample_bylevel=None, colsample_bynode=None,\n",
       "             colsample_bytree=None, early_stopping_rounds=None,\n",
       "             enable_categorical=False, eval_metric=None, feature_types=None,\n",
       "             gamma=None, gpu_id=None, grow_policy=None, importance_type=None,\n",
       "             interaction_constraints=None, learning_rate=None, max_bin=None,\n",
       "             max_cat_threshold=None, max_cat_to_onehot=None,\n",
       "             max_delta_step=None, max_depth=None, max_leaves=None,\n",
       "             min_child_weight=None, missing=nan, monotone_constraints=None,\n",
       "             n_estimators=100, n_jobs=None, num_parallel_tree=None,\n",
       "             predictor=None, random_state=None, ...)</pre></div></div></div><div class=\"sk-serial\"><div class=\"sk-item\"><div class=\"sk-estimator sk-toggleable\"><input class=\"sk-toggleable__control sk-hidden--visually\" id=\"sk-estimator-id-12\" type=\"checkbox\" ><label for=\"sk-estimator-id-12\" class=\"sk-toggleable__label sk-toggleable__label-arrow\">XGBRegressor</label><div class=\"sk-toggleable__content\"><pre>XGBRegressor(base_score=None, booster=None, callbacks=None,\n",
       "             colsample_bylevel=None, colsample_bynode=None,\n",
       "             colsample_bytree=None, early_stopping_rounds=None,\n",
       "             enable_categorical=False, eval_metric=None, feature_types=None,\n",
       "             gamma=None, gpu_id=None, grow_policy=None, importance_type=None,\n",
       "             interaction_constraints=None, learning_rate=None, max_bin=None,\n",
       "             max_cat_threshold=None, max_cat_to_onehot=None,\n",
       "             max_delta_step=None, max_depth=None, max_leaves=None,\n",
       "             min_child_weight=None, missing=nan, monotone_constraints=None,\n",
       "             n_estimators=100, n_jobs=None, num_parallel_tree=None,\n",
       "             predictor=None, random_state=None, ...)</pre></div></div></div></div></div></div></div></div></div></div>"
      ],
      "text/plain": [
       "RandomizedSearchCV(estimator=XGBRegressor(base_score=None, booster=None,\n",
       "                                          callbacks=None,\n",
       "                                          colsample_bylevel=None,\n",
       "                                          colsample_bynode=None,\n",
       "                                          colsample_bytree=None,\n",
       "                                          early_stopping_rounds=None,\n",
       "                                          enable_categorical=False,\n",
       "                                          eval_metric=None, feature_types=None,\n",
       "                                          gamma=None, gpu_id=None,\n",
       "                                          grow_policy=None,\n",
       "                                          importance_type=None,\n",
       "                                          interaction_constraints=None,\n",
       "                                          learning_rate=None,...\n",
       "                                          max_cat_threshold=None,\n",
       "                                          max_cat_to_onehot=None,\n",
       "                                          max_delta_step=None, max_depth=None,\n",
       "                                          max_leaves=None,\n",
       "                                          min_child_weight=None, missing=nan,\n",
       "                                          monotone_constraints=None,\n",
       "                                          n_estimators=100, n_jobs=None,\n",
       "                                          num_parallel_tree=None,\n",
       "                                          predictor=None, random_state=None, ...),\n",
       "                   n_jobs=-1,\n",
       "                   param_distributions={'learning_rate': [0.01, 0.1, 0.3],\n",
       "                                        'max_depth': [4, 8, 12],\n",
       "                                        'n_estimators': [100, 200, 400]})"
      ]
     },
     "execution_count": 130,
     "metadata": {},
     "output_type": "execute_result"
    }
   ],
   "source": [
    "xgb_param = {\n",
    "    'n_estimators' : [100, 200, 400],\n",
    "    'learning_rate' : [0.01, 0.1, 0.3],\n",
    "    'max_depth' : [4, 8, 12],\n",
    "}\n",
    "xgb_rnd = RandomizedSearchCV(estimator = XGBRegressor(), param_distributions= xgb_param,   n_jobs=-1, verbose = 0)\n",
    "xgb_rnd.fit(X_train1, y_train1)"
   ]
  },
  {
   "cell_type": "code",
   "execution_count": 131,
   "metadata": {},
   "outputs": [
    {
     "name": "stdout",
     "output_type": "stream",
     "text": [
      "최고 평균 정확도 : 0.722230\n",
      "최고의 파라미터 :  {'n_estimators': 200, 'max_depth': 4, 'learning_rate': 0.1}\n"
     ]
    }
   ],
   "source": [
    "print(\"최고 평균 정확도 : {0:.6f}\".format(xgb_rnd.best_score_))\n",
    "print(\"최고의 파라미터 : \", xgb_rnd.best_params_)\n",
    "model_G_xgb = xgb_rnd.best_estimator_\n",
    "y_pred_G_xgb = model_G_xgb.predict(X_test1)"
   ]
  },
  {
   "cell_type": "code",
   "execution_count": 132,
   "metadata": {},
   "outputs": [
    {
     "name": "stdout",
     "output_type": "stream",
     "text": [
      "RMSE: 94.39166255787589 \n",
      " MAE : 33.203\n"
     ]
    }
   ],
   "source": [
    "scores(y_test1, y_pred_G_xgb)"
   ]
  },
  {
   "cell_type": "markdown",
   "metadata": {},
   "source": [
    "#### LightGBM"
   ]
  },
  {
   "cell_type": "code",
   "execution_count": 134,
   "metadata": {},
   "outputs": [
    {
     "data": {
      "text/html": [
       "<style>#sk-container-id-5 {color: black;background-color: white;}#sk-container-id-5 pre{padding: 0;}#sk-container-id-5 div.sk-toggleable {background-color: white;}#sk-container-id-5 label.sk-toggleable__label {cursor: pointer;display: block;width: 100%;margin-bottom: 0;padding: 0.3em;box-sizing: border-box;text-align: center;}#sk-container-id-5 label.sk-toggleable__label-arrow:before {content: \"▸\";float: left;margin-right: 0.25em;color: #696969;}#sk-container-id-5 label.sk-toggleable__label-arrow:hover:before {color: black;}#sk-container-id-5 div.sk-estimator:hover label.sk-toggleable__label-arrow:before {color: black;}#sk-container-id-5 div.sk-toggleable__content {max-height: 0;max-width: 0;overflow: hidden;text-align: left;background-color: #f0f8ff;}#sk-container-id-5 div.sk-toggleable__content pre {margin: 0.2em;color: black;border-radius: 0.25em;background-color: #f0f8ff;}#sk-container-id-5 input.sk-toggleable__control:checked~div.sk-toggleable__content {max-height: 200px;max-width: 100%;overflow: auto;}#sk-container-id-5 input.sk-toggleable__control:checked~label.sk-toggleable__label-arrow:before {content: \"▾\";}#sk-container-id-5 div.sk-estimator input.sk-toggleable__control:checked~label.sk-toggleable__label {background-color: #d4ebff;}#sk-container-id-5 div.sk-label input.sk-toggleable__control:checked~label.sk-toggleable__label {background-color: #d4ebff;}#sk-container-id-5 input.sk-hidden--visually {border: 0;clip: rect(1px 1px 1px 1px);clip: rect(1px, 1px, 1px, 1px);height: 1px;margin: -1px;overflow: hidden;padding: 0;position: absolute;width: 1px;}#sk-container-id-5 div.sk-estimator {font-family: monospace;background-color: #f0f8ff;border: 1px dotted black;border-radius: 0.25em;box-sizing: border-box;margin-bottom: 0.5em;}#sk-container-id-5 div.sk-estimator:hover {background-color: #d4ebff;}#sk-container-id-5 div.sk-parallel-item::after {content: \"\";width: 100%;border-bottom: 1px solid gray;flex-grow: 1;}#sk-container-id-5 div.sk-label:hover label.sk-toggleable__label {background-color: #d4ebff;}#sk-container-id-5 div.sk-serial::before {content: \"\";position: absolute;border-left: 1px solid gray;box-sizing: border-box;top: 0;bottom: 0;left: 50%;z-index: 0;}#sk-container-id-5 div.sk-serial {display: flex;flex-direction: column;align-items: center;background-color: white;padding-right: 0.2em;padding-left: 0.2em;position: relative;}#sk-container-id-5 div.sk-item {position: relative;z-index: 1;}#sk-container-id-5 div.sk-parallel {display: flex;align-items: stretch;justify-content: center;background-color: white;position: relative;}#sk-container-id-5 div.sk-item::before, #sk-container-id-5 div.sk-parallel-item::before {content: \"\";position: absolute;border-left: 1px solid gray;box-sizing: border-box;top: 0;bottom: 0;left: 50%;z-index: -1;}#sk-container-id-5 div.sk-parallel-item {display: flex;flex-direction: column;z-index: 1;position: relative;background-color: white;}#sk-container-id-5 div.sk-parallel-item:first-child::after {align-self: flex-end;width: 50%;}#sk-container-id-5 div.sk-parallel-item:last-child::after {align-self: flex-start;width: 50%;}#sk-container-id-5 div.sk-parallel-item:only-child::after {width: 0;}#sk-container-id-5 div.sk-dashed-wrapped {border: 1px dashed gray;margin: 0 0.4em 0.5em 0.4em;box-sizing: border-box;padding-bottom: 0.4em;background-color: white;}#sk-container-id-5 div.sk-label label {font-family: monospace;font-weight: bold;display: inline-block;line-height: 1.2em;}#sk-container-id-5 div.sk-label-container {text-align: center;}#sk-container-id-5 div.sk-container {/* jupyter's `normalize.less` sets `[hidden] { display: none; }` but bootstrap.min.css set `[hidden] { display: none !important; }` so we also need the `!important` here to be able to override the default hidden behavior on the sphinx rendered scikit-learn.org. See: https://github.com/scikit-learn/scikit-learn/issues/21755 */display: inline-block !important;position: relative;}#sk-container-id-5 div.sk-text-repr-fallback {display: none;}</style><div id=\"sk-container-id-5\" class=\"sk-top-container\"><div class=\"sk-text-repr-fallback\"><pre>RandomizedSearchCV(estimator=LGBMRegressor(), n_jobs=-1,\n",
       "                   param_distributions={&#x27;learning_rate&#x27;: [0.01, 0.1, 0.3],\n",
       "                                        &#x27;max_depth&#x27;: [4, 8, 12],\n",
       "                                        &#x27;n_estimators&#x27;: [100, 200, 400]})</pre><b>In a Jupyter environment, please rerun this cell to show the HTML representation or trust the notebook. <br />On GitHub, the HTML representation is unable to render, please try loading this page with nbviewer.org.</b></div><div class=\"sk-container\" hidden><div class=\"sk-item sk-dashed-wrapped\"><div class=\"sk-label-container\"><div class=\"sk-label sk-toggleable\"><input class=\"sk-toggleable__control sk-hidden--visually\" id=\"sk-estimator-id-13\" type=\"checkbox\" ><label for=\"sk-estimator-id-13\" class=\"sk-toggleable__label sk-toggleable__label-arrow\">RandomizedSearchCV</label><div class=\"sk-toggleable__content\"><pre>RandomizedSearchCV(estimator=LGBMRegressor(), n_jobs=-1,\n",
       "                   param_distributions={&#x27;learning_rate&#x27;: [0.01, 0.1, 0.3],\n",
       "                                        &#x27;max_depth&#x27;: [4, 8, 12],\n",
       "                                        &#x27;n_estimators&#x27;: [100, 200, 400]})</pre></div></div></div><div class=\"sk-parallel\"><div class=\"sk-parallel-item\"><div class=\"sk-item\"><div class=\"sk-label-container\"><div class=\"sk-label sk-toggleable\"><input class=\"sk-toggleable__control sk-hidden--visually\" id=\"sk-estimator-id-14\" type=\"checkbox\" ><label for=\"sk-estimator-id-14\" class=\"sk-toggleable__label sk-toggleable__label-arrow\">estimator: LGBMRegressor</label><div class=\"sk-toggleable__content\"><pre>LGBMRegressor()</pre></div></div></div><div class=\"sk-serial\"><div class=\"sk-item\"><div class=\"sk-estimator sk-toggleable\"><input class=\"sk-toggleable__control sk-hidden--visually\" id=\"sk-estimator-id-15\" type=\"checkbox\" ><label for=\"sk-estimator-id-15\" class=\"sk-toggleable__label sk-toggleable__label-arrow\">LGBMRegressor</label><div class=\"sk-toggleable__content\"><pre>LGBMRegressor()</pre></div></div></div></div></div></div></div></div></div></div>"
      ],
      "text/plain": [
       "RandomizedSearchCV(estimator=LGBMRegressor(), n_jobs=-1,\n",
       "                   param_distributions={'learning_rate': [0.01, 0.1, 0.3],\n",
       "                                        'max_depth': [4, 8, 12],\n",
       "                                        'n_estimators': [100, 200, 400]})"
      ]
     },
     "execution_count": 134,
     "metadata": {},
     "output_type": "execute_result"
    }
   ],
   "source": [
    "lgbm_param = {\n",
    "    'n_estimators' : [100, 200, 400],\n",
    "    'learning_rate' : [0.01, 0.1, 0.3],\n",
    "    'max_depth' : [4, 8, 12],\n",
    "}\n",
    "\n",
    "lgbm_rnd = RandomizedSearchCV(estimator=LGBMRegressor(), param_distributions= lgbm_param,   n_jobs= -1, verbose = 0)\n",
    "lgbm_rnd.fit(X_train1, np.ravel(y_train1))\n",
    "\n"
   ]
  },
  {
   "cell_type": "code",
   "execution_count": 135,
   "metadata": {},
   "outputs": [
    {
     "name": "stdout",
     "output_type": "stream",
     "text": [
      "최고 평균 정확도 : 0.727018\n",
      "최고의 파라미터 :  {'n_estimators': 100, 'max_depth': 4, 'learning_rate': 0.1}\n"
     ]
    }
   ],
   "source": [
    "print(\"최고 평균 정확도 : {0:.6f}\".format(lgbm_rnd.best_score_))\n",
    "print(\"최고의 파라미터 : \", lgbm_rnd.best_params_)\n",
    "model_G_lgbm = lgbm_rnd.best_estimator_\n",
    "y_pred_G_lgbm = model_G_lgbm.predict(X_test1)"
   ]
  },
  {
   "cell_type": "code",
   "execution_count": 136,
   "metadata": {},
   "outputs": [
    {
     "name": "stdout",
     "output_type": "stream",
     "text": [
      "RMSE: 92.5423520818397 \n",
      " MAE : 31.460\n"
     ]
    }
   ],
   "source": [
    "scores(y_test1, y_pred_G_lgbm)"
   ]
  },
  {
   "cell_type": "markdown",
   "metadata": {},
   "source": [
    "#### Neural Network"
   ]
  },
  {
   "cell_type": "code",
   "execution_count": 137,
   "metadata": {},
   "outputs": [],
   "source": [
    "n_steps_in, n_steps_out = 21, 1\n",
    "\n",
    "model = Sequential()\n",
    "model.add(Dense(100, activation='relu', input_dim=n_steps_in))\n",
    "model.add(Dense(n_steps_out))\n",
    "model.compile(optimizer='adam', loss='mse')\n",
    "\n",
    "# fit model\n",
    "model.fit([X_train1], y_train1, epochs=2000, verbose=0)\n",
    "\n",
    "# demonstrate prediction\n",
    "y_pred_NN = model.predict([X_test1], verbose=0)"
   ]
  },
  {
   "cell_type": "code",
   "execution_count": 138,
   "metadata": {},
   "outputs": [
    {
     "name": "stdout",
     "output_type": "stream",
     "text": [
      "RMSE: 96.07154446080871 \n",
      " MAE : 30.933\n"
     ]
    }
   ],
   "source": [
    "scores(np.array(y_test1), y_pred_NN)"
   ]
  },
  {
   "cell_type": "markdown",
   "metadata": {},
   "source": [
    "평가 지표중에서 RMSE에는 Random Forest가 가장 낮은 92.05를 나타냈다. MAE에서는 SVM이 27.561로 가장 낮은 값을 보였다."
   ]
  },
  {
   "cell_type": "markdown",
   "metadata": {},
   "source": [
    "### 2) Continual Learning"
   ]
  },
  {
   "cell_type": "code",
   "execution_count": 139,
   "metadata": {},
   "outputs": [
    {
     "name": "stdout",
     "output_type": "stream",
     "text": [
      "Dimension of X_train : (4821, 21)\n",
      "Dimension of y_train : (4821,)\n",
      "Dimension of X_test : (1145, 21)\n",
      "Dimension of y_test : (1145,)\n"
     ]
    }
   ],
   "source": [
    "scaler = MinMaxScaler()\n",
    "\n",
    "X_train_C1 = scaler.fit_transform(pd.DataFrame(dat0001).drop('PRICE', axis=1))\n",
    "y_train_C1 = np.array(dat0001['PRICE'].astype('int'))\n",
    "\n",
    "X_train_C2 = scaler.fit_transform(pd.DataFrame(dat0102).drop('PRICE', axis=1))\n",
    "y_train_C2 = np.array(dat0102['PRICE'].astype('int'))\n",
    "\n",
    "X_train_C3 = scaler.fit_transform(pd.DataFrame(dat0206).drop('PRICE', axis=1))\n",
    "y_train_C3 = np.array(dat0206['PRICE'].astype('int'))\n",
    "\n",
    "X_test_C3 = scaler.fit_transform(pd.DataFrame(dat0608).drop('PRICE', axis=1))\n",
    "y_test_C3 = np.array(dat0608['PRICE'].astype('int'))\n",
    "\n",
    "print(\"Dimension of X_train :\", X_train1.shape)\n",
    "print(\"Dimension of y_train :\", y_train1.shape)\n",
    "print(\"Dimension of X_test :\", X_test1.shape)\n",
    "print(\"Dimension of y_test :\", y_test1.shape)"
   ]
  },
  {
   "cell_type": "markdown",
   "metadata": {},
   "source": [
    "#### Random Forest"
   ]
  },
  {
   "cell_type": "code",
   "execution_count": 140,
   "metadata": {},
   "outputs": [
    {
     "name": "stderr",
     "output_type": "stream",
     "text": [
      "C:\\Users\\32197453\\AppData\\Local\\Programs\\Python\\Python39\\lib\\site-packages\\sklearn\\model_selection\\_search.py:306: UserWarning: The total space of parameters 9 is smaller than n_iter=10. Running 9 iterations. For exhaustive searches, use GridSearchCV.\n",
      "  warnings.warn(\n",
      "C:\\Users\\32197453\\AppData\\Local\\Programs\\Python\\Python39\\lib\\site-packages\\sklearn\\model_selection\\_search.py:306: UserWarning: The total space of parameters 9 is smaller than n_iter=10. Running 9 iterations. For exhaustive searches, use GridSearchCV.\n",
      "  warnings.warn(\n",
      "C:\\Users\\32197453\\AppData\\Local\\Programs\\Python\\Python39\\lib\\site-packages\\sklearn\\model_selection\\_search.py:306: UserWarning: The total space of parameters 9 is smaller than n_iter=10. Running 9 iterations. For exhaustive searches, use GridSearchCV.\n",
      "  warnings.warn(\n",
      "C:\\Users\\32197453\\AppData\\Local\\Programs\\Python\\Python39\\lib\\site-packages\\sklearn\\model_selection\\_search.py:306: UserWarning: The total space of parameters 9 is smaller than n_iter=10. Running 9 iterations. For exhaustive searches, use GridSearchCV.\n",
      "  warnings.warn(\n"
     ]
    },
    {
     "name": "stdout",
     "output_type": "stream",
     "text": [
      "warning 출력 생략\n"
     ]
    }
   ],
   "source": [
    "rf_param = {'n_estimators' : [100, 200, 400],\n",
    "            'max_depth' : [4, 8, 16],\n",
    "            'warm_start' : [True]}\n",
    "rf_rnd = RandomizedSearchCV(estimator = RandomForestRegressor(), param_distributions= rf_param,   n_jobs=-1, verbose = 0)\n",
    "\n",
    "rf_rnd.fit(X_train_C1, y_train_C1)\n",
    "rf_model_C1 = rf_rnd.best_estimator_\n",
    "\n",
    "rf_rnd.fit(X_train_C2, y_train_C2)\n",
    "rf_model_C2 = rf_rnd.best_estimator_\n",
    "\n",
    "rf_rnd.fit(X_train_C3, y_train_C3)\n",
    "rf_model_C3 = rf_rnd.best_estimator_\n",
    "\n",
    "rf_rnd.fit(X_train_C3, y_train_C3)\n",
    "model_C_rf = rf_rnd.best_estimator_\n",
    "\n",
    "print(\"warning 출력 생략\")\n"
   ]
  },
  {
   "cell_type": "code",
   "execution_count": 141,
   "metadata": {},
   "outputs": [
    {
     "name": "stdout",
     "output_type": "stream",
     "text": [
      "RMSE: 109.08366632715035 \n",
      " MAE : 54.265\n"
     ]
    }
   ],
   "source": [
    "y_pred_C_rf = model_C_rf.predict(X_test1)\n",
    "scores(y_test1, y_pred_C_rf)"
   ]
  },
  {
   "cell_type": "markdown",
   "metadata": {},
   "source": [
    "#### XGBoost"
   ]
  },
  {
   "cell_type": "code",
   "execution_count": 143,
   "metadata": {},
   "outputs": [],
   "source": [
    "xgb_param = {\n",
    "    'n_estimators' : [100, 200, 400],\n",
    "    'learning_rate' : [0.01, 0.1, 0.3],\n",
    "    'max_depth' : [4, 8, 12],\n",
    "}\n",
    "xgb_rnd = RandomizedSearchCV(estimator = XGBRegressor(), param_distributions= xgb_param, n_jobs=-1, verbose = 0)\n",
    "\n",
    "xgb_rnd.fit(X_train_C1, y_train_C1)\n",
    "xgb_model_C1 = xgb_rnd.best_estimator_\n",
    "\n",
    "xgb_rnd.fit(X_train_C2, y_train_C2, xgb_model=xgb_model_C1)\n",
    "xgb_model_C2 = xgb_rnd.best_estimator_\n",
    "\n",
    "xgb_rnd.fit(X_train_C3, y_train_C3, xgb_model= xgb_model_C2)\n",
    "model_C_xgb = xgb_rnd.best_estimator_"
   ]
  },
  {
   "cell_type": "code",
   "execution_count": 144,
   "metadata": {},
   "outputs": [
    {
     "name": "stdout",
     "output_type": "stream",
     "text": [
      "RMSE: 102.7141744800217 \n",
      " MAE : 43.144\n"
     ]
    }
   ],
   "source": [
    "y_pred_C_xgb = model_C_xgb.predict(X_test1)\n",
    "scores(y_test1, y_pred_C_xgb)"
   ]
  },
  {
   "cell_type": "markdown",
   "metadata": {},
   "source": [
    "#### LightGBM"
   ]
  },
  {
   "cell_type": "code",
   "execution_count": 146,
   "metadata": {},
   "outputs": [],
   "source": [
    "lgbm_param = {\n",
    "    'n_estimators' : [100, 200, 400],\n",
    "    'learning_rate' : [0.01, 0.1, 0.3],\n",
    "    'max_depth' : [4, 8, 12],\n",
    "}\n",
    "\n",
    "lgbm_rnd = RandomizedSearchCV(estimator=LGBMRegressor(), param_distributions= lgbm_param, n_jobs= -1, verbose = 0)\n",
    "lgbm_rnd.fit(X_train1, np.ravel(y_train1))\n",
    "\n",
    "lgbm_rnd.fit(X_train_C1, y_train_C1)\n",
    "lgbm_model_C1 = lgbm_rnd.best_estimator_\n",
    "\n",
    "lgbm_rnd.fit(X_train_C2, y_train_C2, init_model=lgbm_model_C1)\n",
    "lgbm_model_C2 = lgbm_rnd.best_estimator_\n",
    "\n",
    "lgbm_rnd.fit(X_train_C3, y_train_C3, init_model=lgbm_model_C2)\n",
    "model_C_lgbm = lgbm_rnd.best_estimator_"
   ]
  },
  {
   "cell_type": "code",
   "execution_count": 147,
   "metadata": {},
   "outputs": [
    {
     "name": "stdout",
     "output_type": "stream",
     "text": [
      "RMSE: 101.03628537291952 \n",
      " MAE : 48.051\n"
     ]
    }
   ],
   "source": [
    "y_pred_C_lgbm = model_C_lgbm.predict(X_test1)\n",
    "scores(y_test1, y_pred_C_lgbm)"
   ]
  },
  {
   "cell_type": "markdown",
   "metadata": {},
   "source": [
    "Continual Learning을 시행했을 때, RMSE에서는 LightGBM이 101.036으로 가장 낮은 값을, MAE에서는 XGBoost가 43.144로 가장 낮은 값을 보였다. 전체를 한번에 학습했을때보다 Continual Learning을 했을때 오차값이 약간 더 크게 나타났다."
   ]
  },
  {
   "cell_type": "markdown",
   "metadata": {},
   "source": [
    "## 2. Problem 2 - Carteret"
   ]
  },
  {
   "cell_type": "code",
   "execution_count": 148,
   "metadata": {},
   "outputs": [
    {
     "name": "stdout",
     "output_type": "stream",
     "text": [
      "--------데이터셋 차원 확인\n",
      "(3106, 30)\n",
      "--------결측값 있는 변수 확인\n",
      "Series([], dtype: int64)\n"
     ]
    }
   ],
   "source": [
    "path = \"C:/Users/32197453/Desktop/교과/4학년 2학기/기계학습이론/과제/기계학습4/Carteret/\"\n",
    "df2 = pd.read_excel(path + 'house_short.xlsx')\n",
    "print(\"--------데이터셋 차원 확인\")\n",
    "print(df2.shape)\n",
    "print(\"--------결측값 있는 변수 확인\")\n",
    "missval = df2.isnull().sum()[df2.isnull().sum()!=0]\n",
    "print(missval)\n",
    "missval_name = missval.index #결측값 있는 변수 이름 벡터로 추출"
   ]
  },
  {
   "cell_type": "code",
   "execution_count": 149,
   "metadata": {},
   "outputs": [
    {
     "name": "stdout",
     "output_type": "stream",
     "text": [
      "Dimension of X_train : (2073, 28) \n",
      " Dimension of y_train : (2073,) \n",
      " Dimension of X_test : (1033, 28) \n",
      " Dimension of y_test : (1033,)\n"
     ]
    }
   ],
   "source": [
    "X2_unsc = df2.drop([\"SALE_PRICE\", \"DDATE\"], axis = 1)\n",
    "X2 = scaler.fit_transform(X2)\n",
    "Y2 = np.array(df2['SALE_PRICE'])\n",
    "\n",
    "X_train2, X_test2, y_train2, y_test2 = train_test_split(X2, Y2, test_size=1033, random_state=1234)\n",
    "\n",
    "print(\"Dimension of X_train :\", X_train2.shape, \"\\n Dimension of y_train :\", y_train2.shape, \"\\n Dimension of X_test :\", X_test2.shape, \"\\n Dimension of y_test :\", y_test2.shape)"
   ]
  },
  {
   "cell_type": "markdown",
   "metadata": {},
   "source": [
    "#### SVM"
   ]
  },
  {
   "cell_type": "code",
   "execution_count": 150,
   "metadata": {},
   "outputs": [
    {
     "name": "stdout",
     "output_type": "stream",
     "text": [
      "최고 평균 정확도 : -0.050128\n",
      "최고의 파라미터 :  {'gamma': 1, 'C': 100}\n",
      "RMSE: 112881.2177063189 \n",
      " MAE : 67878.765\n",
      "None\n"
     ]
    }
   ],
   "source": [
    "svm_param = [{\"C\" : [1,10,50,100], \n",
    "                \"gamma\" : [0.1, 1, 5, 10] }]\n",
    "svm_rnd = RandomizedSearchCV(estimator = SVR(), param_distributions= svm_param, n_jobs=-1, verbose=0)\n",
    "svm_rnd.fit(X_train2, y_train2)\n",
    "\n",
    "print(\"최고 평균 정확도 : {0:.6f}\".format(svm_rnd.best_score_))\n",
    "print(\"최고의 파라미터 : \", svm_rnd.best_params_)\n",
    "model_svm2 = svm_rnd.best_estimator_\n",
    "y_pred_svm2 = model_svm2.predict(X_test2)\n",
    "\n",
    "print(scores(y_test2, y_pred_svm2))"
   ]
  },
  {
   "cell_type": "markdown",
   "metadata": {},
   "source": [
    "#### Random Forest"
   ]
  },
  {
   "cell_type": "code",
   "execution_count": 152,
   "metadata": {},
   "outputs": [
    {
     "name": "stderr",
     "output_type": "stream",
     "text": [
      "C:\\Users\\32197453\\AppData\\Local\\Programs\\Python\\Python39\\lib\\site-packages\\sklearn\\model_selection\\_search.py:306: UserWarning: The total space of parameters 9 is smaller than n_iter=10. Running 9 iterations. For exhaustive searches, use GridSearchCV.\n",
      "  warnings.warn(\n"
     ]
    },
    {
     "name": "stdout",
     "output_type": "stream",
     "text": [
      "최고 평균 정확도 : 0.606077\n",
      "최고의 파라미터 :  {'n_estimators': 400, 'max_depth': 16}\n",
      "RMSE: 66342.44098376475 \n",
      " MAE : 37815.618\n",
      "None\n"
     ]
    }
   ],
   "source": [
    "rf_param = {'n_estimators' : [100, 200, 400],\n",
    "            'max_depth' : [4, 8, 16]}\n",
    "rf_rnd = RandomizedSearchCV(estimator = RandomForestRegressor(), param_distributions= rf_param, n_jobs=-1, verbose=0)\n",
    "rf_rnd.fit(X_train2, y_train2)\n",
    "\n",
    "print(\"최고 평균 정확도 : {0:.6f}\".format(rf_rnd.best_score_))\n",
    "print(\"최고의 파라미터 : \", rf_rnd.best_params_)\n",
    "model_rf2 = rf_rnd.best_estimator_\n",
    "y_pred_rf2 = model_rf2.predict(X_test2)\n",
    "\n",
    "print(scores(y_test2, y_pred_rf2))"
   ]
  },
  {
   "cell_type": "markdown",
   "metadata": {},
   "source": [
    "#### XGBoost"
   ]
  },
  {
   "cell_type": "code",
   "execution_count": 153,
   "metadata": {},
   "outputs": [
    {
     "name": "stdout",
     "output_type": "stream",
     "text": [
      "최고 평균 정확도 : 0.639018\n",
      "최고의 파라미터 :  {'n_estimators': 200, 'max_depth': 4, 'learning_rate': 0.1}\n",
      "RMSE: 62666.94449821618 \n",
      " MAE : 37497.385\n",
      "None\n"
     ]
    }
   ],
   "source": [
    "xgb_param = {\n",
    "    'n_estimators' : [100, 200, 400],\n",
    "    'learning_rate' : [0.01, 0.1, 0.3],\n",
    "    'max_depth' : [4, 8, 12],\n",
    "}\n",
    "xgb_rnd = RandomizedSearchCV(estimator = XGBRegressor(), param_distributions= xgb_param, n_jobs=-1, verbose=0)\n",
    "xgb_rnd.fit(X_train2, y_train2)\n",
    "\n",
    "print(\"최고 평균 정확도 : {0:.6f}\".format(xgb_rnd.best_score_))\n",
    "print(\"최고의 파라미터 : \", xgb_rnd.best_params_)\n",
    "model_xgb2 = xgb_rnd.best_estimator_\n",
    "y_pred_xgb2 = model_xgb2.predict(X_test2)\n",
    "\n",
    "print(scores(y_test2, y_pred_xgb2))"
   ]
  },
  {
   "cell_type": "markdown",
   "metadata": {},
   "source": [
    "#### LigthGBM"
   ]
  },
  {
   "cell_type": "code",
   "execution_count": 157,
   "metadata": {},
   "outputs": [
    {
     "name": "stdout",
     "output_type": "stream",
     "text": [
      "최고 평균 정확도 : 0.607742\n",
      "최고의 파라미터 :  {'n_estimators': 400, 'max_depth': 4, 'learning_rate': 0.1}\n",
      "RMSE: 61782.95021519949 \n",
      " MAE : 37781.716\n",
      "None\n"
     ]
    }
   ],
   "source": [
    "lgbm_param = {\n",
    "    'n_estimators' : [100, 200, 400],\n",
    "    'learning_rate' : [0.01, 0.1, 0.3],\n",
    "    'max_depth' : [4, 8, 12],\n",
    "}\n",
    "\n",
    "lgbm_rnd = RandomizedSearchCV(estimator=LGBMRegressor(), param_distributions= lgbm_param, n_jobs= -1, verbose = 0)\n",
    "lgbm_rnd.fit(X_train2, y_train2)\n",
    "\n",
    "print(\"최고 평균 정확도 : {0:.6f}\".format(lgbm_rnd.best_score_))\n",
    "print(\"최고의 파라미터 : \", lgbm_rnd.best_params_)\n",
    "model_lgbm2 = lgbm_rnd.best_estimator_\n",
    "y_pred_lgbm2 = model_lgbm2.predict(X_test2)\n",
    "\n",
    "print(scores(y_test2, y_pred_lgbm2))"
   ]
  },
  {
   "cell_type": "markdown",
   "metadata": {},
   "source": [
    "#### Neural Network"
   ]
  },
  {
   "cell_type": "code",
   "execution_count": 158,
   "metadata": {},
   "outputs": [
    {
     "name": "stdout",
     "output_type": "stream",
     "text": [
      "RMSE: 86826.14556643121 \n",
      " MAE : 52671.171\n"
     ]
    }
   ],
   "source": [
    "n_steps_in, n_steps_out = 28, 1\n",
    "\n",
    "model = Sequential()\n",
    "model.add(Dense(100, activation='relu', input_dim=n_steps_in))\n",
    "model.add(Dense(n_steps_out))\n",
    "model.compile(optimizer='adam', loss='mse')\n",
    "\n",
    "# fit model\n",
    "model.fit([X_train2], y_train2, epochs=2000, verbose=0)\n",
    "\n",
    "# demonstrate prediction\n",
    "y_pred_NN2 = model.predict([X_test2], verbose=0)\n",
    "\n",
    "scores(y_test2, y_pred_NN2)"
   ]
  },
  {
   "cell_type": "markdown",
   "metadata": {},
   "source": [
    "Carteret의 집값 데이터에서는 LightGBM이 61782.950로 가장 낮은 RMSE를 보였고, XGBoost가 37497.385로 가장 낮은 MAE를 보였다."
   ]
  }
 ],
 "metadata": {
  "kernelspec": {
   "display_name": "Python ('donktark')",
   "language": "python",
   "name": "python3"
  },
  "language_info": {
   "codemirror_mode": {
    "name": "ipython",
    "version": 3
   },
   "file_extension": ".py",
   "mimetype": "text/x-python",
   "name": "python",
   "nbconvert_exporter": "python",
   "pygments_lexer": "ipython3",
   "version": ""
  },
  "orig_nbformat": 4,
  "vscode": {
   "interpreter": {
    "hash": "25a19fbe0a9132dfb9279d48d161753c6352f8f9478c2e74383d340069b907c3"
   }
  }
 },
 "nbformat": 4,
 "nbformat_minor": 2
}
