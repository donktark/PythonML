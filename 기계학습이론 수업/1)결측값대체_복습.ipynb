{
 "cells": [
  {
   "cell_type": "markdown",
   "metadata": {},
   "source": [
    "# 기계학습개론 과제1\n",
    "응용통계학과 \n",
    "3219****\n",
    "이동현"
   ]
  },
  {
   "cell_type": "code",
   "execution_count": 21,
   "metadata": {},
   "outputs": [],
   "source": [
    "import pandas as pd\n",
    "import numpy as np\n",
    "import tensorflow as tf\n",
    "import seaborn as sns\n",
    "import matplotlib.pyplot as plt\n",
    "from sklearn.linear_model import SGDClassifier\n",
    "from sklearn.model_selection import train_test_split\n",
    "from sklearn.metrics import f1_score, confusion_matrix\n",
    "from sklearn.preprocessing import StandardScaler\n"
   ]
  },
  {
   "cell_type": "code",
   "execution_count": 4,
   "metadata": {},
   "outputs": [
    {
     "data": {
      "text/html": [
       "<div>\n",
       "<style scoped>\n",
       "    .dataframe tbody tr th:only-of-type {\n",
       "        vertical-align: middle;\n",
       "    }\n",
       "\n",
       "    .dataframe tbody tr th {\n",
       "        vertical-align: top;\n",
       "    }\n",
       "\n",
       "    .dataframe thead th {\n",
       "        text-align: right;\n",
       "    }\n",
       "</style>\n",
       "<table border=\"1\" class=\"dataframe\">\n",
       "  <thead>\n",
       "    <tr style=\"text-align: right;\">\n",
       "      <th></th>\n",
       "      <th>Label</th>\n",
       "      <th>MolecularWeight</th>\n",
       "      <th>XLogP</th>\n",
       "      <th>HydrogenBondDonorCount</th>\n",
       "      <th>HydrogenBondAcceptorCount</th>\n",
       "      <th>PolarSurfaceArea</th>\n",
       "      <th>FormalCharge</th>\n",
       "      <th>NumRings</th>\n",
       "      <th>RotatableBondCount</th>\n",
       "      <th>Refractivity</th>\n",
       "      <th>...</th>\n",
       "      <th>Prostate</th>\n",
       "      <th>Spleen</th>\n",
       "      <th>Liver</th>\n",
       "      <th>Fallopian Tube</th>\n",
       "      <th>Ovary</th>\n",
       "      <th>Breast</th>\n",
       "      <th>Bladder</th>\n",
       "      <th>Cervix Uteri</th>\n",
       "      <th>Small Intestine</th>\n",
       "      <th>Salivary Gland</th>\n",
       "    </tr>\n",
       "    <tr>\n",
       "      <th>Drug</th>\n",
       "      <th></th>\n",
       "      <th></th>\n",
       "      <th></th>\n",
       "      <th></th>\n",
       "      <th></th>\n",
       "      <th></th>\n",
       "      <th></th>\n",
       "      <th></th>\n",
       "      <th></th>\n",
       "      <th></th>\n",
       "      <th></th>\n",
       "      <th></th>\n",
       "      <th></th>\n",
       "      <th></th>\n",
       "      <th></th>\n",
       "      <th></th>\n",
       "      <th></th>\n",
       "      <th></th>\n",
       "      <th></th>\n",
       "      <th></th>\n",
       "      <th></th>\n",
       "    </tr>\n",
       "  </thead>\n",
       "  <tbody>\n",
       "    <tr>\n",
       "      <th>Abiraterone</th>\n",
       "      <td>passed</td>\n",
       "      <td>349.240565</td>\n",
       "      <td>3.965293</td>\n",
       "      <td>1</td>\n",
       "      <td>2</td>\n",
       "      <td>33.12</td>\n",
       "      <td>0</td>\n",
       "      <td>5.0</td>\n",
       "      <td>1</td>\n",
       "      <td>107.3024</td>\n",
       "      <td>...</td>\n",
       "      <td>0.804379</td>\n",
       "      <td>0.734742</td>\n",
       "      <td>1.722980</td>\n",
       "      <td>0.994414</td>\n",
       "      <td>0.943392</td>\n",
       "      <td>0.736495</td>\n",
       "      <td>0.780652</td>\n",
       "      <td>0.809155</td>\n",
       "      <td>0.377117</td>\n",
       "      <td>0.300038</td>\n",
       "    </tr>\n",
       "    <tr>\n",
       "      <th>Acebutolol</th>\n",
       "      <td>passed</td>\n",
       "      <td>336.204907</td>\n",
       "      <td>1.534682</td>\n",
       "      <td>3</td>\n",
       "      <td>5</td>\n",
       "      <td>87.66</td>\n",
       "      <td>0</td>\n",
       "      <td>1.0</td>\n",
       "      <td>10</td>\n",
       "      <td>94.8692</td>\n",
       "      <td>...</td>\n",
       "      <td>4.420117</td>\n",
       "      <td>6.518067</td>\n",
       "      <td>2.618737</td>\n",
       "      <td>2.319843</td>\n",
       "      <td>0.295605</td>\n",
       "      <td>10.000000</td>\n",
       "      <td>2.251212</td>\n",
       "      <td>3.500741</td>\n",
       "      <td>2.735411</td>\n",
       "      <td>5.831739</td>\n",
       "    </tr>\n",
       "    <tr>\n",
       "      <th>Acenocoumarol</th>\n",
       "      <td>passed</td>\n",
       "      <td>353.089937</td>\n",
       "      <td>2.684692</td>\n",
       "      <td>1</td>\n",
       "      <td>5</td>\n",
       "      <td>109.42</td>\n",
       "      <td>0</td>\n",
       "      <td>3.0</td>\n",
       "      <td>5</td>\n",
       "      <td>94.1848</td>\n",
       "      <td>...</td>\n",
       "      <td>0.282973</td>\n",
       "      <td>0.368951</td>\n",
       "      <td>0.988317</td>\n",
       "      <td>0.426425</td>\n",
       "      <td>0.430046</td>\n",
       "      <td>0.356781</td>\n",
       "      <td>0.478249</td>\n",
       "      <td>0.500222</td>\n",
       "      <td>0.492640</td>\n",
       "      <td>0.357384</td>\n",
       "    </tr>\n",
       "    <tr>\n",
       "      <th>Acepromazine</th>\n",
       "      <td>passed</td>\n",
       "      <td>326.145284</td>\n",
       "      <td>3.488603</td>\n",
       "      <td>0</td>\n",
       "      <td>3</td>\n",
       "      <td>23.55</td>\n",
       "      <td>0</td>\n",
       "      <td>3.0</td>\n",
       "      <td>5</td>\n",
       "      <td>99.3543</td>\n",
       "      <td>...</td>\n",
       "      <td>1.126801</td>\n",
       "      <td>7.962256</td>\n",
       "      <td>7.432229</td>\n",
       "      <td>3.192496</td>\n",
       "      <td>1.602348</td>\n",
       "      <td>1.393756</td>\n",
       "      <td>0.529358</td>\n",
       "      <td>0.387122</td>\n",
       "      <td>0.974304</td>\n",
       "      <td>6.041281</td>\n",
       "    </tr>\n",
       "    <tr>\n",
       "      <th>Aceprometazine</th>\n",
       "      <td>passed</td>\n",
       "      <td>326.145284</td>\n",
       "      <td>3.845218</td>\n",
       "      <td>0</td>\n",
       "      <td>3</td>\n",
       "      <td>23.55</td>\n",
       "      <td>0</td>\n",
       "      <td>3.0</td>\n",
       "      <td>4</td>\n",
       "      <td>98.9077</td>\n",
       "      <td>...</td>\n",
       "      <td>1.168346</td>\n",
       "      <td>0.453772</td>\n",
       "      <td>0.050176</td>\n",
       "      <td>2.241176</td>\n",
       "      <td>1.707206</td>\n",
       "      <td>2.094832</td>\n",
       "      <td>2.018864</td>\n",
       "      <td>2.547429</td>\n",
       "      <td>1.588867</td>\n",
       "      <td>0.826448</td>\n",
       "    </tr>\n",
       "    <tr>\n",
       "      <th>...</th>\n",
       "      <td>...</td>\n",
       "      <td>...</td>\n",
       "      <td>...</td>\n",
       "      <td>...</td>\n",
       "      <td>...</td>\n",
       "      <td>...</td>\n",
       "      <td>...</td>\n",
       "      <td>...</td>\n",
       "      <td>...</td>\n",
       "      <td>...</td>\n",
       "      <td>...</td>\n",
       "      <td>...</td>\n",
       "      <td>...</td>\n",
       "      <td>...</td>\n",
       "      <td>...</td>\n",
       "      <td>...</td>\n",
       "      <td>...</td>\n",
       "      <td>...</td>\n",
       "      <td>...</td>\n",
       "      <td>...</td>\n",
       "      <td>...</td>\n",
       "    </tr>\n",
       "    <tr>\n",
       "      <th>Zidovudine</th>\n",
       "      <td>passed</td>\n",
       "      <td>267.096754</td>\n",
       "      <td>-0.298709</td>\n",
       "      <td>2</td>\n",
       "      <td>6</td>\n",
       "      <td>108.30</td>\n",
       "      <td>0</td>\n",
       "      <td>2.0</td>\n",
       "      <td>3</td>\n",
       "      <td>61.7045</td>\n",
       "      <td>...</td>\n",
       "      <td>0.007795</td>\n",
       "      <td>0.212996</td>\n",
       "      <td>0.000000</td>\n",
       "      <td>0.012702</td>\n",
       "      <td>0.000000</td>\n",
       "      <td>0.002419</td>\n",
       "      <td>0.000000</td>\n",
       "      <td>0.005181</td>\n",
       "      <td>0.521985</td>\n",
       "      <td>0.053856</td>\n",
       "    </tr>\n",
       "    <tr>\n",
       "      <th>Ziprasidone</th>\n",
       "      <td>passed</td>\n",
       "      <td>412.112460</td>\n",
       "      <td>4.304046</td>\n",
       "      <td>1</td>\n",
       "      <td>4</td>\n",
       "      <td>48.47</td>\n",
       "      <td>0</td>\n",
       "      <td>5.0</td>\n",
       "      <td>4</td>\n",
       "      <td>116.7248</td>\n",
       "      <td>...</td>\n",
       "      <td>10.000000</td>\n",
       "      <td>10.000000</td>\n",
       "      <td>7.432229</td>\n",
       "      <td>10.000000</td>\n",
       "      <td>10.000000</td>\n",
       "      <td>10.000000</td>\n",
       "      <td>5.551624</td>\n",
       "      <td>10.000000</td>\n",
       "      <td>4.168484</td>\n",
       "      <td>6.041281</td>\n",
       "    </tr>\n",
       "    <tr>\n",
       "      <th>Zoledronate</th>\n",
       "      <td>passed</td>\n",
       "      <td>271.996324</td>\n",
       "      <td>-3.851109</td>\n",
       "      <td>5</td>\n",
       "      <td>8</td>\n",
       "      <td>153.11</td>\n",
       "      <td>0</td>\n",
       "      <td>1.0</td>\n",
       "      <td>4</td>\n",
       "      <td>52.1577</td>\n",
       "      <td>...</td>\n",
       "      <td>10.000000</td>\n",
       "      <td>10.000000</td>\n",
       "      <td>10.000000</td>\n",
       "      <td>10.000000</td>\n",
       "      <td>10.000000</td>\n",
       "      <td>10.000000</td>\n",
       "      <td>10.000000</td>\n",
       "      <td>10.000000</td>\n",
       "      <td>10.000000</td>\n",
       "      <td>10.000000</td>\n",
       "    </tr>\n",
       "    <tr>\n",
       "      <th>Zolpidem</th>\n",
       "      <td>passed</td>\n",
       "      <td>307.168462</td>\n",
       "      <td>3.017627</td>\n",
       "      <td>0</td>\n",
       "      <td>2</td>\n",
       "      <td>37.61</td>\n",
       "      <td>0</td>\n",
       "      <td>3.0</td>\n",
       "      <td>3</td>\n",
       "      <td>93.5837</td>\n",
       "      <td>...</td>\n",
       "      <td>0.022757</td>\n",
       "      <td>0.084591</td>\n",
       "      <td>0.002944</td>\n",
       "      <td>0.011369</td>\n",
       "      <td>0.036844</td>\n",
       "      <td>0.183469</td>\n",
       "      <td>0.095469</td>\n",
       "      <td>0.133877</td>\n",
       "      <td>0.266289</td>\n",
       "      <td>0.102146</td>\n",
       "    </tr>\n",
       "    <tr>\n",
       "      <th>Zopiclone</th>\n",
       "      <td>passed</td>\n",
       "      <td>388.105066</td>\n",
       "      <td>0.806543</td>\n",
       "      <td>0</td>\n",
       "      <td>6</td>\n",
       "      <td>91.76</td>\n",
       "      <td>0</td>\n",
       "      <td>4.0</td>\n",
       "      <td>3</td>\n",
       "      <td>95.8855</td>\n",
       "      <td>...</td>\n",
       "      <td>10.000000</td>\n",
       "      <td>10.000000</td>\n",
       "      <td>10.000000</td>\n",
       "      <td>10.000000</td>\n",
       "      <td>10.000000</td>\n",
       "      <td>10.000000</td>\n",
       "      <td>10.000000</td>\n",
       "      <td>10.000000</td>\n",
       "      <td>10.000000</td>\n",
       "      <td>10.000000</td>\n",
       "    </tr>\n",
       "  </tbody>\n",
       "</table>\n",
       "<p>828 rows × 48 columns</p>\n",
       "</div>"
      ],
      "text/plain": [
       "                 Label  MolecularWeight     XLogP  HydrogenBondDonorCount  \\\n",
       "Drug                                                                        \n",
       "Abiraterone     passed       349.240565  3.965293                       1   \n",
       "Acebutolol      passed       336.204907  1.534682                       3   \n",
       "Acenocoumarol   passed       353.089937  2.684692                       1   \n",
       "Acepromazine    passed       326.145284  3.488603                       0   \n",
       "Aceprometazine  passed       326.145284  3.845218                       0   \n",
       "...                ...              ...       ...                     ...   \n",
       "Zidovudine      passed       267.096754 -0.298709                       2   \n",
       "Ziprasidone     passed       412.112460  4.304046                       1   \n",
       "Zoledronate     passed       271.996324 -3.851109                       5   \n",
       "Zolpidem        passed       307.168462  3.017627                       0   \n",
       "Zopiclone       passed       388.105066  0.806543                       0   \n",
       "\n",
       "                HydrogenBondAcceptorCount  PolarSurfaceArea  FormalCharge  \\\n",
       "Drug                                                                        \n",
       "Abiraterone                             2             33.12             0   \n",
       "Acebutolol                              5             87.66             0   \n",
       "Acenocoumarol                           5            109.42             0   \n",
       "Acepromazine                            3             23.55             0   \n",
       "Aceprometazine                          3             23.55             0   \n",
       "...                                   ...               ...           ...   \n",
       "Zidovudine                              6            108.30             0   \n",
       "Ziprasidone                             4             48.47             0   \n",
       "Zoledronate                             8            153.11             0   \n",
       "Zolpidem                                2             37.61             0   \n",
       "Zopiclone                               6             91.76             0   \n",
       "\n",
       "                NumRings  RotatableBondCount  Refractivity  ...   Prostate  \\\n",
       "Drug                                                        ...              \n",
       "Abiraterone          5.0                   1      107.3024  ...   0.804379   \n",
       "Acebutolol           1.0                  10       94.8692  ...   4.420117   \n",
       "Acenocoumarol        3.0                   5       94.1848  ...   0.282973   \n",
       "Acepromazine         3.0                   5       99.3543  ...   1.126801   \n",
       "Aceprometazine       3.0                   4       98.9077  ...   1.168346   \n",
       "...                  ...                 ...           ...  ...        ...   \n",
       "Zidovudine           2.0                   3       61.7045  ...   0.007795   \n",
       "Ziprasidone          5.0                   4      116.7248  ...  10.000000   \n",
       "Zoledronate          1.0                   4       52.1577  ...  10.000000   \n",
       "Zolpidem             3.0                   3       93.5837  ...   0.022757   \n",
       "Zopiclone            4.0                   3       95.8855  ...  10.000000   \n",
       "\n",
       "                   Spleen      Liver  Fallopian Tube      Ovary     Breast  \\\n",
       "Drug                                                                         \n",
       "Abiraterone      0.734742   1.722980        0.994414   0.943392   0.736495   \n",
       "Acebutolol       6.518067   2.618737        2.319843   0.295605  10.000000   \n",
       "Acenocoumarol    0.368951   0.988317        0.426425   0.430046   0.356781   \n",
       "Acepromazine     7.962256   7.432229        3.192496   1.602348   1.393756   \n",
       "Aceprometazine   0.453772   0.050176        2.241176   1.707206   2.094832   \n",
       "...                   ...        ...             ...        ...        ...   \n",
       "Zidovudine       0.212996   0.000000        0.012702   0.000000   0.002419   \n",
       "Ziprasidone     10.000000   7.432229       10.000000  10.000000  10.000000   \n",
       "Zoledronate     10.000000  10.000000       10.000000  10.000000  10.000000   \n",
       "Zolpidem         0.084591   0.002944        0.011369   0.036844   0.183469   \n",
       "Zopiclone       10.000000  10.000000       10.000000  10.000000  10.000000   \n",
       "\n",
       "                  Bladder  Cervix Uteri  Small Intestine  Salivary Gland  \n",
       "Drug                                                                      \n",
       "Abiraterone      0.780652      0.809155         0.377117        0.300038  \n",
       "Acebutolol       2.251212      3.500741         2.735411        5.831739  \n",
       "Acenocoumarol    0.478249      0.500222         0.492640        0.357384  \n",
       "Acepromazine     0.529358      0.387122         0.974304        6.041281  \n",
       "Aceprometazine   2.018864      2.547429         1.588867        0.826448  \n",
       "...                   ...           ...              ...             ...  \n",
       "Zidovudine       0.000000      0.005181         0.521985        0.053856  \n",
       "Ziprasidone      5.551624     10.000000         4.168484        6.041281  \n",
       "Zoledronate     10.000000     10.000000        10.000000       10.000000  \n",
       "Zolpidem         0.095469      0.133877         0.266289        0.102146  \n",
       "Zopiclone       10.000000     10.000000        10.000000       10.000000  \n",
       "\n",
       "[828 rows x 48 columns]"
      ]
     },
     "execution_count": 4,
     "metadata": {},
     "output_type": "execute_result"
    }
   ],
   "source": [
    "df = pd.read_csv(path + \"/PrOCTOR_sample_data_all.csv\")\n",
    "df.set_index(\"Drug\", inplace=True)\n",
    "df"
   ]
  },
  {
   "cell_type": "code",
   "execution_count": 5,
   "metadata": {},
   "outputs": [],
   "source": [
    "def shownull(df):\n",
    "    global missval_name\n",
    "    print(f\"데이터셋 차원 확인 \\n {df.shape}\")\n",
    "    missval = df.isnull().sum()[df.isnull().sum()!=0]\n",
    "    print(f\"결측값 있는 변수 확인 \\n {missval}\")\n",
    "    missval_name = missval.index #결측값 있는 변수 이름 벡터로 추출"
   ]
  },
  {
   "cell_type": "code",
   "execution_count": 6,
   "metadata": {},
   "outputs": [
    {
     "name": "stdout",
     "output_type": "stream",
     "text": [
      "데이터셋 차원 확인 \n",
      " (828, 48)\n",
      "결측값 있는 변수 확인 \n",
      " NumRings                1\n",
      "LogpSolubility         21\n",
      "Ro5                     1\n",
      "Ghose                   1\n",
      "Veber                   1\n",
      "ExAC_loss_frequency    31\n",
      "dtype: int64\n"
     ]
    }
   ],
   "source": [
    "shownull(df)"
   ]
  },
  {
   "cell_type": "markdown",
   "metadata": {},
   "source": [
    "### 결측값 대체 - 중앙값"
   ]
  },
  {
   "cell_type": "markdown",
   "metadata": {},
   "source": [
    "1 -1) 중앙값으로 결측값을 대체"
   ]
  },
  {
   "cell_type": "code",
   "execution_count": 7,
   "metadata": {},
   "outputs": [
    {
     "name": "stdout",
     "output_type": "stream",
     "text": [
      "NumRings 변수의 결측값 : 0\n",
      "LogpSolubility 변수의 결측값 : 0\n",
      "Ro5 변수의 결측값 : 0\n",
      "Ghose 변수의 결측값 : 0\n",
      "Veber 변수의 결측값 : 0\n",
      "ExAC_loss_frequency 변수의 결측값 : 0\n"
     ]
    }
   ],
   "source": [
    "df_med = df.copy()\n",
    "for i in range(0,len(missval_name)):\n",
    "    df_med[missval_name[i]] = df_med[missval_name[i]].replace(np.NaN, df_med[missval_name[i]].median())\n",
    "    print(missval_name[i],\"변수의 결측값 :\", df_med[missval_name[i]].isnull().sum())"
   ]
  },
  {
   "cell_type": "markdown",
   "metadata": {},
   "source": [
    "1 - 2) 중앙값 대체에 대한 SGD Classifier 분류"
   ]
  },
  {
   "cell_type": "code",
   "execution_count": 8,
   "metadata": {},
   "outputs": [],
   "source": [
    "df_med[\"Label\"].replace({'failed':0, 'passed':1}, inplace=True) #문자 범주형 변수를 숫자로 dummy화 함\n",
    "x1 = df_med.drop(\"Label\", axis=1)\n",
    "y1 = df_med[\"Label\"]"
   ]
  },
  {
   "cell_type": "code",
   "execution_count": 9,
   "metadata": {},
   "outputs": [],
   "source": [
    "X1_train, X1_test, y_train_med, y_test_med = train_test_split(x1, y1, test_size=0.3)"
   ]
  },
  {
   "cell_type": "code",
   "execution_count": 10,
   "metadata": {},
   "outputs": [],
   "source": [
    "scaler = StandardScaler()\n",
    "\n",
    "X_train_med = X1_train.copy()\n",
    "X_train_med_numval = X_train_med.drop(['Ro5', 'Ghose', 'Veber'], axis=1)\n",
    "X_train_med[X_train_med_numval.columns] = scaler.fit_transform(X_train_med_numval)\n",
    "\n",
    "X_test_med = X1_test.copy()\n",
    "X_test_numval = X_test_med.drop(['Ro5', 'Ghose', 'Veber'], axis=1)\n",
    "X_test_med[X_test_numval.columns] = scaler.transform(X_test_numval)"
   ]
  },
  {
   "cell_type": "code",
   "execution_count": 11,
   "metadata": {},
   "outputs": [],
   "source": [
    "model_med= SGDClassifier(loss='log_loss')\n",
    "model_med.fit(X_train_med,y_train_med)\n",
    "y_pred_med = model_med.predict(X_test_med)"
   ]
  },
  {
   "cell_type": "markdown",
   "metadata": {},
   "source": [
    "1 - 3) Accuracy, AUC, AUPRC, F1-Score, Matthews correlation coefficient (MCC)"
   ]
  },
  {
   "cell_type": "code",
   "execution_count": 12,
   "metadata": {},
   "outputs": [
    {
     "name": "stdout",
     "output_type": "stream",
     "text": [
      "[[  0  27]\n",
      " [  8 214]]\n",
      "F1-Score : 0.9244060475161988\n"
     ]
    }
   ],
   "source": [
    "print(confusion_matrix(y_test_med, y_pred_med))\n",
    "#F1-score\n",
    "print(\"F1-Score :\", f1_score(y_test_med, y_pred_med))"
   ]
  },
  {
   "cell_type": "markdown",
   "metadata": {},
   "source": [
    "### 결측값 대체 - MICE"
   ]
  },
  {
   "cell_type": "markdown",
   "metadata": {},
   "source": [
    "2-1) MICE로 결측값을 대체"
   ]
  },
  {
   "cell_type": "code",
   "execution_count": 13,
   "metadata": {},
   "outputs": [],
   "source": [
    "from sklearn.experimental import enable_iterative_imputer\n",
    "from sklearn.impute import IterativeImputer"
   ]
  },
  {
   "cell_type": "code",
   "execution_count": 14,
   "metadata": {},
   "outputs": [],
   "source": [
    "df_mice = df.copy()\n",
    "df_mice[\"Label\"].replace({'failed':0, 'passed':1}, inplace=True) #문자 범주형 변수를 숫자로 dummy화 함\n",
    "x2 = df_mice.drop(\"Label\", axis=1)\n",
    "y2 = df_mice[\"Label\"]"
   ]
  },
  {
   "cell_type": "code",
   "execution_count": 15,
   "metadata": {},
   "outputs": [
    {
     "name": "stdout",
     "output_type": "stream",
     "text": [
      "변수의 결측값 : \n",
      " NumRings               0\n",
      "LogpSolubility         0\n",
      "Ro5                    0\n",
      "Ghose                  0\n",
      "Veber                  0\n",
      "ExAC_loss_frequency    0\n",
      "dtype: int64\n"
     ]
    }
   ],
   "source": [
    "imputer = IterativeImputer(random_state=2023)\n",
    "x2[missval_name] = imputer.fit_transform(x2[missval_name])\n",
    "print(\"변수의 결측값 :\",\"\\n\",x2[missval_name].isnull().sum())"
   ]
  },
  {
   "cell_type": "markdown",
   "metadata": {},
   "source": [
    "2 - 2) MICE 대체에 대한 SGD Classifier 분류"
   ]
  },
  {
   "cell_type": "code",
   "execution_count": 16,
   "metadata": {},
   "outputs": [],
   "source": [
    "X2_train, X2_test, y_train_mice, y_test_mice = train_test_split(x2, y2, test_size=0.3)"
   ]
  },
  {
   "cell_type": "code",
   "execution_count": 17,
   "metadata": {},
   "outputs": [],
   "source": [
    "scaler = StandardScaler()\n",
    "\n",
    "X_train_mice = X2_train.copy()\n",
    "X_train_mice_numval = X_train_mice.drop(['Ro5', 'Ghose', 'Veber'], axis=1)\n",
    "X_train_mice[X_train_mice_numval.columns] = scaler.fit_transform(X_train_mice_numval)\n",
    "\n",
    "X_test_mice = X2_test.copy()\n",
    "X_test_mice_numval = X_test_mice.drop(['Ro5', 'Ghose', 'Veber'], axis=1)\n",
    "X_test_mice[X_test_mice_numval.columns] = scaler.transform(X_test_mice_numval)"
   ]
  },
  {
   "cell_type": "code",
   "execution_count": 18,
   "metadata": {},
   "outputs": [],
   "source": [
    "model_mice = SGDClassifier(loss='log_loss')\n",
    "model_mice.fit(X_train_mice,y_train_mice)\n",
    "y_pred_mice = model_mice.predict(X_test_mice)"
   ]
  },
  {
   "cell_type": "markdown",
   "metadata": {},
   "source": [
    "2 - 3) Accuracy, AUC, AUPRC, F1-Score, Matthews correlation coefficient (MCC)"
   ]
  },
  {
   "cell_type": "code",
   "execution_count": 19,
   "metadata": {},
   "outputs": [
    {
     "name": "stdout",
     "output_type": "stream",
     "text": [
      "[[  1  14]\n",
      " [  4 230]]\n",
      "F1-Score : 0.9623430962343097\n"
     ]
    }
   ],
   "source": [
    "print(confusion_matrix(y_test_mice, y_pred_mice))\n",
    "\n",
    "#F1-score\n",
    "print(\"F1-Score :\", f1_score(y_test_mice, y_pred_mice))"
   ]
  },
  {
   "cell_type": "markdown",
   "metadata": {},
   "source": [
    "### 결론\n"
   ]
  },
  {
   "cell_type": "code",
   "execution_count": 80,
   "metadata": {},
   "outputs": [
    {
     "data": {
      "text/plain": [
       "<function matplotlib.pyplot.show(close=None, block=None)>"
      ]
     },
     "execution_count": 80,
     "metadata": {},
     "output_type": "execute_result"
    },
    {
     "data": {
      "image/png": "[encoded data removed]",
      "text/plain": [
       "<Figure size 1000x500 with 4 Axes>"
      ]
     },
     "metadata": {},
     "output_type": "display_data"
    }
   ],
   "source": [
    "plt.rcParams['figure.figsize'] = [10, 5] #[width, height] (inches)\n",
    "f,(ax1,ax2) = plt.subplots(1,2)\n",
    "plt.subplots_adjust(wspace=0.25)\n",
    "\n",
    "med_cm = sns.heatmap(confusion_matrix(y_test_med, y_pred_med), annot=True, fmt='g', ax=ax1)\n",
    "med_cm.set_title('by Median')\n",
    "med_cm.set_ylabel('Actual')\n",
    "med_cm.set_xlabel('Predict')\n",
    "med_cm.annotate('F1-Score : 0.9244',xy=(0.5,0.95), color='white')\n",
    "\n",
    "mice_cm = sns.heatmap(confusion_matrix(y_test_mice, y_pred_mice), annot=True, fmt='g', ax=ax2)\n",
    "mice_cm.set_title('by MICE')\n",
    "mice_cm.set_ylabel('Actual')\n",
    "mice_cm.set_xlabel('Predict')\n",
    "mice_cm.annotate('F1-Score : 0.9623',xy=(0.5,0.95), color='white')\n",
    "\n",
    "plt.show"
   ]
  },
  {
   "attachments": {},
   "cell_type": "markdown",
   "metadata": {},
   "source": [
    "결측치가 존재하는 이 데이터에 대해 SGDClassification을 했을때, 중위값으로 결측치를 대체했을때보다 MICE로 결측치 대체를 했을때 F1-Score가 더 높은 값이 나왔다. 다만 큰 차이는 나타나지 않았으며 둘 다 높은 성능으로 나타났다. 학기 중에 제출했던 과제 코드에는 Scaler를 적용할때 범주형 변수를 고려하지 않았고, MICE를 할때 결측치를 X와 Y를 구분하지 않고 대체했다. 기존의 코드에서는 중위값대체, MICE대체에서 각각 F1-Score가 0.89, 0.91 정도 나왔었는데 다시 수정한 코드가 옳게 수정되었음을 보인다."
   ]
  }
 ],
 "metadata": {
  "kernelspec": {
   "display_name": "kernel01",
   "language": "python",
   "name": "donktark"
  },
  "language_info": {
   "codemirror_mode": {
    "name": "ipython",
    "version": 3
   },
   "file_extension": ".py",
   "mimetype": "text/x-python",
   "name": "python",
   "nbconvert_exporter": "python",
   "pygments_lexer": "ipython3",
   "version": "3.9.6"
  },
  "orig_nbformat": 4
 },
 "nbformat": 4,
 "nbformat_minor": 2
}
